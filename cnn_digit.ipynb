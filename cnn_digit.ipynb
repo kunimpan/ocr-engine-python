{
 "cells": [
  {
   "cell_type": "code",
   "execution_count": 10,
   "metadata": {},
   "outputs": [],
   "source": [
    "from pathlib import Path\n",
    "import numpy as np\n",
    "import pandas as pd\n",
    "import cv2\n",
    "from sklearn.model_selection import train_test_split\n",
    "import matplotlib.pyplot as plt"
   ]
  },
  {
   "cell_type": "code",
   "execution_count": null,
   "metadata": {},
   "outputs": [
    {
     "name": "stdout",
     "output_type": "stream",
     "text": [
      "Downloading data from https://storage.googleapis.com/tensorflow/tf-keras-datasets/mnist.npz\n",
      "\u001b[1m11490434/11490434\u001b[0m \u001b[32m━━━━━━━━━━━━━━━━━━━━\u001b[0m\u001b[37m\u001b[0m \u001b[1m2s\u001b[0m 0us/step\n"
     ]
    }
   ],
   "source": [
    "from tensorflow.keras.datasets.mnist import load_data\n",
    "\n",
    "(X_train, y_train), (X_test, y_test) = load_data()"
   ]
  },
  {
   "cell_type": "code",
   "execution_count": 4,
   "metadata": {},
   "outputs": [
    {
     "name": "stdout",
     "output_type": "stream",
     "text": [
      "(60000, 28, 28)\n",
      "(10000, 28, 28)\n"
     ]
    }
   ],
   "source": [
    "print(X_train. shape)\n",
    "print(X_test.shape)\n"
   ]
  },
  {
   "cell_type": "code",
   "execution_count": 6,
   "metadata": {},
   "outputs": [
    {
     "name": "stdout",
     "output_type": "stream",
     "text": [
      "(60000,)\n",
      "(10000,)\n"
     ]
    }
   ],
   "source": [
    "print(y_train.shape)\n",
    "print(y_test. shape)"
   ]
  },
  {
   "cell_type": "code",
   "execution_count": null,
   "metadata": {},
   "outputs": [
    {
     "data": {
      "text/plain": [
       "array([5, 0, 4, 1, 9, 2, 1, 3, 1, 4], dtype=uint8)"
      ]
     },
     "execution_count": 8,
     "metadata": {},
     "output_type": "execute_result"
    }
   ],
   "source": [
    "X_test.shape, y_test.shape\n",
    "y_train[0:10]"
   ]
  },
  {
   "cell_type": "code",
   "execution_count": 11,
   "metadata": {},
   "outputs": [
    {
     "name": "stdout",
     "output_type": "stream",
     "text": [
      "[0 1 2 3 4 5 6 7 8 9]\n"
     ]
    }
   ],
   "source": [
    "print(np.unique(y_train))"
   ]
  },
  {
   "cell_type": "markdown",
   "metadata": {},
   "source": [
    "# Visualization"
   ]
  },
  {
   "cell_type": "code",
   "execution_count": 12,
   "metadata": {},
   "outputs": [
    {
     "data": {
      "text/plain": [
       "array([[  0,   0,   0,   0,   0,   0,   0,   0,   0,   0,   0,   0,   0],\n",
       "       [  0,   0,   0,   0,   0,   0,   0,   0,   0,   0,   0,   0,   0],\n",
       "       [  0,   0,   0,   0,   0,   0,   0,   0,   0,   0,   0,   0,   0],\n",
       "       [  0,   0,   0,   0,   0,   0,   0,   0,   0,   0,   0,   0,   0],\n",
       "       [  0,   0,   0,   0,   0,   0,   0,   0,   0,   0,   0,   0,   0],\n",
       "       [  0,   0,   0,   0,   0,   3,  18,  18,  18, 126, 136, 175,  26],\n",
       "       [  0,  30,  36,  94, 154, 170, 253, 253, 253, 253, 253, 225, 172],\n",
       "       [ 49, 238, 253, 253, 253, 253, 253, 253, 253, 253, 251,  93,  82],\n",
       "       [ 18, 219, 253, 253, 253, 253, 253, 198, 182, 247, 241,   0,   0],\n",
       "       [  0,  80, 156, 107, 253, 253, 205,  11,   0,  43, 154,   0,   0],\n",
       "       [  0,   0,  14,   1, 154, 253,  90,   0,   0,   0,   0,   0,   0],\n",
       "       [  0,   0,   0,   0, 139, 253, 190,   2,   0,   0,   0,   0,   0],\n",
       "       [  0,   0,   0,   0,  11, 190, 253,  70,   0,   0,   0,   0,   0],\n",
       "       [  0,   0,   0,   0,   0,  35, 241, 225, 160, 108,   1,   0,   0],\n",
       "       [  0,   0,   0,   0,   0,   0,  81, 240, 253, 253, 119,  25,   0],\n",
       "       [  0,   0,   0,   0,   0,   0,   0,  45, 186, 253, 253, 150,  27],\n",
       "       [  0,   0,   0,   0,   0,   0,   0,   0,  16,  93, 252, 253, 187],\n",
       "       [  0,   0,   0,   0,   0,   0,   0,   0,   0,   0, 249, 253, 249],\n",
       "       [  0,   0,   0,   0,   0,   0,   0,  46, 130, 183, 253, 253, 207],\n",
       "       [  0,   0,   0,   0,   0,  39, 148, 229, 253, 253, 253, 250, 182],\n",
       "       [  0,   0,   0,  24, 114, 221, 253, 253, 253, 253, 201,  78,   0],\n",
       "       [  0,  23,  66, 213, 253, 253, 253, 253, 198,  81,   2,   0,   0],\n",
       "       [171, 219, 253, 253, 253, 253, 195,  80,   9,   0,   0,   0,   0],\n",
       "       [253, 253, 253, 253, 244, 133,  11,   0,   0,   0,   0,   0,   0],\n",
       "       [253, 212, 135, 132,  16,   0,   0,   0,   0,   0,   0,   0,   0],\n",
       "       [  0,   0,   0,   0,   0,   0,   0,   0,   0,   0,   0,   0,   0],\n",
       "       [  0,   0,   0,   0,   0,   0,   0,   0,   0,   0,   0,   0,   0],\n",
       "       [  0,   0,   0,   0,   0,   0,   0,   0,   0,   0,   0,   0,   0]],\n",
       "      dtype=uint8)"
      ]
     },
     "execution_count": 12,
     "metadata": {},
     "output_type": "execute_result"
    }
   ],
   "source": [
    "X_train[0]\n",
    "X_train[0][0:, 7:20]"
   ]
  },
  {
   "cell_type": "code",
   "execution_count": null,
   "metadata": {},
   "outputs": [],
   "source": []
  }
 ],
 "metadata": {
  "kernelspec": {
   "display_name": "tf",
   "language": "python",
   "name": "python3"
  },
  "language_info": {
   "codemirror_mode": {
    "name": "ipython",
    "version": 3
   },
   "file_extension": ".py",
   "mimetype": "text/x-python",
   "name": "python",
   "nbconvert_exporter": "python",
   "pygments_lexer": "ipython3",
   "version": "3.12.4"
  }
 },
 "nbformat": 4,
 "nbformat_minor": 2
}
