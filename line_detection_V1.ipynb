{
 "cells": [
  {
   "cell_type": "markdown",
   "metadata": {},
   "source": [
    "# Line Detection V1\n",
    "1. เวอร์ชั่นนี้จะเป็นการตรวจจับบรรทัดแบบทั้งแถวเลย\n",
    "2. เรียงตัวอักษรจากซ้ายไปขวา"
   ]
  },
  {
   "cell_type": "markdown",
   "metadata": {},
   "source": [
    "## Histogram Projection\n",
    "ใช้ Histogram Projection เพื่อแยกบรรทัดในแนวนอน:"
   ]
  },
  {
   "cell_type": "code",
   "execution_count": 73,
   "metadata": {},
   "outputs": [
    {
     "name": "stdout",
     "output_type": "stream",
     "text": [
      "Lines detected: [(23, 212), (339, 528)]\n"
     ]
    },
    {
     "data": {
      "text/plain": [
       "True"
      ]
     },
     "execution_count": 73,
     "metadata": {},
     "output_type": "execute_result"
    }
   ],
   "source": [
    "import cv2\n",
    "import numpy as np\n",
    "import matplotlib.pyplot as plt\n",
    "\n",
    "# โหลดภาพ\n",
    "image = cv2.imread(\"images/for_line_detection/0to9_2.jpg\")\n",
    "if image is None:\n",
    "    raise FileNotFoundError(\"ไม่พบไฟล์ภาพ กรุณาตรวจสอบเส้นทางของไฟล์\")\n",
    "\n",
    "# แปลงเป็น Grayscale\n",
    "gray = cv2.cvtColor(image, cv2.COLOR_BGR2GRAY)\n",
    "\n",
    "\n",
    "_, binary_image = cv2.threshold(gray, 200, 255, cv2.THRESH_BINARY_INV)  # Threshold ขาวดำ\n",
    "\n",
    "'''\n",
    "# การ Threshold แบบ Adaptive Gaussian\n",
    "ath_gaussian = cv2.adaptiveThreshold(\n",
    "    gray, 255, cv2.ADAPTIVE_THRESH_GAUSSIAN_C, cv2.THRESH_BINARY_INV, 51,30\n",
    ")\n",
    "'''\n",
    "\n",
    "# คำนวณ Histogram Projection\n",
    "horizontal_projection = np.sum(binary_image, axis=1)  # รวมพิกเซลในแนวนอน\n",
    "\n",
    "# หาตำแหน่งที่มีข้อความ\n",
    "line_indices = np.where(horizontal_projection > 0)[0]\n",
    "\n",
    "#print(horizontal_projection)\n",
    "#print(line_indices)\n",
    "\n",
    "# แยกช่วงตำแหน่งแต่ละบรรทัด\n",
    "lines = []\n",
    "start_idx = None\n",
    "\n",
    "for i in range(len(line_indices) - 1):\n",
    "    if start_idx is None:\n",
    "        start_idx = line_indices[i]\n",
    "    if line_indices[i+1] > line_indices[i] + 1:  # เจอช่วงว่างระหว่างบรรทัด\n",
    "        end_idx = line_indices[i]\n",
    "        lines.append((start_idx, end_idx))\n",
    "        start_idx = None\n",
    "if start_idx is not None:\n",
    "    lines.append((start_idx, line_indices[-1]))\n",
    "\n",
    "print(\"Lines detected:\", lines)\n",
    "\n",
    "\n",
    "\n",
    "# บันทึกภาพผลลัพธ์ที่มีกรอบล้อมรอบ\n",
    "cv2.imwrite(\"images/for_line_detection/output/binary_image.jpg\", binary_image)\n"
   ]
  },
  {
   "cell_type": "markdown",
   "metadata": {},
   "source": [
    "## Word/Character Detection\n",
    "ใช้ cv2.findContours เพื่อตรวจจับตัวอักษรหรือคำในแต่ละบรรทัด:"
   ]
  },
  {
   "cell_type": "code",
   "execution_count": 74,
   "metadata": {},
   "outputs": [
    {
     "name": "stdout",
     "output_type": "stream",
     "text": [
      "2\n"
     ]
    }
   ],
   "source": [
    "line_of_characters = []  # เก็บตัวอักษรทั้งหมด\n",
    "i = 0\n",
    "for (start_y, end_y) in lines:\n",
    "    characters = []\n",
    "    # ตัดภาพเฉพาะบรรทัด\n",
    "    line_image = binary_image[start_y:end_y, :]\n",
    "    cv2.imwrite(f\"images/for_line_detection/output/line_image{i}.jpg\", line_image)\n",
    "    i+=1\n",
    "\n",
    "    # หาขอบเขตของตัวอักษรในบรรทัด\n",
    "    contours, _ = cv2.findContours(line_image, cv2.RETR_EXTERNAL, cv2.CHAIN_APPROX_SIMPLE)\n",
    "    for contour in contours:\n",
    "        \n",
    "        x, y, w, h = cv2.boundingRect(contour)\n",
    "\n",
    "        # กรองตัวอักษรที่มีขนาดเล็กเกินไป\n",
    "        if w > 3 and h > 3:  # ปรับค่าตามลักษณะของตัวอักษร\n",
    "            \n",
    "            # เพิ่มขนาดกรอบ 20%\n",
    "            margin_x = int(w * 0.2)\n",
    "            margin_y = int(h * 0.2)\n",
    "\n",
    "            # ปรับตำแหน่งและขนาดของกรอบ\n",
    "            new_x = max(0, x - margin_x)\n",
    "            new_y = max(0, start_y + y - margin_y)\n",
    "            new_w = min(image.shape[1], x + w + margin_x) - new_x\n",
    "            new_h = min(image.shape[0], start_y + y + h + margin_y) - new_y\n",
    "            \n",
    "            characters.append((new_x, new_y, new_w, new_h))  # บันทึกกรอบขยาย\n",
    "            \n",
    "    line_of_characters.append(characters)  # บันทึกกรอบขยาย\n",
    "\n",
    "print(len(line_of_characters))      \n"
   ]
  },
  {
   "cell_type": "code",
   "execution_count": 75,
   "metadata": {},
   "outputs": [
    {
     "name": "stdout",
     "output_type": "stream",
     "text": [
      "จำนวนบรรทัดตรวจจับได้: 2\n",
      "บรรทัดที่ 1: x,y,w,h [(592, 0, 137, 248), (174, 0, 84, 248), (452, 0, 121, 249), (306, 0, 121, 248), (9, 0, 123, 249)]\n",
      "บรรทัดที่ 2: x,y,w,h [(304, 305, 122, 248), (11, 305, 121, 248), (598, 302, 123, 251), (449, 302, 127, 251), (157, 302, 123, 251)]\n"
     ]
    }
   ],
   "source": [
    "# แสดงผลจำนวนบรรทัดและตัวอักษร\n",
    "print(f\"จำนวนบรรทัดตรวจจับได้: {len(line_of_characters)}\")\n",
    "for i, img in enumerate(line_of_characters):\n",
    "    print(f\"บรรทัดที่ {i+1}: x,y,w,h {line_of_characters[i]}\")"
   ]
  },
  {
   "cell_type": "markdown",
   "metadata": {},
   "source": [
    "### Visualization ก่อนเรียงลำดับ"
   ]
  },
  {
   "cell_type": "code",
   "execution_count": 76,
   "metadata": {},
   "outputs": [
    {
     "data": {
      "image/png": "[encoded data removed]",
      "text/plain": [
       "<Figure size 640x480 with 1 Axes>"
      ]
     },
     "metadata": {},
     "output_type": "display_data"
    }
   ],
   "source": [
    "import matplotlib.pyplot as plt\n",
    "\n",
    "idx = 3\n",
    "img = cropped_images[idx]                  # image at index\n",
    "plt.imshow(img, cmap=plt.cm.gray_r) # actutal BG is black (invert)\n",
    "#plt.imshow(img, cmap=plt.cm.gray)  \n",
    "\n",
    "plt.grid() \n",
    "plt.show()"
   ]
  },
  {
   "cell_type": "markdown",
   "metadata": {},
   "source": [
    "## Sorting (การเรียงลำดับตัวอักษร)\n",
    "เรียงลำดับตัวอักษรในแต่ละบรรทัดจากซ้ายไปขวา:"
   ]
  },
  {
   "cell_type": "code",
   "execution_count": null,
   "metadata": {},
   "outputs": [
    {
     "name": "stdout",
     "output_type": "stream",
     "text": [
      "จำนวนตัวอักษรที่ตรวจจับได้: 10\n",
      "ตัวอักษรที่ 1: x,y,w,h (9, 0, 123, 249)\n",
      "ตัวอักษรที่ 2: x,y,w,h (174, 0, 84, 248)\n",
      "ตัวอักษรที่ 3: x,y,w,h (306, 0, 121, 248)\n",
      "ตัวอักษรที่ 4: x,y,w,h (452, 0, 121, 249)\n",
      "ตัวอักษรที่ 5: x,y,w,h (592, 0, 137, 248)\n",
      "ตัวอักษรที่ 6: x,y,w,h (11, 305, 121, 248)\n",
      "ตัวอักษรที่ 7: x,y,w,h (157, 302, 123, 251)\n",
      "ตัวอักษรที่ 8: x,y,w,h (304, 305, 122, 248)\n",
      "ตัวอักษรที่ 9: x,y,w,h (449, 302, 127, 251)\n",
      "ตัวอักษรที่ 10: x,y,w,h (598, 302, 123, 251)\n"
     ]
    }
   ],
   "source": [
    "# เรียงตัวอักษรตาม y (บรรทัด) ก่อน แล้วตาม x (ในบรรทัด)\n",
    "#characters = sorted(characters, key=lambda c: (c[0]))\n",
    "sorted_letters = []\n",
    "for i, characters_in_line in enumerate(line_of_characters):\n",
    "    sorted_letters.extend(sorted(characters_in_line, key=lambda c: (c[0])))\n",
    "\n",
    "# ตัดภาพและเก็บในรูปแบบอาร์เรย์\n",
    "cropped_images = []\n",
    "for (x, y, w, h) in sorted_letters:\n",
    "    cropped_image = image[y:y+h, x:x+w]  # ตัดภาพจากกรอบ\n",
    "    cropped_images.append(cropped_image)  # เก็บภาพในรายการ\n",
    "\n",
    "# แสดงผลจำนวนตัวอักษรและขนาดของ cropped images\n",
    "print(f\"จำนวนตัวอักษรที่ตรวจจับได้: {len(cropped_images)}\")\n",
    "for i, img in enumerate(cropped_images):\n",
    "    #print(f\"ตัวอักษรที่ {i+1}: ขนาดภาพ {img.shape}\")\n",
    "    print(f\"ตัวอักษรที่ {i+1}: x,y,w,h {sorted_letters[i]}\")"
   ]
  },
  {
   "cell_type": "markdown",
   "metadata": {},
   "source": [
    "### Visualization หลังเรียงลำดับ"
   ]
  },
  {
   "cell_type": "code",
   "execution_count": 78,
   "metadata": {},
   "outputs": [
    {
     "data": {
      "image/png": "[encoded data removed]",
      "text/plain": [
       "<Figure size 900x500 with 10 Axes>"
      ]
     },
     "metadata": {},
     "output_type": "display_data"
    }
   ],
   "source": [
    "def visual_multi(i):\n",
    "    nplots = len(cropped_images)\n",
    "    fig = plt.figure(figsize=(9, 5))\n",
    "    for j in range(nplots):\n",
    "        plt.subplot(4, 10, j+1)\n",
    "        plt.imshow(cropped_images[i+j], cmap=plt.cm.gray_r)\n",
    "        #plt.title(y_train[i+j])\n",
    "    \n",
    "    plt.show()\n",
    "visual_multi(0) # ตัวเริ่มจากเลขอะไร"
   ]
  },
  {
   "cell_type": "markdown",
   "metadata": {},
   "source": [
    "## Predict\n",
    "ส่งให้โมเดลทำนาย:"
   ]
  },
  {
   "cell_type": "code",
   "execution_count": 79,
   "metadata": {},
   "outputs": [
    {
     "name": "stdout",
     "output_type": "stream",
     "text": [
      "Model: \"sequential\"\n",
      "_________________________________________________________________\n",
      " Layer (type)                Output Shape              Param #   \n",
      "=================================================================\n",
      " conv2d (Conv2D)             (None, 30, 30, 32)        320       \n",
      "                                                                 \n",
      " max_pooling2d (MaxPooling2D  (None, 15, 15, 32)       0         \n",
      " )                                                               \n",
      "                                                                 \n",
      " conv2d_1 (Conv2D)           (None, 13, 13, 64)        18496     \n",
      "                                                                 \n",
      " max_pooling2d_1 (MaxPooling  (None, 6, 6, 64)         0         \n",
      " 2D)                                                             \n",
      "                                                                 \n",
      " flatten (Flatten)           (None, 2304)              0         \n",
      "                                                                 \n",
      " dense (Dense)               (None, 128)               295040    \n",
      "                                                                 \n",
      " dense_1 (Dense)             (None, 10)                1290      \n",
      "                                                                 \n",
      "=================================================================\n",
      "Total params: 315,146\n",
      "Trainable params: 315,146\n",
      "Non-trainable params: 0\n",
      "_________________________________________________________________\n"
     ]
    }
   ],
   "source": [
    "from tensorflow.keras.models import load_model\n",
    "\n",
    "model = load_model('model/numrals_model.h5') # Load model\n",
    "model.summary() "
   ]
  },
  {
   "cell_type": "code",
   "execution_count": 83,
   "metadata": {},
   "outputs": [
    {
     "name": "stdout",
     "output_type": "stream",
     "text": [
      "1/1 [==============================] - 0s 16ms/step\n",
      "Predicted: 0 | [[1. 0. 0. 0. 0. 0. 0. 0. 0. 0.]] %\n",
      "1/1 [==============================] - 0s 18ms/step\n",
      "Predicted: 3 | [[0.   0.12 0.01 0.72 0.   0.   0.   0.15 0.   0.  ]] %\n",
      "1/1 [==============================] - 0s 15ms/step\n",
      "Predicted: 2 | [[0. 0. 1. 0. 0. 0. 0. 0. 0. 0.]] %\n",
      "1/1 [==============================] - 0s 16ms/step\n",
      "Predicted: 3 | [[0. 0. 0. 1. 0. 0. 0. 0. 0. 0.]] %\n",
      "1/1 [==============================] - 0s 15ms/step\n",
      "Predicted: 4 | [[0. 0. 0. 0. 1. 0. 0. 0. 0. 0.]] %\n",
      "1/1 [==============================] - 0s 17ms/step\n",
      "Predicted: 5 | [[0. 0. 0. 0. 0. 1. 0. 0. 0. 0.]] %\n",
      "1/1 [==============================] - 0s 17ms/step\n",
      "Predicted: 6 | [[0.08 0.   0.   0.   0.   0.01 0.66 0.   0.25 0.  ]] %\n",
      "1/1 [==============================] - 0s 16ms/step\n",
      "Predicted: 7 | [[0. 0. 0. 0. 0. 0. 0. 1. 0. 0.]] %\n",
      "1/1 [==============================] - 0s 15ms/step\n",
      "Predicted: 0 | [[0.97 0.   0.   0.   0.   0.   0.   0.   0.03 0.  ]] %\n",
      "1/1 [==============================] - 0s 16ms/step\n",
      "Predicted: 0 | [[1. 0. 0. 0. 0. 0. 0. 0. 0. 0.]] %\n"
     ]
    }
   ],
   "source": [
    "from tensorflow.image import rgb_to_grayscale\n",
    "from tensorflow.image import resize\n",
    "import numpy as np\n",
    "\n",
    "cropped_characters = []\n",
    "\n",
    "for img in cropped_images:\n",
    "\n",
    "    # ตัดตัวอักษร\n",
    "    #cropped_char = image[y:y+h, x:x+w]\n",
    "    #cropped_characters.append(cropped_char)\n",
    "\n",
    "    # ตัวอย่างการใช้โมเดลทำนาย\n",
    "    resized_char = cv2.resize(img, (32, 32))  # Resize ให้ตรงกับ input ของโมเดล\n",
    "\n",
    "    # ตรวจสอบว่าภาพเป็น RGB หรือไม่\n",
    "    if resized_char.shape[-1] == 3:  # ถ้าเป็นภาพสี\n",
    "        grayscale_image = rgb_to_grayscale(resized_char)\n",
    "    else:\n",
    "        grayscale_image = resized_char[..., np.newaxis]  # เพิ่มแกนช่องสี\n",
    "\n",
    "    normalized_char = grayscale_image / 255  # Normalize\n",
    "\n",
    "    #input_char = np.expand_dims(normalized_char, axis=-1)  # เพิ่ม Batch และ Channel Dimension\n",
    "    input_char = np.expand_dims(normalized_char, axis=0)\n",
    "\n",
    "    prediction = model.predict(input_char)\n",
    "    predicted_label = np.argmax(prediction)\n",
    "    confidence = np.max(prediction) * 100\n",
    "    #print(f\"Predicted: {predicted_label} | {confidence.round(2)} %\")\n",
    "    print(f\"Predicted: {predicted_label} | {prediction.round(2)} %\")"
   ]
  },
  {
   "cell_type": "code",
   "execution_count": 81,
   "metadata": {},
   "outputs": [],
   "source": [
    "for (x, y, w, h) in characters:\n",
    "    cv2.rectangle(image, (x, y), (x+w, y+h), (0, 255, 0), 2)\n",
    "\n",
    "cv2.imshow(\"Detected Characters\", image)\n",
    "cv2.waitKey(0)\n",
    "cv2.destroyAllWindows()"
   ]
  },
  {
   "cell_type": "code",
   "execution_count": null,
   "metadata": {},
   "outputs": [],
   "source": []
  }
 ],
 "metadata": {
  "kernelspec": {
   "display_name": "Python 3",
   "language": "python",
   "name": "python3"
  },
  "language_info": {
   "codemirror_mode": {
    "name": "ipython",
    "version": 3
   },
   "file_extension": ".py",
   "mimetype": "text/x-python",
   "name": "python",
   "nbconvert_exporter": "python",
   "pygments_lexer": "ipython3",
   "version": "3.9.19"
  }
 },
 "nbformat": 4,
 "nbformat_minor": 2
}
