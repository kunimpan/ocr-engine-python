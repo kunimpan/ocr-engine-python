{
 "cells": [
  {
   "cell_type": "code",
   "execution_count": 8,
   "metadata": {},
   "outputs": [],
   "source": [
    "from PIL import Image\n",
    "\n",
    "# เปิดภาพ\n",
    "image = Image.open(\"C:/Users/Impan/Documents/ocr-engine-python/data/test_images/transcript/technician/good/transcript_tn_f_11.png\")\n",
    "\n",
    "# กำหนดขนาดใหม่\n",
    "#new_size = (800, 1132)  # ตัวอย่างขนาดใหม่\n",
    "new_size = (1660, 2347)  # ตัวอย่างขนาดใหม่\n",
    "\n",
    "# ปรับขนาดภาพด้วย LANCZOS filter\n",
    "resized_image = image.resize(new_size, Image.LANCZOS)\n",
    "\n",
    "# บันทึกภาพที่ปรับขนาดแล้ว\n",
    "resized_image.save(\"C:/Users/Impan/Documents/ocr-engine-python/data/output_images/output_V6_TN/resized_image.png\")"
   ]
  },
  {
   "cell_type": "code",
   "execution_count": null,
   "metadata": {},
   "outputs": [],
   "source": []
  }
 ],
 "metadata": {
  "kernelspec": {
   "display_name": "tfgpu",
   "language": "python",
   "name": "python3"
  },
  "language_info": {
   "codemirror_mode": {
    "name": "ipython",
    "version": 3
   },
   "file_extension": ".py",
   "mimetype": "text/x-python",
   "name": "python",
   "nbconvert_exporter": "python",
   "pygments_lexer": "ipython3",
   "version": "3.9.19"
  }
 },
 "nbformat": 4,
 "nbformat_minor": 2
}
