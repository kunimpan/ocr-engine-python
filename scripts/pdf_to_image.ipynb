{
 "cells": [
  {
   "cell_type": "markdown",
   "metadata": {},
   "source": [
    "## แบบทีละ file"
   ]
  },
  {
   "cell_type": "code",
   "execution_count": 17,
   "metadata": {},
   "outputs": [],
   "source": [
    "from pathlib import Path\n",
    "\n",
    "poppler_path = r\"C:\\python\\poppler-24.08.0\\Library\\bin\"\n",
    "#pdf_path = \"../data/test_images/transcript/high_school/doc_66541303052-9_transcript1.pdf\"\n",
    "pdf_path = \"C:/Users/Impan/Documents/TR_DOC/ปวส/ใบที่ดี/doc_66543303057-4_transcript.pdf\"\n",
    "\n",
    "from pdf2image import convert_from_path\n",
    "pages = convert_from_path(pdf_path=pdf_path, poppler_path=poppler_path)\n",
    "\n",
    "#saving_folder = Path(\"../data/test_images/transcript/high_school\")\n",
    "saving_folder = Path(\"../data/test_images/transcript/technician/good\")\n",
    "\n",
    "number = 13\n",
    "for idx, page in enumerate(pages):\n",
    "    if idx < 1:\n",
    "        img_name = f\"transcript_tn_f_{number}.png\"\n",
    "    else:\n",
    "        img_name = f\"transcript_tn_b_{number}.png\"\n",
    "    #output_path = \n",
    "    page.save(saving_folder/img_name, \"png\")\n"
   ]
  },
  {
   "cell_type": "markdown",
   "metadata": {},
   "source": [
    "## แบบทั้งโฟลเดอร์"
   ]
  },
  {
   "cell_type": "code",
   "execution_count": 2,
   "metadata": {},
   "outputs": [
    {
     "name": "stdout",
     "output_type": "stream",
     "text": [
      "C:/Users/Impan/Documents/TR_DOC/ม.6/ใบรัฐ/doc_65141101045-7_transcript.pdf\n",
      "C:/Users/Impan/Documents/TR_DOC/ม.6/ใบรัฐ/doc_65442905001-0_transcript.pdf\n",
      "C:/Users/Impan/Documents/TR_DOC/ม.6/ใบรัฐ/doc_65442905017-6_transcript.pdf\n",
      "C:/Users/Impan/Documents/TR_DOC/ม.6/ใบรัฐ/doc_65491251003-3_transcript.pdf\n",
      "C:/Users/Impan/Documents/TR_DOC/ม.6/ใบรัฐ/doc_65541206248-2_transcript.pdf\n",
      "C:/Users/Impan/Documents/TR_DOC/ม.6/ใบรัฐ/doc_65541206248-2_transcript1.pdf\n",
      "C:/Users/Impan/Documents/TR_DOC/ม.6/ใบรัฐ/doc_65541207157-4_transcript.pdf\n",
      "C:/Users/Impan/Documents/TR_DOC/ม.6/ใบรัฐ/doc_65543207084-6_transcript1.pdf\n",
      "C:/Users/Impan/Documents/TR_DOC/ม.6/ใบรัฐ/doc_65543404042-5_transcript.pdf\n",
      "C:/Users/Impan/Documents/TR_DOC/ม.6/ใบรัฐ/doc_65544101072-6_transcript.pdf\n",
      "C:/Users/Impan/Documents/TR_DOC/ม.6/ใบรัฐ/doc_65544201043-6_transcript.pdf\n",
      "C:/Users/Impan/Documents/TR_DOC/ม.6/ใบรัฐ/doc_65544301029-4_transcript.pdf\n",
      "C:/Users/Impan/Documents/TR_DOC/ม.6/ใบรัฐ/doc_66143206016-7_transcript.pdf\n",
      "C:/Users/Impan/Documents/TR_DOC/ม.6/ใบรัฐ/doc_66541206271-3_transcript.pdf\n",
      "C:/Users/Impan/Documents/TR_DOC/ม.6/ใบรัฐ/doc_66541206289-5_transcript.pdf\n",
      "C:/Users/Impan/Documents/TR_DOC/ม.6/ใบรัฐ/doc_66541302047-0_transcript.pdf\n",
      "C:/Users/Impan/Documents/TR_DOC/ม.6/ใบรัฐ/doc_66541303052-9_transcript1.pdf\n",
      "C:/Users/Impan/Documents/TR_DOC/ม.6/ใบรัฐ/doc_66543207228-8_transcript.pdf\n",
      "C:/Users/Impan/Documents/TR_DOC/ม.6/ใบรัฐ/doc_66543209033-0_transcript.pdf\n",
      "C:/Users/Impan/Documents/TR_DOC/ม.6/ใบรัฐ/doc_66543404028-3_transcript3.pdf\n",
      "C:/Users/Impan/Documents/TR_DOC/ม.6/ใบรัฐ/doc_66543503021-8_transcript.pdf\n",
      "C:/Users/Impan/Documents/TR_DOC/ม.6/ใบรัฐ/doc_66544201058-3_transcript.pdf\n",
      "C:/Users/Impan/Documents/TR_DOC/ม.6/ใบรัฐ/doc_66544202004-6_transcript.pdf\n",
      "C:/Users/Impan/Documents/TR_DOC/ม.6/ใบรัฐ/doc_66544301015-2_transcript.pdf\n",
      "C:/Users/Impan/Documents/TR_DOC/ม.6/ใบรัฐ/doc_66545201003-6_transcript.pdf\n",
      "C:/Users/Impan/Documents/TR_DOC/ม.6/ใบรัฐ/doc_67143207063-7_transcript.pdf\n",
      "C:/Users/Impan/Documents/TR_DOC/ม.6/ใบรัฐ/doc_67493453003-3_transcript.pdf\n",
      "C:/Users/Impan/Documents/TR_DOC/ม.6/ใบรัฐ/doc_67541206581-4_transcript.pdf\n",
      "C:/Users/Impan/Documents/TR_DOC/ม.6/ใบรัฐ/doc_67543210049-2_transcript1.pdf\n",
      "C:/Users/Impan/Documents/TR_DOC/ม.6/ใบรัฐ/doc_67543303020-1_transcript1.pdf\n",
      "C:/Users/Impan/Documents/TR_DOC/ม.6/ใบรัฐ/doc_67543404069-6_transcript.pdf\n",
      "C:/Users/Impan/Documents/TR_DOC/ม.6/ใบรัฐ/doc_67543503027-4_transcript.pdf\n",
      "C:/Users/Impan/Documents/TR_DOC/ม.6/ใบรัฐ/doc_67544301026-8_transcript1.pdf\n"
     ]
    }
   ],
   "source": [
    "from pathlib import Path\n",
    "poppler_path = r\"C:\\python\\poppler-24.08.0\\Library\\bin\"\n",
    "from pdf2image import convert_from_path\n",
    "\n",
    "# กำหนด path ของโฟลเดอร์ที่ต้องการอ่านไฟล์\n",
    "#folder_path = Path(\"C:/Users/Impan/Documents/TR_DOC/ปวส/ใบที่ดี\")  # เปลี่ยนเป็น path ที่ต้องการ\n",
    "#folder_path = Path(\"C:/Users/Impan/Documents/TR_DOC/ปวส/ดีแต่เอียงนิดหน่อย\")  # เปลี่ยนเป็น path ที่ต้องการ\n",
    "folder_path = Path(\"C:/Users/Impan/Documents/TR_DOC/ม.6/ใบรัฐ\")  # เปลี่ยนเป็น path ที่ต้องการ\n",
    "\n",
    "# อ่านไฟล์ทั้งหมดและเรียงตามตัวอักษร\n",
    "files = sorted(folder_path.iterdir(), key=lambda f: f.name.lower())\n",
    "\n",
    "#saving_folder = Path(\"../data/test_images/transcript/technician/good\")\n",
    "#saving_folder = Path(\"../data/test_images/transcript/technician/slightly_tilted\")\n",
    "saving_folder = Path(\"../data/test_images/transcript/high_school/moe\")\n",
    "\n",
    "number_file = 0\n",
    "# วนลูปแสดงชื่อไฟล์\n",
    "for file in files:\n",
    "    number_file += 1\n",
    "    if file.is_file():  # ตรวจสอบว่าเป็นไฟล์ (ไม่ใช่โฟลเดอร์)\n",
    "        print(file.resolve().as_posix())\n",
    "        \n",
    "        pdf_path = f\"{file.resolve().as_posix()}\"\n",
    "        pages = convert_from_path(pdf_path=pdf_path, poppler_path=poppler_path)\n",
    "\n",
    "        \n",
    "        for idx, page in enumerate(pages):\n",
    "            if idx < 1:\n",
    "                #img_name = f\"transcript_tn_f_{number_file}.png\"\n",
    "                #img_name = f\"transcript_tn_st_f_{number_file}.png\"\n",
    "\n",
    "                img_name = f\"transcript_hs_moe_f_{number_file}.png\"\n",
    "            else:\n",
    "                #img_name = f\"transcript_tn_b_{number_file}.png\"\n",
    "                #img_name = f\"transcript_tn_st_b_{number_file}.png\"\n",
    "\n",
    "                img_name = f\"transcript_hs_moe_b_{number_file}.png\"\n",
    "\n",
    "            page.save(saving_folder/img_name, \"png\")\n",
    "        \n",
    "\n"
   ]
  },
  {
   "cell_type": "code",
   "execution_count": null,
   "metadata": {},
   "outputs": [],
   "source": []
  }
 ],
 "metadata": {
  "kernelspec": {
   "display_name": "tfgpu",
   "language": "python",
   "name": "python3"
  },
  "language_info": {
   "codemirror_mode": {
    "name": "ipython",
    "version": 3
   },
   "file_extension": ".py",
   "mimetype": "text/x-python",
   "name": "python",
   "nbconvert_exporter": "python",
   "pygments_lexer": "ipython3",
   "version": "3.9.19"
  }
 },
 "nbformat": 4,
 "nbformat_minor": 2
}
