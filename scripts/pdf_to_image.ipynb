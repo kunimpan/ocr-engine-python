{
 "cells": [
  {
   "cell_type": "markdown",
   "metadata": {},
   "source": [
    "## แบบทีละ file"
   ]
  },
  {
   "cell_type": "code",
   "execution_count": 17,
   "metadata": {},
   "outputs": [],
   "source": [
    "from pathlib import Path\n",
    "\n",
    "poppler_path = r\"C:\\python\\poppler-24.08.0\\Library\\bin\"\n",
    "#pdf_path = \"../data/test_images/transcript/high_school/doc_66541303052-9_transcript1.pdf\"\n",
    "pdf_path = \"C:/Users/Impan/Documents/TR_DOC/ปวส/ใบที่ดี/doc_66543303057-4_transcript.pdf\"\n",
    "\n",
    "from pdf2image import convert_from_path\n",
    "pages = convert_from_path(pdf_path=pdf_path, poppler_path=poppler_path)\n",
    "\n",
    "#saving_folder = Path(\"../data/test_images/transcript/high_school\")\n",
    "saving_folder = Path(\"../data/test_images/transcript/technician/good\")\n",
    "\n",
    "number = 13\n",
    "for idx, page in enumerate(pages):\n",
    "    if idx < 1:\n",
    "        img_name = f\"transcript_tn_f_{number}.png\"\n",
    "    else:\n",
    "        img_name = f\"transcript_tn_b_{number}.png\"\n",
    "    #output_path = \n",
    "    page.save(saving_folder/img_name, \"png\")\n"
   ]
  },
  {
   "cell_type": "markdown",
   "metadata": {},
   "source": [
    "## แบบทั้งโฟลเดอร์"
   ]
  },
  {
   "cell_type": "code",
   "execution_count": 1,
   "metadata": {},
   "outputs": [
    {
     "name": "stdout",
     "output_type": "stream",
     "text": [
      "C:/Users/Impan/Documents/TR_DOC/ม.6/ใบกระทรวงศึกษาขั้นพื้นฐาน/doc_65243303048-1_transcript2.pdf\n",
      "C:/Users/Impan/Documents/TR_DOC/ม.6/ใบกระทรวงศึกษาขั้นพื้นฐาน/doc_65243303048-1_transcript4.pdf\n",
      "C:/Users/Impan/Documents/TR_DOC/ม.6/ใบกระทรวงศึกษาขั้นพื้นฐาน/doc_65541101015-1_transcript.PDF\n",
      "C:/Users/Impan/Documents/TR_DOC/ม.6/ใบกระทรวงศึกษาขั้นพื้นฐาน/doc_65541205029-7_transcript.pdf\n",
      "C:/Users/Impan/Documents/TR_DOC/ม.6/ใบกระทรวงศึกษาขั้นพื้นฐาน/doc_65541205037-0_transcript.pdf\n",
      "C:/Users/Impan/Documents/TR_DOC/ม.6/ใบกระทรวงศึกษาขั้นพื้นฐาน/doc_65541206075-9_transcript.pdf\n",
      "C:/Users/Impan/Documents/TR_DOC/ม.6/ใบกระทรวงศึกษาขั้นพื้นฐาน/doc_65541206282-1_transcript.pdf\n",
      "C:/Users/Impan/Documents/TR_DOC/ม.6/ใบกระทรวงศึกษาขั้นพื้นฐาน/doc_65541206538-6_transcript.pdf\n",
      "C:/Users/Impan/Documents/TR_DOC/ม.6/ใบกระทรวงศึกษาขั้นพื้นฐาน/doc_65541206598-0_transcript.pdf\n",
      "C:/Users/Impan/Documents/TR_DOC/ม.6/ใบกระทรวงศึกษาขั้นพื้นฐาน/doc_65543404194-4_transcript.pdf\n",
      "C:/Users/Impan/Documents/TR_DOC/ม.6/ใบกระทรวงศึกษาขั้นพื้นฐาน/doc_65544202055-9_transcript.pdf\n",
      "C:/Users/Impan/Documents/TR_DOC/ม.6/ใบกระทรวงศึกษาขั้นพื้นฐาน/doc_65544302025-1_transcript2.pdf\n",
      "C:/Users/Impan/Documents/TR_DOC/ม.6/ใบกระทรวงศึกษาขั้นพื้นฐาน/doc_66143206028-2_transcript.pdf\n",
      "C:/Users/Impan/Documents/TR_DOC/ม.6/ใบกระทรวงศึกษาขั้นพื้นฐาน/doc_66243207039-6_transcript.pdf\n",
      "C:/Users/Impan/Documents/TR_DOC/ม.6/ใบกระทรวงศึกษาขั้นพื้นฐาน/doc_66293253022-0_transcript.pdf\n",
      "C:/Users/Impan/Documents/TR_DOC/ม.6/ใบกระทรวงศึกษาขั้นพื้นฐาน/doc_66541206231-7_transcript.pdf\n",
      "C:/Users/Impan/Documents/TR_DOC/ม.6/ใบกระทรวงศึกษาขั้นพื้นฐาน/doc_66541207107-8_transcript.pdf\n",
      "C:/Users/Impan/Documents/TR_DOC/ม.6/ใบกระทรวงศึกษาขั้นพื้นฐาน/doc_66541207107-8_transcript3.pdf\n",
      "C:/Users/Impan/Documents/TR_DOC/ม.6/ใบกระทรวงศึกษาขั้นพื้นฐาน/doc_66541207112-8_transcript.pdf\n",
      "C:/Users/Impan/Documents/TR_DOC/ม.6/ใบกระทรวงศึกษาขั้นพื้นฐาน/doc_66541302025-6_transcript.pdf\n",
      "C:/Users/Impan/Documents/TR_DOC/ม.6/ใบกระทรวงศึกษาขั้นพื้นฐาน/doc_66543206073-9_transcript.pdf\n",
      "C:/Users/Impan/Documents/TR_DOC/ม.6/ใบกระทรวงศึกษาขั้นพื้นฐาน/doc_66543206085-3_transcript1.pdf\n",
      "C:/Users/Impan/Documents/TR_DOC/ม.6/ใบกระทรวงศึกษาขั้นพื้นฐาน/doc_66543207069-6_transcript.pdf\n",
      "C:/Users/Impan/Documents/TR_DOC/ม.6/ใบกระทรวงศึกษาขั้นพื้นฐาน/doc_66543303012-9_transcript.pdf\n",
      "C:/Users/Impan/Documents/TR_DOC/ม.6/ใบกระทรวงศึกษาขั้นพื้นฐาน/doc_66543404137-2_transcript.pdf\n",
      "C:/Users/Impan/Documents/TR_DOC/ม.6/ใบกระทรวงศึกษาขั้นพื้นฐาน/doc_66543404137-2_transcript2.pdf\n",
      "C:/Users/Impan/Documents/TR_DOC/ม.6/ใบกระทรวงศึกษาขั้นพื้นฐาน/doc_66543404137-2_transcript4.pdf\n",
      "C:/Users/Impan/Documents/TR_DOC/ม.6/ใบกระทรวงศึกษาขั้นพื้นฐาน/doc_66543502017-7_transcript.pdf\n",
      "C:/Users/Impan/Documents/TR_DOC/ม.6/ใบกระทรวงศึกษาขั้นพื้นฐาน/doc_66543504026-6_transcript.pdf\n",
      "C:/Users/Impan/Documents/TR_DOC/ม.6/ใบกระทรวงศึกษาขั้นพื้นฐาน/doc_66544101081-6_transcript.pdf\n",
      "C:/Users/Impan/Documents/TR_DOC/ม.6/ใบกระทรวงศึกษาขั้นพื้นฐาน/doc_66544202008-7_transcript.pdf\n",
      "C:/Users/Impan/Documents/TR_DOC/ม.6/ใบกระทรวงศึกษาขั้นพื้นฐาน/doc_66544405020-7_transcript.pdf\n",
      "C:/Users/Impan/Documents/TR_DOC/ม.6/ใบกระทรวงศึกษาขั้นพื้นฐาน/doc_67293251021-3_transcript.pdf\n",
      "C:/Users/Impan/Documents/TR_DOC/ม.6/ใบกระทรวงศึกษาขั้นพื้นฐาน/doc_67293451008-8_transcript.pdf\n",
      "C:/Users/Impan/Documents/TR_DOC/ม.6/ใบกระทรวงศึกษาขั้นพื้นฐาน/doc_67541205088-1_transcript.pdf\n",
      "C:/Users/Impan/Documents/TR_DOC/ม.6/ใบกระทรวงศึกษาขั้นพื้นฐาน/doc_67541206444-5_transcript.pdf\n",
      "C:/Users/Impan/Documents/TR_DOC/ม.6/ใบกระทรวงศึกษาขั้นพื้นฐาน/doc_67541206539-2_transcript.pdf\n",
      "C:/Users/Impan/Documents/TR_DOC/ม.6/ใบกระทรวงศึกษาขั้นพื้นฐาน/doc_67541206619-2_transcript.pdf\n",
      "C:/Users/Impan/Documents/TR_DOC/ม.6/ใบกระทรวงศึกษาขั้นพื้นฐาน/doc_67541206619-2_transcript1.pdf\n",
      "C:/Users/Impan/Documents/TR_DOC/ม.6/ใบกระทรวงศึกษาขั้นพื้นฐาน/doc_67541302055-2_transcript.pdf\n",
      "C:/Users/Impan/Documents/TR_DOC/ม.6/ใบกระทรวงศึกษาขั้นพื้นฐาน/doc_67541303008-0_transcript.pdf\n",
      "C:/Users/Impan/Documents/TR_DOC/ม.6/ใบกระทรวงศึกษาขั้นพื้นฐาน/doc_67542406019-1_transcript.pdf\n",
      "C:/Users/Impan/Documents/TR_DOC/ม.6/ใบกระทรวงศึกษาขั้นพื้นฐาน/doc_67543209038-8_transcript2.pdf\n",
      "C:/Users/Impan/Documents/TR_DOC/ม.6/ใบกระทรวงศึกษาขั้นพื้นฐาน/doc_67543503022-5_transcript2.pdf\n",
      "C:/Users/Impan/Documents/TR_DOC/ม.6/ใบกระทรวงศึกษาขั้นพื้นฐาน/doc_67544101097-1_transcript3.pdf\n",
      "C:/Users/Impan/Documents/TR_DOC/ม.6/ใบกระทรวงศึกษาขั้นพื้นฐาน/doc_67544303016-7_transcript.pdf\n",
      "C:/Users/Impan/Documents/TR_DOC/ม.6/ใบกระทรวงศึกษาขั้นพื้นฐาน/doc_67544303038-1_transcript.pdf\n",
      "C:/Users/Impan/Documents/TR_DOC/ม.6/ใบกระทรวงศึกษาขั้นพื้นฐาน/doc_67544402008-4_transcript.pdf\n",
      "C:/Users/Impan/Documents/TR_DOC/ม.6/ใบกระทรวงศึกษาขั้นพื้นฐาน/doc_67544402008-4_transcript1.pdf\n",
      "C:/Users/Impan/Documents/TR_DOC/ม.6/ใบกระทรวงศึกษาขั้นพื้นฐาน/doc_67544405032-1_transcript.pdf\n",
      "C:/Users/Impan/Documents/TR_DOC/ม.6/ใบกระทรวงศึกษาขั้นพื้นฐาน/doc_67642905020-3_transcript.pdf\n"
     ]
    }
   ],
   "source": [
    "from pathlib import Path\n",
    "poppler_path = r\"C:\\python\\poppler-24.08.0\\Library\\bin\"\n",
    "from pdf2image import convert_from_path\n",
    "\n",
    "# กำหนด path ของโฟลเดอร์ที่ต้องการอ่านไฟล์\n",
    "#folder_path = Path(\"C:/Users/Impan/Documents/TR_DOC/ปวส/ใบที่ดี\")  # เปลี่ยนเป็น path ที่ต้องการ\n",
    "#folder_path = Path(\"C:/Users/Impan/Documents/TR_DOC/ปวส/ดีแต่เอียงนิดหน่อย\")  # เปลี่ยนเป็น path ที่ต้องการ\n",
    "#folder_path = Path(\"C:/Users/Impan/Documents/TR_DOC/ม.6/ใบรัฐ\")  # เปลี่ยนเป็น path ที่ต้องการ\n",
    "folder_path = Path(\"C:/Users/Impan/Documents/TR_DOC/ม.6/ใบกระทรวงศึกษาขั้นพื้นฐาน\")  # เปลี่ยนเป็น path ที่ต้องการ\n",
    "\n",
    "# อ่านไฟล์ทั้งหมดและเรียงตามตัวอักษร\n",
    "files = sorted(folder_path.iterdir(), key=lambda f: f.name.lower())\n",
    "\n",
    "#saving_folder = Path(\"../data/test_images/transcript/technician/good\")\n",
    "#saving_folder = Path(\"../data/test_images/transcript/technician/slightly_tilted\")\n",
    "#saving_folder = Path(\"../data/test_images/transcript/high_school/moe\")\n",
    "saving_folder = Path(\"../data/test_images/transcript/high_school/mobe\")\n",
    "\n",
    "number_file = 0\n",
    "# วนลูปแสดงชื่อไฟล์\n",
    "for file in files:\n",
    "    number_file += 1\n",
    "    if file.is_file():  # ตรวจสอบว่าเป็นไฟล์ (ไม่ใช่โฟลเดอร์)\n",
    "        print(file.resolve().as_posix())\n",
    "        \n",
    "        pdf_path = f\"{file.resolve().as_posix()}\"\n",
    "        pages = convert_from_path(pdf_path=pdf_path, poppler_path=poppler_path)\n",
    "\n",
    "        \n",
    "        for idx, page in enumerate(pages):\n",
    "            if idx < 1:\n",
    "                #img_name = f\"transcript_tn_f_{number_file}.png\"\n",
    "                #img_name = f\"transcript_tn_st_f_{number_file}.png\"\n",
    "\n",
    "                #img_name = f\"transcript_hs_moe_f_{number_file}.png\"\n",
    "                img_name = f\"transcript_hs_mobe_f_{number_file}.png\"\n",
    "            else:\n",
    "                #img_name = f\"transcript_tn_b_{number_file}.png\"\n",
    "                #img_name = f\"transcript_tn_st_b_{number_file}.png\"\n",
    "\n",
    "                #img_name = f\"transcript_hs_moe_b_{number_file}.png\"\n",
    "                img_name = f\"transcript_hs_mobe_b_{number_file}.png\"\n",
    "\n",
    "            page.save(saving_folder/img_name, \"png\")\n",
    "        \n",
    "\n"
   ]
  },
  {
   "cell_type": "code",
   "execution_count": null,
   "metadata": {},
   "outputs": [],
   "source": []
  }
 ],
 "metadata": {
  "kernelspec": {
   "display_name": "tfgpu",
   "language": "python",
   "name": "python3"
  },
  "language_info": {
   "codemirror_mode": {
    "name": "ipython",
    "version": 3
   },
   "file_extension": ".py",
   "mimetype": "text/x-python",
   "name": "python",
   "nbconvert_exporter": "python",
   "pygments_lexer": "ipython3",
   "version": "3.9.19"
  }
 },
 "nbformat": 4,
 "nbformat_minor": 2
}
