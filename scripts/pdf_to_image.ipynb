{
 "cells": [
  {
   "cell_type": "code",
   "execution_count": 3,
   "metadata": {},
   "outputs": [],
   "source": [
    "from pathlib import Path\n",
    "\n",
    "poppler_path = r\"C:\\python\\poppler-24.08.0\\Library\\bin\"\n",
    "pdf_path = \"../data/test_images/transcript/doc_65243206017-4_transcript.pdf\"\n",
    "\n",
    "from pdf2image import convert_from_path\n",
    "pages = convert_from_path(pdf_path=pdf_path, poppler_path=poppler_path)\n",
    "\n",
    "saving_folder = Path(\"../data/test_images/transcript\")\n",
    "\n",
    "for idx, page in enumerate(pages):\n",
    "    img_name = f\"img-{idx+7}.png\"\n",
    "    #output_path = \n",
    "    page.save(saving_folder/img_name, \"png\")\n"
   ]
  },
  {
   "cell_type": "code",
   "execution_count": null,
   "metadata": {},
   "outputs": [],
   "source": []
  }
 ],
 "metadata": {
  "kernelspec": {
   "display_name": "tfgpu",
   "language": "python",
   "name": "python3"
  },
  "language_info": {
   "codemirror_mode": {
    "name": "ipython",
    "version": 3
   },
   "file_extension": ".py",
   "mimetype": "text/x-python",
   "name": "python",
   "nbconvert_exporter": "python",
   "pygments_lexer": "ipython3",
   "version": "3.9.19"
  }
 },
 "nbformat": 4,
 "nbformat_minor": 2
}
