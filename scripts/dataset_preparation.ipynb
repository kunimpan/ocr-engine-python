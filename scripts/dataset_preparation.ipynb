{
 "cells": [
  {
   "cell_type": "markdown",
   "metadata": {},
   "source": [
    "## Arabic Numerals"
   ]
  },
  {
   "cell_type": "code",
   "execution_count": 1,
   "metadata": {},
   "outputs": [
    {
     "name": "stdout",
     "output_type": "stream",
     "text": [
      "Loaded 3330 images with 10 classes.\n"
     ]
    }
   ],
   "source": [
    "from pathlib import Path\n",
    "import cv2\n",
    "import numpy as np\n",
    "from sklearn.utils import shuffle\n",
    "\n",
    "dataset_path = Path(\"../data/raw_images/arabic_numerals\")\n",
    "number_class = 0\n",
    "\n",
    "images = []\n",
    "labels = []\n",
    "\n",
    "# โหลดภาพและป้ายกำกับ\n",
    "for char in sorted(dataset_path.iterdir()):\n",
    "    if char.is_dir():  # ตรวจสอบว่าเป็นโฟลเดอร์\n",
    "        for number_image in sorted(char.iterdir()):\n",
    "            if number_image.is_file() and number_image.suffix.lower() in ['.png', '.jpg', '.jpeg']:\n",
    "                array_img = cv2.imread(str(number_image), cv2.IMREAD_GRAYSCALE)\n",
    "                array_img = cv2.resize(array_img, (32, 32))  # ปรับขนาดเป็น 32x32\n",
    "                images.append(array_img)\n",
    "                labels.append(number_class)\n",
    "        number_class += 1\n",
    "\n",
    "# สุ่มลำดับข้อมูล\n",
    "images, labels = shuffle(images, labels, random_state=42)\n",
    "\n",
    "# บันทึกข้อมูล\n",
    "np.save(\"../data/processed_data/arabic_numerals/images.npy\", np.array(images))\n",
    "np.save(\"../data/processed_data/arabic_numerals/labels.npy\", np.array(labels))\n",
    "\n",
    "print(f\"Loaded {len(images)} images with {number_class} classes.\")\n"
   ]
  },
  {
   "cell_type": "markdown",
   "metadata": {},
   "source": [
    "## Uppercase English"
   ]
  },
  {
   "cell_type": "code",
   "execution_count": 2,
   "metadata": {},
   "outputs": [
    {
     "name": "stdout",
     "output_type": "stream",
     "text": [
      "Loaded 8658 images with 26 classes.\n"
     ]
    }
   ],
   "source": [
    "from pathlib import Path\n",
    "import cv2\n",
    "import numpy as np\n",
    "from sklearn.utils import shuffle\n",
    "\n",
    "dataset_path = Path(\"../data/raw_images/eng_uppercase\")\n",
    "number_class = 0\n",
    "\n",
    "images = []\n",
    "labels = []\n",
    "\n",
    "# โหลดภาพและป้ายกำกับ\n",
    "for char in sorted(dataset_path.iterdir()):\n",
    "    if char.is_dir():  # ตรวจสอบว่าเป็นโฟลเดอร์\n",
    "        for number_image in sorted(char.iterdir()):\n",
    "            if number_image.is_file() and number_image.suffix.lower() in ['.png', '.jpg', '.jpeg']:\n",
    "                array_img = cv2.imread(str(number_image), cv2.IMREAD_GRAYSCALE)\n",
    "                array_img = cv2.resize(array_img, (32, 32))  # ปรับขนาดเป็น 32x32\n",
    "                images.append(array_img)\n",
    "                labels.append(number_class)\n",
    "        number_class += 1\n",
    "\n",
    "# สุ่มลำดับข้อมูล\n",
    "images, labels = shuffle(images, labels, random_state=42)\n",
    "\n",
    "# บันทึกข้อมูล\n",
    "np.save(\"../data/processed_data/eng_uppercase/images.npy\", np.array(images))\n",
    "np.save(\"../data/processed_data/eng_uppercase/labels.npy\", np.array(labels))\n",
    "\n",
    "print(f\"Loaded {len(images)} images with {number_class} classes.\")"
   ]
  },
  {
   "cell_type": "markdown",
   "metadata": {},
   "source": [
    "## Lowercase English"
   ]
  },
  {
   "cell_type": "code",
   "execution_count": 3,
   "metadata": {},
   "outputs": [
    {
     "name": "stdout",
     "output_type": "stream",
     "text": [
      "Loaded 8658 images with 26 classes.\n"
     ]
    }
   ],
   "source": [
    "from pathlib import Path\n",
    "import cv2\n",
    "import numpy as np\n",
    "from sklearn.utils import shuffle\n",
    "\n",
    "dataset_path = Path(\"../data/raw_images/eng_lowercase\")\n",
    "number_class = 0\n",
    "\n",
    "images = []\n",
    "labels = []\n",
    "\n",
    "# โหลดภาพและป้ายกำกับ\n",
    "for char in sorted(dataset_path.iterdir()):\n",
    "    if char.is_dir():  # ตรวจสอบว่าเป็นโฟลเดอร์\n",
    "        for number_image in sorted(char.iterdir()):\n",
    "            if number_image.is_file() and number_image.suffix.lower() in ['.png', '.jpg', '.jpeg']:\n",
    "                array_img = cv2.imread(str(number_image), cv2.IMREAD_GRAYSCALE)\n",
    "                array_img = cv2.resize(array_img, (32, 32))  # ปรับขนาดเป็น 32x32\n",
    "                images.append(array_img)\n",
    "                labels.append(number_class)\n",
    "        number_class += 1\n",
    "\n",
    "# สุ่มลำดับข้อมูล\n",
    "images, labels = shuffle(images, labels, random_state=42)\n",
    "\n",
    "# บันทึกข้อมูล\n",
    "np.save(\"../data/processed_data/eng_lowercase/images.npy\", np.array(images))\n",
    "np.save(\"../data/processed_data/eng_lowercase/labels.npy\", np.array(labels))\n",
    "\n",
    "print(f\"Loaded {len(images)} images with {number_class} classes.\")"
   ]
  },
  {
   "cell_type": "markdown",
   "metadata": {},
   "source": [
    "## Uppercase and Lowercase English"
   ]
  },
  {
   "cell_type": "code",
   "execution_count": 1,
   "metadata": {},
   "outputs": [
    {
     "name": "stdout",
     "output_type": "stream",
     "text": [
      "Loaded 17316 images with 52 classes.\n"
     ]
    }
   ],
   "source": [
    "from pathlib import Path\n",
    "import cv2\n",
    "import numpy as np\n",
    "from sklearn.utils import shuffle\n",
    "\n",
    "dataset_path = Path(\"../data/raw_images/eng_upper_lowercase\")\n",
    "number_class = 0\n",
    "\n",
    "images = []\n",
    "labels = []\n",
    "\n",
    "# โหลดภาพและป้ายกำกับ\n",
    "for char in sorted(dataset_path.iterdir()):\n",
    "    if char.is_dir():  # ตรวจสอบว่าเป็นโฟลเดอร์\n",
    "        for number_image in sorted(char.iterdir()):\n",
    "            if number_image.is_file() and number_image.suffix.lower() in ['.png', '.jpg', '.jpeg']:\n",
    "                array_img = cv2.imread(str(number_image), cv2.IMREAD_GRAYSCALE)\n",
    "                array_img = cv2.resize(array_img, (32, 32))  # ปรับขนาดเป็น 32x32\n",
    "                images.append(array_img)\n",
    "                labels.append(number_class)\n",
    "        number_class += 1\n",
    "\n",
    "# สุ่มลำดับข้อมูล\n",
    "images, labels = shuffle(images, labels, random_state=42)\n",
    "\n",
    "# บันทึกข้อมูล\n",
    "np.save(\"../data/processed_data/eng_upper_lowercase/images.npy\", np.array(images))\n",
    "np.save(\"../data/processed_data/eng_upper_lowercase/labels.npy\", np.array(labels))\n",
    "\n",
    "print(f\"Loaded {len(images)} images with {number_class} classes.\")"
   ]
  },
  {
   "cell_type": "markdown",
   "metadata": {},
   "source": [
    "## English and Arabic Numerals"
   ]
  },
  {
   "cell_type": "code",
   "execution_count": 2,
   "metadata": {},
   "outputs": [
    {
     "name": "stdout",
     "output_type": "stream",
     "text": [
      "Loaded 20646 images with 62 classes.\n"
     ]
    }
   ],
   "source": [
    "from pathlib import Path\n",
    "import cv2\n",
    "import numpy as np\n",
    "from sklearn.utils import shuffle\n",
    "\n",
    "dataset_path = Path(\"../data/raw_images/eng_numerals\")\n",
    "number_class = 0\n",
    "\n",
    "images = []\n",
    "labels = []\n",
    "\n",
    "# โหลดภาพและป้ายกำกับ\n",
    "for char in sorted(dataset_path.iterdir()):\n",
    "    if char.is_dir():  # ตรวจสอบว่าเป็นโฟลเดอร์\n",
    "        for number_image in sorted(char.iterdir()):\n",
    "            if number_image.is_file() and number_image.suffix.lower() in ['.png', '.jpg', '.jpeg']:\n",
    "                array_img = cv2.imread(str(number_image), cv2.IMREAD_GRAYSCALE)\n",
    "                array_img = cv2.resize(array_img, (32, 32))  # ปรับขนาดเป็น 32x32\n",
    "                images.append(array_img)\n",
    "                labels.append(number_class)\n",
    "        number_class += 1\n",
    "\n",
    "# สุ่มลำดับข้อมูล\n",
    "images, labels = shuffle(images, labels, random_state=42)\n",
    "\n",
    "# บันทึกข้อมูล\n",
    "np.save(\"../data/processed_data/eng_numerals/images.npy\", np.array(images))\n",
    "np.save(\"../data/processed_data/eng_numerals/labels.npy\", np.array(labels))\n",
    "\n",
    "print(f\"Loaded {len(images)} images with {number_class} classes.\")"
   ]
  },
  {
   "cell_type": "markdown",
   "metadata": {},
   "source": [
    "## Thai consonants"
   ]
  },
  {
   "cell_type": "markdown",
   "metadata": {},
   "source": [
    "### Normal"
   ]
  },
  {
   "cell_type": "code",
   "execution_count": null,
   "metadata": {},
   "outputs": [],
   "source": [
    "from pathlib import Path\n",
    "import cv2\n",
    "import numpy as np\n",
    "from sklearn.utils import shuffle\n",
    "\n",
    "dataset_path = Path(\"../data/raw_images/thai_consonants\")\n",
    "output_path = Path(\"../data/processed_data/thai_consonants\")\n",
    "\n",
    "dataset_path.mkdir(parents=True, exist_ok=True)\n",
    "output_path.mkdir(parents=True, exist_ok=True)\n",
    "\n",
    "number_class = 0\n",
    "\n",
    "images = []\n",
    "labels = []\n",
    "\n",
    "# โหลดภาพและป้ายกำกับ\n",
    "for char in sorted(dataset_path.iterdir()):\n",
    "    if char.is_dir():  # ตรวจสอบว่าเป็นโฟลเดอร์\n",
    "        for number_image in sorted(char.iterdir()):\n",
    "            if number_image.is_file() and number_image.suffix.lower() in ['.png', '.jpg', '.jpeg']:\n",
    "                array_img = cv2.imread(str(number_image), cv2.IMREAD_GRAYSCALE)\n",
    "                array_img = cv2.resize(array_img, (32, 32))  # ปรับขนาดเป็น 32x32\n",
    "                images.append(array_img)\n",
    "                labels.append(number_class)\n",
    "        number_class += 1\n",
    "\n",
    "# สุ่มลำดับข้อมูล\n",
    "images, labels = shuffle(images, labels, random_state=42)\n",
    "\n",
    "# บันทึกข้อมูล\n",
    "np.save(\"../data/processed_data/thai_consonants/images.npy\", np.array(images))\n",
    "np.save(\"../data/processed_data/thai_consonants/labels.npy\", np.array(labels))\n",
    "\n",
    "print(f\"Loaded {len(images)} images with {number_class} classes.\")"
   ]
  },
  {
   "cell_type": "markdown",
   "metadata": {},
   "source": [
    "### number class"
   ]
  },
  {
   "cell_type": "code",
   "execution_count": 3,
   "metadata": {},
   "outputs": [
    {
     "name": "stdout",
     "output_type": "stream",
     "text": [
      "Loaded 14652 images with 44 classes.\n"
     ]
    }
   ],
   "source": [
    "from pathlib import Path\n",
    "import cv2\n",
    "import numpy as np\n",
    "from sklearn.utils import shuffle\n",
    "\n",
    "dataset_path = Path(\"../data/raw_class_images/thai_consonants\")\n",
    "number_class = 0\n",
    "\n",
    "images = []\n",
    "labels = []\n",
    "\n",
    "# โหลดภาพและป้ายกำกับ\n",
    "for char in sorted(dataset_path.iterdir(), key=lambda x: int(x.stem)):\n",
    "    #print(char)\n",
    "    if char.is_dir():  # ตรวจสอบว่าเป็นโฟลเดอร์\n",
    "        for number_image in sorted(char.iterdir(), key=lambda x: int(x.stem)):\n",
    "            #print(number_image)\n",
    "            if number_image.is_file() and number_image.suffix.lower() in ['.png', '.jpg', '.jpeg']:\n",
    "                array_img = cv2.imread(str(number_image), cv2.IMREAD_GRAYSCALE)\n",
    "                array_img = cv2.resize(array_img, (32, 32))  # ปรับขนาดเป็น 32x32\n",
    "                images.append(array_img)\n",
    "                labels.append(number_class)\n",
    "        number_class += 1\n",
    "\n",
    "# สุ่มลำดับข้อมูล\n",
    "images, labels = shuffle(images, labels, random_state=42)\n",
    "\n",
    "# บันทึกข้อมูล\n",
    "np.save(\"../data/processed_data/thai_consonants/images.npy\", np.array(images))\n",
    "np.save(\"../data/processed_data/thai_consonants/labels.npy\", np.array(labels))\n",
    "\n",
    "print(f\"Loaded {len(images)} images with {number_class} classes.\")"
   ]
  },
  {
   "cell_type": "markdown",
   "metadata": {},
   "source": [
    "## Thai vowels"
   ]
  },
  {
   "cell_type": "code",
   "execution_count": 1,
   "metadata": {},
   "outputs": [
    {
     "name": "stdout",
     "output_type": "stream",
     "text": [
      "Loaded 5328 images with 16 classes.\n"
     ]
    }
   ],
   "source": [
    "from pathlib import Path\n",
    "import cv2\n",
    "import numpy as np\n",
    "from sklearn.utils import shuffle\n",
    "\n",
    "dataset_path = Path(\"../data/raw_class_images/thai_vowels\")\n",
    "output_path = Path(\"../data/processed_data/thai_vowels\")\n",
    "\n",
    "dataset_path.mkdir(parents=True, exist_ok=True)\n",
    "output_path.mkdir(parents=True, exist_ok=True)\n",
    "\n",
    "number_class = 0\n",
    "\n",
    "images = []\n",
    "labels = []\n",
    "\n",
    "# โหลดภาพและป้ายกำกับ\n",
    "for char in sorted(dataset_path.iterdir(), key=lambda x: int(x.stem)):\n",
    "    #print(char)\n",
    "    if char.is_dir():  # ตรวจสอบว่าเป็นโฟลเดอร์\n",
    "        for number_image in sorted(char.iterdir(), key=lambda x: int(x.stem)):\n",
    "            #print(number_image)\n",
    "            if number_image.is_file() and number_image.suffix.lower() in ['.png', '.jpg', '.jpeg']:\n",
    "                array_img = cv2.imread(str(number_image), cv2.IMREAD_GRAYSCALE)\n",
    "                array_img = cv2.resize(array_img, (32, 32))  # ปรับขนาดเป็น 32x32\n",
    "                images.append(array_img)\n",
    "                labels.append(number_class)\n",
    "        number_class += 1\n",
    "\n",
    "# สุ่มลำดับข้อมูล\n",
    "images, labels = shuffle(images, labels, random_state=42)\n",
    "\n",
    "# บันทึกข้อมูล\n",
    "np.save(f\"{output_path}/images.npy\", np.array(images))\n",
    "np.save(f\"{output_path}/labels.npy\", np.array(labels))\n",
    "\n",
    "print(f\"Loaded {len(images)} images with {number_class} classes.\")"
   ]
  },
  {
   "cell_type": "markdown",
   "metadata": {},
   "source": [
    "## Thai tones"
   ]
  },
  {
   "cell_type": "code",
   "execution_count": 2,
   "metadata": {},
   "outputs": [
    {
     "name": "stdout",
     "output_type": "stream",
     "text": [
      "Loaded 1332 images with 4 classes.\n"
     ]
    }
   ],
   "source": [
    "from pathlib import Path\n",
    "import cv2\n",
    "import numpy as np\n",
    "from sklearn.utils import shuffle\n",
    "\n",
    "dataset_path = Path(\"../data/raw_class_images/thai_tones\")\n",
    "output_path = Path(\"../data/processed_data/thai_tones\")\n",
    "\n",
    "dataset_path.mkdir(parents=True, exist_ok=True)\n",
    "output_path.mkdir(parents=True, exist_ok=True)\n",
    "\n",
    "number_class = 0\n",
    "\n",
    "images = []\n",
    "labels = []\n",
    "\n",
    "# โหลดภาพและป้ายกำกับ\n",
    "for char in sorted(dataset_path.iterdir(), key=lambda x: int(x.stem)):\n",
    "    #print(char)\n",
    "    if char.is_dir():  # ตรวจสอบว่าเป็นโฟลเดอร์\n",
    "        for number_image in sorted(char.iterdir(), key=lambda x: int(x.stem)):\n",
    "            #print(number_image)\n",
    "            if number_image.is_file() and number_image.suffix.lower() in ['.png', '.jpg', '.jpeg']:\n",
    "                array_img = cv2.imread(str(number_image), cv2.IMREAD_GRAYSCALE)\n",
    "                array_img = cv2.resize(array_img, (32, 32))  # ปรับขนาดเป็น 32x32\n",
    "                images.append(array_img)\n",
    "                labels.append(number_class)\n",
    "        number_class += 1\n",
    "\n",
    "# สุ่มลำดับข้อมูล\n",
    "images, labels = shuffle(images, labels, random_state=42)\n",
    "\n",
    "# บันทึกข้อมูล\n",
    "np.save(f\"{output_path}/images.npy\", np.array(images))\n",
    "np.save(f\"{output_path}/labels.npy\", np.array(labels))\n",
    "\n",
    "print(f\"Loaded {len(images)} images with {number_class} classes.\")"
   ]
  },
  {
   "cell_type": "markdown",
   "metadata": {},
   "source": [
    "## Thai and Arabic numerals"
   ]
  },
  {
   "cell_type": "code",
   "execution_count": 1,
   "metadata": {},
   "outputs": [
    {
     "name": "stdout",
     "output_type": "stream",
     "text": [
      "Loaded 24642 images with 74 classes.\n"
     ]
    }
   ],
   "source": [
    "from pathlib import Path\n",
    "import cv2\n",
    "import numpy as np\n",
    "from sklearn.utils import shuffle\n",
    "\n",
    "dataset_path = Path(\"../data/raw_class_images/thai_and_numerals\")\n",
    "output_path = Path(\"../data/processed_data/thai_and_numerals\")\n",
    "\n",
    "dataset_path.mkdir(parents=True, exist_ok=True)\n",
    "output_path.mkdir(parents=True, exist_ok=True)\n",
    "\n",
    "number_class = 0\n",
    "\n",
    "images = []\n",
    "labels = []\n",
    "\n",
    "# โหลดภาพและป้ายกำกับ\n",
    "for char in sorted(dataset_path.iterdir(), key=lambda x: int(x.stem)):\n",
    "    #print(char)\n",
    "    if char.is_dir():  # ตรวจสอบว่าเป็นโฟลเดอร์\n",
    "        for number_image in sorted(char.iterdir(), key=lambda x: int(x.stem)):\n",
    "            #print(number_image)\n",
    "            if number_image.is_file() and number_image.suffix.lower() in ['.png', '.jpg', '.jpeg']:\n",
    "                array_img = cv2.imread(str(number_image), cv2.IMREAD_GRAYSCALE)\n",
    "                array_img = cv2.resize(array_img, (32, 32))  # ปรับขนาดเป็น 32x32\n",
    "                images.append(array_img)\n",
    "                labels.append(number_class)\n",
    "        number_class += 1\n",
    "\n",
    "# สุ่มลำดับข้อมูล\n",
    "images, labels = shuffle(images, labels, random_state=42)\n",
    "\n",
    "# บันทึกข้อมูล\n",
    "np.save(f\"{output_path}/images.npy\", np.array(images))\n",
    "np.save(f\"{output_path}/labels.npy\", np.array(labels))\n",
    "\n",
    "print(f\"Loaded {len(images)} images with {number_class} classes.\")"
   ]
  },
  {
   "cell_type": "markdown",
   "metadata": {},
   "source": [
    "## Special"
   ]
  },
  {
   "cell_type": "code",
   "execution_count": 1,
   "metadata": {},
   "outputs": [
    {
     "name": "stdout",
     "output_type": "stream",
     "text": [
      "Loaded 2997 images with 9 classes.\n"
     ]
    }
   ],
   "source": [
    "from pathlib import Path\n",
    "import cv2\n",
    "import numpy as np\n",
    "from sklearn.utils import shuffle\n",
    "\n",
    "dataset_path = Path(\"../data/raw_class_images/special\")\n",
    "output_path = Path(\"../data/processed_data/special\")\n",
    "\n",
    "dataset_path.mkdir(parents=True, exist_ok=True)\n",
    "output_path.mkdir(parents=True, exist_ok=True)\n",
    "\n",
    "number_class = 0\n",
    "\n",
    "images = []\n",
    "labels = []\n",
    "\n",
    "# โหลดภาพและป้ายกำกับ\n",
    "for char in sorted(dataset_path.iterdir(), key=lambda x: int(x.stem)):\n",
    "    #print(char)\n",
    "    if char.is_dir():  # ตรวจสอบว่าเป็นโฟลเดอร์\n",
    "        for number_image in sorted(char.iterdir(), key=lambda x: int(x.stem)):\n",
    "            #print(number_image)\n",
    "            if number_image.is_file() and number_image.suffix.lower() in ['.png', '.jpg', '.jpeg']:\n",
    "                array_img = cv2.imread(str(number_image), cv2.IMREAD_GRAYSCALE)\n",
    "                array_img = cv2.resize(array_img, (32, 32))  # ปรับขนาดเป็น 32x32\n",
    "                images.append(array_img)\n",
    "                labels.append(number_class)\n",
    "        number_class += 1\n",
    "\n",
    "# สุ่มลำดับข้อมูล\n",
    "images, labels = shuffle(images, labels, random_state=42)\n",
    "\n",
    "# บันทึกข้อมูล\n",
    "np.save(f\"{output_path}/images.npy\", np.array(images))\n",
    "np.save(f\"{output_path}/labels.npy\", np.array(labels))\n",
    "\n",
    "print(f\"Loaded {len(images)} images with {number_class} classes.\")"
   ]
  },
  {
   "cell_type": "markdown",
   "metadata": {},
   "source": [
    "## Char Level 0"
   ]
  },
  {
   "cell_type": "code",
   "execution_count": null,
   "metadata": {},
   "outputs": [],
   "source": [
    "from pathlib import Path\n",
    "import cv2\n",
    "import numpy as np\n",
    "from sklearn.utils import shuffle\n",
    "\n",
    "dataset_path = Path(\"../data/raw_class_images/char_level_0_images\")\n",
    "output_path = Path(\"../data/processed_data/char_level_0\")\n",
    "\n",
    "dataset_path.mkdir(parents=True, exist_ok=True)\n",
    "output_path.mkdir(parents=True, exist_ok=True)\n",
    "\n",
    "number_class = 0\n",
    "\n",
    "images = []\n",
    "labels = []\n",
    "\n",
    "# โหลดภาพและป้ายกำกับ\n",
    "for char in sorted(dataset_path.iterdir(), key=lambda x: int(x.stem)):\n",
    "    #print(char)\n",
    "    if char.is_dir():  # ตรวจสอบว่าเป็นโฟลเดอร์\n",
    "        for number_image in sorted(char.iterdir(), key=lambda x: int(x.stem)):\n",
    "            #print(number_image)\n",
    "            if number_image.is_file() and number_image.suffix.lower() in ['.png', '.jpg', '.jpeg']:\n",
    "                array_img = cv2.imread(str(number_image), cv2.IMREAD_GRAYSCALE)\n",
    "                array_img = cv2.resize(array_img, (32, 32))  # ปรับขนาดเป็น 32x32\n",
    "                images.append(array_img)\n",
    "                labels.append(number_class)\n",
    "        number_class += 1\n",
    "\n",
    "# สุ่มลำดับข้อมูล\n",
    "images, labels = shuffle(images, labels, random_state=42)\n",
    "\n",
    "# บันทึกข้อมูล\n",
    "np.save(f\"{output_path}/images.npy\", np.array(images))\n",
    "np.save(f\"{output_path}/labels.npy\", np.array(labels))\n",
    "\n",
    "print(f\"Loaded {len(images)} images with {number_class} classes.\")"
   ]
  },
  {
   "cell_type": "markdown",
   "metadata": {},
   "source": [
    "## Char Level 1"
   ]
  },
  {
   "cell_type": "code",
   "execution_count": 2,
   "metadata": {},
   "outputs": [
    {
     "name": "stdout",
     "output_type": "stream",
     "text": [
      "Loaded 22977 images with 69 classes.\n"
     ]
    }
   ],
   "source": [
    "from pathlib import Path\n",
    "import cv2\n",
    "import numpy as np\n",
    "from sklearn.utils import shuffle\n",
    "\n",
    "dataset_path = Path(\"../data/raw_class_images/char_level_1_images\")\n",
    "output_path = Path(\"../data/processed_data/char_level_1\")\n",
    "\n",
    "dataset_path.mkdir(parents=True, exist_ok=True)\n",
    "output_path.mkdir(parents=True, exist_ok=True)\n",
    "\n",
    "number_class = 0\n",
    "\n",
    "images = []\n",
    "labels = []\n",
    "\n",
    "# โหลดภาพและป้ายกำกับ\n",
    "for char in sorted(dataset_path.iterdir(), key=lambda x: int(x.stem)):\n",
    "    #print(char)\n",
    "    if char.is_dir():  # ตรวจสอบว่าเป็นโฟลเดอร์\n",
    "        for number_image in sorted(char.iterdir(), key=lambda x: int(x.stem)):\n",
    "            #print(number_image)\n",
    "            if number_image.is_file() and number_image.suffix.lower() in ['.png', '.jpg', '.jpeg']:\n",
    "                array_img = cv2.imread(str(number_image), cv2.IMREAD_GRAYSCALE)\n",
    "                array_img = cv2.resize(array_img, (32, 32))  # ปรับขนาดเป็น 32x32\n",
    "                images.append(array_img)\n",
    "                labels.append(number_class)\n",
    "        number_class += 1\n",
    "\n",
    "# สุ่มลำดับข้อมูล\n",
    "images, labels = shuffle(images, labels, random_state=42)\n",
    "\n",
    "# บันทึกข้อมูล\n",
    "np.save(f\"{output_path}/images.npy\", np.array(images))\n",
    "np.save(f\"{output_path}/labels.npy\", np.array(labels))\n",
    "\n",
    "print(f\"Loaded {len(images)} images with {number_class} classes.\")"
   ]
  },
  {
   "cell_type": "markdown",
   "metadata": {},
   "source": [
    "## Char Level 2"
   ]
  },
  {
   "cell_type": "code",
   "execution_count": 4,
   "metadata": {},
   "outputs": [
    {
     "name": "stdout",
     "output_type": "stream",
     "text": [
      "Loaded 3663 images with 11 classes.\n"
     ]
    }
   ],
   "source": [
    "from pathlib import Path\n",
    "import cv2\n",
    "import numpy as np\n",
    "from sklearn.utils import shuffle\n",
    "\n",
    "dataset_path = Path(\"../data/raw_class_images/char_level_2_images\")\n",
    "output_path = Path(\"../data/processed_data/char_level_2\")\n",
    "\n",
    "dataset_path.mkdir(parents=True, exist_ok=True)\n",
    "output_path.mkdir(parents=True, exist_ok=True)\n",
    "\n",
    "number_class = 0\n",
    "\n",
    "images = []\n",
    "labels = []\n",
    "\n",
    "# โหลดภาพและป้ายกำกับ\n",
    "for char in sorted(dataset_path.iterdir(), key=lambda x: int(x.stem)):\n",
    "    #print(char)\n",
    "    if char.is_dir():  # ตรวจสอบว่าเป็นโฟลเดอร์\n",
    "        for number_image in sorted(char.iterdir(), key=lambda x: int(x.stem)):\n",
    "            #print(number_image)\n",
    "            if number_image.is_file() and number_image.suffix.lower() in ['.png', '.jpg', '.jpeg']:\n",
    "                array_img = cv2.imread(str(number_image), cv2.IMREAD_GRAYSCALE)\n",
    "                array_img = cv2.resize(array_img, (32, 32))  # ปรับขนาดเป็น 32x32\n",
    "                images.append(array_img)\n",
    "                labels.append(number_class)\n",
    "        number_class += 1\n",
    "\n",
    "# สุ่มลำดับข้อมูล\n",
    "images, labels = shuffle(images, labels, random_state=42)\n",
    "\n",
    "# บันทึกข้อมูล\n",
    "np.save(f\"{output_path}/images.npy\", np.array(images))\n",
    "np.save(f\"{output_path}/labels.npy\", np.array(labels))\n",
    "\n",
    "print(f\"Loaded {len(images)} images with {number_class} classes.\")"
   ]
  },
  {
   "cell_type": "markdown",
   "metadata": {},
   "source": [
    "## Char Level 3"
   ]
  },
  {
   "cell_type": "code",
   "execution_count": 5,
   "metadata": {},
   "outputs": [
    {
     "name": "stdout",
     "output_type": "stream",
     "text": [
      "Loaded 1332 images with 4 classes.\n"
     ]
    }
   ],
   "source": [
    "from pathlib import Path\n",
    "import cv2\n",
    "import numpy as np\n",
    "from sklearn.utils import shuffle\n",
    "\n",
    "dataset_path = Path(\"../data/raw_class_images/char_level_3_images\")\n",
    "output_path = Path(\"../data/processed_data/char_level_3\")\n",
    "\n",
    "dataset_path.mkdir(parents=True, exist_ok=True)\n",
    "output_path.mkdir(parents=True, exist_ok=True)\n",
    "\n",
    "number_class = 0\n",
    "\n",
    "images = []\n",
    "labels = []\n",
    "\n",
    "# โหลดภาพและป้ายกำกับ\n",
    "for char in sorted(dataset_path.iterdir(), key=lambda x: int(x.stem)):\n",
    "    #print(char)\n",
    "    if char.is_dir():  # ตรวจสอบว่าเป็นโฟลเดอร์\n",
    "        for number_image in sorted(char.iterdir(), key=lambda x: int(x.stem)):\n",
    "            #print(number_image)\n",
    "            if number_image.is_file() and number_image.suffix.lower() in ['.png', '.jpg', '.jpeg']:\n",
    "                array_img = cv2.imread(str(number_image), cv2.IMREAD_GRAYSCALE)\n",
    "                array_img = cv2.resize(array_img, (32, 32))  # ปรับขนาดเป็น 32x32\n",
    "                images.append(array_img)\n",
    "                labels.append(number_class)\n",
    "        number_class += 1\n",
    "\n",
    "# สุ่มลำดับข้อมูล\n",
    "images, labels = shuffle(images, labels, random_state=42)\n",
    "\n",
    "# บันทึกข้อมูล\n",
    "np.save(f\"{output_path}/images.npy\", np.array(images))\n",
    "np.save(f\"{output_path}/labels.npy\", np.array(labels))\n",
    "\n",
    "print(f\"Loaded {len(images)} images with {number_class} classes.\")"
   ]
  },
  {
   "cell_type": "code",
   "execution_count": null,
   "metadata": {},
   "outputs": [],
   "source": []
  }
 ],
 "metadata": {
  "kernelspec": {
   "display_name": "tfgpu",
   "language": "python",
   "name": "python3"
  },
  "language_info": {
   "codemirror_mode": {
    "name": "ipython",
    "version": 3
   },
   "file_extension": ".py",
   "mimetype": "text/x-python",
   "name": "python",
   "nbconvert_exporter": "python",
   "pygments_lexer": "ipython3",
   "version": "3.9.19"
  }
 },
 "nbformat": 4,
 "nbformat_minor": 2
}
