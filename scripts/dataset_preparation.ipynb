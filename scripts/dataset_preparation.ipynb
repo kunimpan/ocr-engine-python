{
 "cells": [
  {
   "cell_type": "markdown",
   "metadata": {},
   "source": [
    "## Arabic Numerals"
   ]
  },
  {
   "cell_type": "code",
   "execution_count": 3,
   "metadata": {},
   "outputs": [
    {
     "name": "stdout",
     "output_type": "stream",
     "text": [
      "Loaded 3330 images with 10 classes.\n"
     ]
    }
   ],
   "source": [
    "from pathlib import Path\n",
    "import cv2\n",
    "import numpy as np\n",
    "from sklearn.utils import shuffle\n",
    "\n",
    "dataset_path = Path(\"../data/raw_images/arabic_numerals\")\n",
    "number_class = 0\n",
    "\n",
    "images = []\n",
    "labels = []\n",
    "\n",
    "# โหลดภาพและป้ายกำกับ\n",
    "for char in sorted(dataset_path.iterdir()):\n",
    "    if char.is_dir():  # ตรวจสอบว่าเป็นโฟลเดอร์\n",
    "        for number_image in sorted(char.iterdir()):\n",
    "            if number_image.is_file() and number_image.suffix.lower() in ['.png', '.jpg', '.jpeg']:\n",
    "                array_img = cv2.imread(str(number_image), cv2.IMREAD_GRAYSCALE)\n",
    "                array_img = cv2.resize(array_img, (32, 32))  # ปรับขนาดเป็น 32x32\n",
    "                images.append(array_img)\n",
    "                labels.append(number_class)\n",
    "        number_class += 1\n",
    "\n",
    "# สุ่มลำดับข้อมูล\n",
    "images, labels = shuffle(images, labels, random_state=42)\n",
    "\n",
    "# บันทึกข้อมูล\n",
    "np.save(\"../data/processed_data/arabic_numerals/images.npy\", np.array(images))\n",
    "np.save(\"../data/processed_data/arabic_numerals/labels.npy\", np.array(labels))\n",
    "\n",
    "print(f\"Loaded {len(images)} images with {number_class} classes.\")\n"
   ]
  },
  {
   "cell_type": "markdown",
   "metadata": {},
   "source": [
    "## Uppercase English"
   ]
  },
  {
   "cell_type": "code",
   "execution_count": 3,
   "metadata": {},
   "outputs": [
    {
     "name": "stdout",
     "output_type": "stream",
     "text": [
      "Loaded 8658 images with 26 classes.\n"
     ]
    }
   ],
   "source": [
    "from pathlib import Path\n",
    "import cv2\n",
    "import numpy as np\n",
    "from sklearn.utils import shuffle\n",
    "\n",
    "dataset_path = Path(\"../data/raw_images/eng_uppercase\")\n",
    "number_class = 0\n",
    "\n",
    "images = []\n",
    "labels = []\n",
    "\n",
    "# โหลดภาพและป้ายกำกับ\n",
    "for char in sorted(dataset_path.iterdir()):\n",
    "    if char.is_dir():  # ตรวจสอบว่าเป็นโฟลเดอร์\n",
    "        for number_image in sorted(char.iterdir()):\n",
    "            if number_image.is_file() and number_image.suffix.lower() in ['.png', '.jpg', '.jpeg']:\n",
    "                array_img = cv2.imread(str(number_image), cv2.IMREAD_GRAYSCALE)\n",
    "                array_img = cv2.resize(array_img, (32, 32))  # ปรับขนาดเป็น 32x32\n",
    "                images.append(array_img)\n",
    "                labels.append(number_class)\n",
    "        number_class += 1\n",
    "\n",
    "# สุ่มลำดับข้อมูล\n",
    "images, labels = shuffle(images, labels, random_state=42)\n",
    "\n",
    "# บันทึกข้อมูล\n",
    "np.save(\"../data/processed_data/eng_uppercase/images.npy\", np.array(images))\n",
    "np.save(\"../data/processed_data/eng_uppercase/labels.npy\", np.array(labels))\n",
    "\n",
    "print(f\"Loaded {len(images)} images with {number_class} classes.\")"
   ]
  },
  {
   "cell_type": "markdown",
   "metadata": {},
   "source": [
    "## Lowercase English"
   ]
  },
  {
   "cell_type": "code",
   "execution_count": 7,
   "metadata": {},
   "outputs": [
    {
     "name": "stdout",
     "output_type": "stream",
     "text": [
      "Loaded 8658 images with 26 classes.\n"
     ]
    }
   ],
   "source": [
    "from pathlib import Path\n",
    "import cv2\n",
    "import numpy as np\n",
    "from sklearn.utils import shuffle\n",
    "\n",
    "dataset_path = Path(\"../data/raw_images/eng_lowercase\")\n",
    "number_class = 0\n",
    "\n",
    "images = []\n",
    "labels = []\n",
    "\n",
    "# โหลดภาพและป้ายกำกับ\n",
    "for char in sorted(dataset_path.iterdir()):\n",
    "    if char.is_dir():  # ตรวจสอบว่าเป็นโฟลเดอร์\n",
    "        for number_image in sorted(char.iterdir()):\n",
    "            if number_image.is_file() and number_image.suffix.lower() in ['.png', '.jpg', '.jpeg']:\n",
    "                array_img = cv2.imread(str(number_image), cv2.IMREAD_GRAYSCALE)\n",
    "                array_img = cv2.resize(array_img, (32, 32))  # ปรับขนาดเป็น 32x32\n",
    "                images.append(array_img)\n",
    "                labels.append(number_class)\n",
    "        number_class += 1\n",
    "\n",
    "# สุ่มลำดับข้อมูล\n",
    "images, labels = shuffle(images, labels, random_state=42)\n",
    "\n",
    "# บันทึกข้อมูล\n",
    "np.save(\"../data/processed_data/eng_lowercase/images.npy\", np.array(images))\n",
    "np.save(\"../data/processed_data/eng_lowercase/labels.npy\", np.array(labels))\n",
    "\n",
    "print(f\"Loaded {len(images)} images with {number_class} classes.\")"
   ]
  },
  {
   "cell_type": "code",
   "execution_count": null,
   "metadata": {},
   "outputs": [],
   "source": []
  }
 ],
 "metadata": {
  "kernelspec": {
   "display_name": "Python 3",
   "language": "python",
   "name": "python3"
  },
  "language_info": {
   "codemirror_mode": {
    "name": "ipython",
    "version": 3
   },
   "file_extension": ".py",
   "mimetype": "text/x-python",
   "name": "python",
   "nbconvert_exporter": "python",
   "pygments_lexer": "ipython3",
   "version": "3.9.19"
  }
 },
 "nbformat": 4,
 "nbformat_minor": 2
}
