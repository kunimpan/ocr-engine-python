{
 "cells": [
  {
   "cell_type": "code",
   "execution_count": 24,
   "metadata": {},
   "outputs": [],
   "source": [
    "import cv2\n",
    "import numpy as np"
   ]
  },
  {
   "cell_type": "markdown",
   "metadata": {},
   "source": [
    "## Cropped image"
   ]
  },
  {
   "cell_type": "code",
   "execution_count": 25,
   "metadata": {},
   "outputs": [
    {
     "data": {
      "text/plain": [
       "True"
      ]
     },
     "execution_count": 25,
     "metadata": {},
     "output_type": "execute_result"
    }
   ],
   "source": [
    "# โหลดภาพ\n",
    "image = cv2.imread(\"images/number/0to9.jpg\")\n",
    "if image is None:\n",
    "    raise FileNotFoundError(\"ไม่พบไฟล์ภาพ กรุณาตรวจสอบเส้นทางของไฟล์\")\n",
    "\n",
    "# แปลงเป็น Grayscale\n",
    "gray = cv2.cvtColor(image, cv2.COLOR_BGR2GRAY)\n",
    "\n",
    "# การ Threshold แบบ Adaptive Gaussian\n",
    "ath_gaussian = cv2.adaptiveThreshold(gray, 255, cv2.ADAPTIVE_THRESH_GAUSSIAN_C, cv2.THRESH_BINARY_INV, 51,30)\n",
    "\n",
    "# หา Contours\n",
    "contours, _ = cv2.findContours(ath_gaussian, cv2.RETR_EXTERNAL, cv2.CHAIN_APPROX_SIMPLE)\n",
    "\n",
    "# เรียงลำดับ Contours ตามตำแหน่ง x\n",
    "contours = sorted(contours, key=lambda c: cv2.boundingRect(c)[0])\n",
    "\n",
    "i = 1\n",
    "\n",
    "# วาดกรอบล้อมรอบข้อความ\n",
    "for contour in contours:\n",
    "    x, y, w, h = cv2.boundingRect(contour)\n",
    "\n",
    "    # เงื่อนไขกรอง Contours ที่เหมาะสม\n",
    "    cropped_image = image[y:y+h, x:x+w]\n",
    "    str1 = f\"images/processed-images/number0to9_{i}.jpg\"\n",
    "    cv2.imwrite(str1, cropped_image)\n",
    "    i+=1\n",
    "\n",
    "    # วาดกรอบสี่เหลี่ยมล้อมรอบตัวเลข\n",
    "    if w > 1 and h > 1:\n",
    "        cv2.rectangle(image, (x, y), (x + w, y + h), (0, 255, 0), 2)\n",
    "\n",
    "# บันทึกภาพผลลัพธ์ที่มีกรอบล้อมรอบ\n",
    "cv2.imwrite(\"images/processed-images/number0to9.jpg\", image)"
   ]
  },
  {
   "cell_type": "markdown",
   "metadata": {},
   "source": [
    "## Array image"
   ]
  },
  {
   "cell_type": "code",
   "execution_count": 119,
   "metadata": {},
   "outputs": [
    {
     "name": "stdout",
     "output_type": "stream",
     "text": [
      "จำนวนภาพที่แยกได้: 10\n",
      "ขนาดของภาพที่ 1: (61, 39, 3)\n",
      "ขนาดของภาพที่ 2: (62, 36, 3)\n",
      "ขนาดของภาพที่ 3: (62, 37, 3)\n",
      "ขนาดของภาพที่ 4: (60, 27, 3)\n",
      "ขนาดของภาพที่ 5: (60, 39, 3)\n",
      "ขนาดของภาพที่ 6: (62, 37, 3)\n",
      "ขนาดของภาพที่ 7: (61, 37, 3)\n",
      "ขนาดของภาพที่ 8: (60, 38, 3)\n",
      "ขนาดของภาพที่ 9: (61, 37, 3)\n",
      "ขนาดของภาพที่ 10: (62, 36, 3)\n"
     ]
    }
   ],
   "source": [
    "# โหลดภาพ\n",
    "image = cv2.imread(\"images/number/0to9.jpg\")\n",
    "if image is None:\n",
    "    raise FileNotFoundError(\"ไม่พบไฟล์ภาพ กรุณาตรวจสอบเส้นทางของไฟล์\")\n",
    "\n",
    "# แปลงเป็น Grayscale\n",
    "gray = cv2.cvtColor(image, cv2.COLOR_BGR2GRAY)\n",
    "\n",
    "# การ Threshold แบบ Adaptive Gaussian\n",
    "ath_gaussian = cv2.adaptiveThreshold(\n",
    "    gray, 255, cv2.ADAPTIVE_THRESH_GAUSSIAN_C, cv2.THRESH_BINARY_INV, 51,30\n",
    ")\n",
    "\n",
    "# หา Contours\n",
    "contours, _ = cv2.findContours(ath_gaussian, cv2.RETR_EXTERNAL, cv2.CHAIN_APPROX_SIMPLE)\n",
    "\n",
    "# เรียงลำดับ Contours ตามตำแหน่ง x\n",
    "#contours = sorted(contours, key=lambda c: cv2.boundingRect(c)[0])\n",
    "\n",
    "# เรียงลำดับ Contours ตามตำแหน่ง y ก่อน แล้วเรียงตามตำแหน่ง x\n",
    "contours = sorted(contours, key=lambda c: (cv2.boundingRect(c)[1], cv2.boundingRect(c)[0]))\n",
    "\n",
    "\n",
    "# สร้าง list เพื่อเก็บภาพที่แยกออกมา\n",
    "cropped_images = []\n",
    "\n",
    "# วาดกรอบและเก็บภาพแต่ละตัวเลขใน array\n",
    "for contour in contours:\n",
    "    x, y, w, h = cv2.boundingRect(contour)\n",
    "\n",
    "    # วาดกรอบสี่เหลี่ยมล้อมรอบตัวเลข\n",
    "    if w > 1 and h > 1:\n",
    "\n",
    "        '''\n",
    "        # คำนวณขนาดใหม่โดยเพิ่ม 10%\n",
    "        margin_x = int(w * 0.1)  # เพิ่ม 10% ของความกว้าง\n",
    "        margin_y = int(h * 0.1)  # เพิ่ม 10% ของความสูง\n",
    "\n",
    "        # กำหนดขอบเขตใหม่ (ขยายออกไป 10% ทุกด้าน)\n",
    "        x_start = max(0, x - margin_x)  # ต้องไม่ให้หลุดจากภาพ\n",
    "        y_start = max(0, y - margin_y)  # ต้องไม่ให้หลุดจากภาพ\n",
    "        x_end = min(image.shape[1], x + w + margin_x)  # ต้องไม่เกินขอบภาพ\n",
    "        y_end = min(image.shape[0], y + h + margin_y)  # ต้องไม่เกินขอบภาพ\n",
    "\n",
    "        # ตัดภาพที่มีขนาดใหญ่ขึ้น\n",
    "        cropped_image = image[y_start:y_end, x_start:x_end]\n",
    "        '''\n",
    "        \n",
    "        # ตัดภาพปกติ\n",
    "        cropped_image = image[y:y+h, x:x+w]\n",
    "        cropped_images.append(cropped_image)  # เก็บภาพใน list\n",
    "\n",
    "        \n",
    "\n",
    "        # วาดกรอบสี่เหลี่ยมล้อมรอบตัวเลข\n",
    "        #cv2.rectangle(image, (x, y), (x + w, y + h), (0, 255, 0), 2)\n",
    "\n",
    "# ภาพทั้งหมดที่ตัดแยกจะถูกเก็บใน `cropped_images` เป็น list\n",
    "# เช่น cropped_images[0], cropped_images[1], ...\n",
    "\n",
    "# ตัวอย่างการเข้าถึง array ของภาพ\n",
    "print(f\"จำนวนภาพที่แยกได้: {len(cropped_images)}\")\n",
    "for i, img in enumerate(cropped_images):\n",
    "    print(f\"ขนาดของภาพที่ {i+1}: {img.shape}\")\n"
   ]
  },
  {
   "cell_type": "markdown",
   "metadata": {},
   "source": [
    "## Visualization"
   ]
  },
  {
   "cell_type": "code",
   "execution_count": 109,
   "metadata": {},
   "outputs": [
    {
     "data": {
      "image/png": "[encoded data removed]",
      "text/plain": [
       "<Figure size 640x480 with 1 Axes>"
      ]
     },
     "metadata": {},
     "output_type": "display_data"
    }
   ],
   "source": [
    "import matplotlib.pyplot as plt\n",
    "\n",
    "idx = 1\n",
    "img = cropped_images[idx]                  # image at index\n",
    "plt.imshow(img, cmap=plt.cm.gray_r) # actutal BG is black (invert)\n",
    "#plt.imshow(img, cmap=plt.cm.gray)  \n",
    "\n",
    "plt.grid() \n",
    "plt.show()"
   ]
  },
  {
   "cell_type": "code",
   "execution_count": 120,
   "metadata": {},
   "outputs": [
    {
     "data": {
      "image/png": "[encoded data removed]",
      "text/plain": [
       "<Figure size 900x500 with 10 Axes>"
      ]
     },
     "metadata": {},
     "output_type": "display_data"
    }
   ],
   "source": [
    "def visual_multi(i):\n",
    "    nplots = len(cropped_images)\n",
    "    fig = plt.figure(figsize=(9, 5))\n",
    "    for j in range(nplots):\n",
    "        plt.subplot(4, 10, j+1)\n",
    "        plt.imshow(cropped_images[i+j], cmap=plt.cm.gray_r)\n",
    "        #plt.title(y_train[i+j])\n",
    "    \n",
    "    plt.show()\n",
    "visual_multi(0) # ตัวเริ่มจากเลขอะไร"
   ]
  },
  {
   "cell_type": "markdown",
   "metadata": {},
   "source": [
    "## Load model"
   ]
  },
  {
   "cell_type": "code",
   "execution_count": 79,
   "metadata": {},
   "outputs": [
    {
     "name": "stdout",
     "output_type": "stream",
     "text": [
      "Model: \"sequential\"\n",
      "_________________________________________________________________\n",
      " Layer (type)                Output Shape              Param #   \n",
      "=================================================================\n",
      " conv2d (Conv2D)             (None, 30, 30, 32)        320       \n",
      "                                                                 \n",
      " max_pooling2d (MaxPooling2D  (None, 15, 15, 32)       0         \n",
      " )                                                               \n",
      "                                                                 \n",
      " conv2d_1 (Conv2D)           (None, 13, 13, 64)        18496     \n",
      "                                                                 \n",
      " max_pooling2d_1 (MaxPooling  (None, 6, 6, 64)         0         \n",
      " 2D)                                                             \n",
      "                                                                 \n",
      " flatten (Flatten)           (None, 2304)              0         \n",
      "                                                                 \n",
      " dense (Dense)               (None, 128)               295040    \n",
      "                                                                 \n",
      " dense_1 (Dense)             (None, 10)                1290      \n",
      "                                                                 \n",
      "=================================================================\n",
      "Total params: 315,146\n",
      "Trainable params: 315,146\n",
      "Non-trainable params: 0\n",
      "_________________________________________________________________\n"
     ]
    }
   ],
   "source": [
    "from tensorflow.keras.models import load_model\n",
    "\n",
    "model = load_model('model/numrals_model.h5') # Load model\n",
    "model.summary() "
   ]
  },
  {
   "cell_type": "markdown",
   "metadata": {},
   "source": [
    "## Read Image and predict"
   ]
  },
  {
   "cell_type": "code",
   "execution_count": 46,
   "metadata": {},
   "outputs": [
    {
     "name": "stdout",
     "output_type": "stream",
     "text": [
      "img shape: (32, 32, 1)\n",
      "max pixel value: 254.97452\n",
      "Expandim: (1, 32, 32, 1)\n",
      "1/1 [==============================] - 0s 17ms/step\n",
      "Predicted probabilities: [[0.    0.    0.    0.    0.    0.076 0.    0.    0.924 0.   ]]\n",
      "\n",
      "Predicted Number= 8\n"
     ]
    },
    {
     "data": {
      "image/png": "[encoded data removed]",
      "text/plain": [
       "<Figure size 200x200 with 1 Axes>"
      ]
     },
     "metadata": {},
     "output_type": "display_data"
    }
   ],
   "source": [
    "from tensorflow. keras.preprocessing. image import load_img, img_to_array\n",
    "from tensorflow. image import rgb_to_grayscale\n",
    "import numpy as np\n",
    "import matplotlib.pyplot as plt\n",
    "from PIL import Image, ImageOps\n",
    "\n",
    "# เลือกภาพ\n",
    "filename = 'images/number/test_8_3.jpg'\n",
    "# filename = 'data/digit4\n",
    "# cropped_images[idx]\n",
    "\n",
    "# โหลดและแปลงภาพเป็น array\n",
    "img = load_img(filename , target_size=(32, 32))\n",
    "#display(img)\n",
    "#img = ImageOps.invert(img)\n",
    "img = img_to_array(img)\n",
    "\n",
    "# หากภาพมีสีผิด (ตัวเลขสีขาวบนพื้นดำ) ให้ invert สี\n",
    "# img = ImageOps.invert(img)\n",
    "\n",
    "# แปลงเป็น Grayscale\n",
    "img = rgb_to_grayscale(img)\n",
    "\n",
    "# แสดงข้อมูลภาพ\n",
    "print('img shape:', img.shape)\n",
    "print('max pixel value:',np.max(img))\n",
    "\n",
    "# Normalize ค่า pixel ให้อยู่ในช่วง [0, 1]\n",
    "img /= 255.0\n",
    "\n",
    "# เพิ่ม Batch Dimension\n",
    "img = np.expand_dims(img, axis=0)\n",
    "print('Expandim:', img.shape)\n",
    "\n",
    "# ส่งภาพเข้าสู่โมเดลเพื่อทำนาย\n",
    "y_pred = model.predict(img)\n",
    "print('Predicted probabilities:', y_pred.round(3))\n",
    "\n",
    "# หาค่าที่โมเดลทำนายได้ (คลาสที่มีค่าความน่าจะเป็นสูงสุด)\n",
    "predicted = np.argmax(y_pred, -1)\n",
    "# predicted = np.argmax(y_pred, axis=1)\n",
    "print('\\nPredicted Number=', predicted[0])\n",
    "\n",
    "# แสดงภาพพร้อมผลลัพธ์\n",
    "plt.figure(figsize=(2,2))\n",
    "plt.imshow(img[0].reshape(32,32), cmap=plt.cm.gray)\n",
    "plt.title('Predicted: {}'. format(predicted[0]))\n",
    "plt.xticks([])\n",
    "plt.yticks([])\n",
    "plt.show()"
   ]
  },
  {
   "cell_type": "markdown",
   "metadata": {},
   "source": [
    "## Read Array Image and predict"
   ]
  },
  {
   "cell_type": "code",
   "execution_count": 69,
   "metadata": {},
   "outputs": [
    {
     "name": "stdout",
     "output_type": "stream",
     "text": [
      "Original Image Shape: (62, 37, 3)\n",
      "Grayscale Image Shape: (32, 32, 1)\n",
      "Input Shape (for model): (1, 32, 32, 1)\n",
      "1/1 [==============================] - 0s 15ms/step\n",
      "Predicted Probabilities: [[0.    0.    0.989 0.    0.    0.007 0.    0.004 0.    0.   ]]\n",
      "Predicted Number = 2\n"
     ]
    },
    {
     "data": {
      "image/png": "[encoded data removed]",
      "text/plain": [
       "<Figure size 200x200 with 1 Axes>"
      ]
     },
     "metadata": {},
     "output_type": "display_data"
    }
   ],
   "source": [
    "from tensorflow.keras.preprocessing.image import load_img, img_to_array\n",
    "from tensorflow.image import rgb_to_grayscale, resize\n",
    "import numpy as np\n",
    "import matplotlib.pyplot as plt\n",
    "from PIL import Image, ImageOps\n",
    "\n",
    "# ใช้รูปจาก list ที่สร้างไว้ก่อนหน้า\n",
    "cropped_image = cropped_images[0]  \n",
    "\n",
    "# ตรวจสอบขนาดของรูปภาพที่เข้ามา\n",
    "print('Original Image Shape:', cropped_image.shape)\n",
    "\n",
    "# ย่อขนาดภาพให้เป็น (32, 32)\n",
    "resized_image = resize(cropped_image, (32, 32)).numpy()\n",
    "\n",
    "# ตรวจสอบว่าเป็น RGB หรือไม่\n",
    "if resized_image.shape[-1] == 3:  # ตรวจสอบว่าเป็นภาพสี\n",
    "    # แปลงเป็น Grayscale\n",
    "    grayscale_image = rgb_to_grayscale(resized_image)\n",
    "else:\n",
    "    grayscale_image = resized_image[..., np.newaxis]  # เพิ่มแกนช่องสี หากไม่มี\n",
    "\n",
    "# ตรวจสอบขนาดหลังแปลง Grayscale\n",
    "print('Grayscale Image Shape:', grayscale_image.shape)\n",
    "\n",
    "# Normalize ค่า Pixel\n",
    "normalized_image = grayscale_image / 255.0\n",
    "\n",
    "# เพิ่ม Batch Dimension\n",
    "input_image = np.expand_dims(normalized_image, axis=0)\n",
    "print('Input Shape (for model):', input_image.shape)\n",
    "\n",
    "# ส่งภาพเข้าโมเดล\n",
    "y_pred = model.predict(input_image)\n",
    "print('Predicted Probabilities:', y_pred.round(3))\n",
    "\n",
    "# หาค่าที่โมเดลทำนายได้ (คลาสที่มีค่าความน่าจะเป็นสูงสุด)\n",
    "predicted_class = np.argmax(y_pred, axis=-1)\n",
    "print('Predicted Number =', predicted_class[0])\n",
    "\n",
    "# แสดงภาพและผลลัพธ์\n",
    "plt.figure(figsize=(2, 2))\n",
    "plt.imshow(input_image[0].reshape(32,32), cmap=plt.cm.gray)\n",
    "plt.title(f'Predicted: {predicted_class[0]}')\n",
    "plt.xticks([])\n",
    "plt.yticks([])\n",
    "plt.show()"
   ]
  },
  {
   "cell_type": "markdown",
   "metadata": {},
   "source": [
    "## Read Array Image and predict (Loop)"
   ]
  },
  {
   "cell_type": "code",
   "execution_count": 94,
   "metadata": {},
   "outputs": [
    {
     "name": "stdout",
     "output_type": "stream",
     "text": [
      "\n",
      "Processing Image 1/10\n",
      "1/1 [==============================] - 0s 17ms/step\n",
      "Predicted Class for Image 1: 0\n",
      "\n",
      "Processing Image 2/10\n",
      "1/1 [==============================] - 0s 17ms/step\n",
      "Predicted Class for Image 2: 2\n",
      "\n",
      "Processing Image 3/10\n",
      "1/1 [==============================] - 0s 16ms/step\n",
      "Predicted Class for Image 3: 3\n",
      "\n",
      "Processing Image 4/10\n",
      "1/1 [==============================] - 0s 16ms/step\n",
      "Predicted Class for Image 4: 3\n",
      "\n",
      "Processing Image 5/10\n",
      "1/1 [==============================] - 0s 16ms/step\n",
      "Predicted Class for Image 5: 4\n",
      "\n",
      "Processing Image 6/10\n",
      "1/1 [==============================] - 0s 15ms/step\n",
      "Predicted Class for Image 6: 6\n",
      "\n",
      "Processing Image 7/10\n",
      "1/1 [==============================] - 0s 16ms/step\n",
      "Predicted Class for Image 7: 0\n",
      "\n",
      "Processing Image 8/10\n",
      "1/1 [==============================] - 0s 17ms/step\n",
      "Predicted Class for Image 8: 0\n",
      "\n",
      "Processing Image 9/10\n",
      "1/1 [==============================] - 0s 17ms/step\n",
      "Predicted Class for Image 9: 5\n",
      "\n",
      "Processing Image 10/10\n",
      "1/1 [==============================] - 0s 16ms/step\n",
      "Predicted Class for Image 10: 7\n",
      "\n",
      "Final Results:\n",
      "Image 1: Predicted Number = 0\n",
      "Image 2: Predicted Number = 2\n",
      "Image 3: Predicted Number = 3\n",
      "Image 4: Predicted Number = 3\n",
      "Image 5: Predicted Number = 4\n",
      "Image 6: Predicted Number = 6\n",
      "Image 7: Predicted Number = 0\n",
      "Image 8: Predicted Number = 0\n",
      "Image 9: Predicted Number = 5\n",
      "Image 10: Predicted Number = 7\n"
     ]
    }
   ],
   "source": [
    "import numpy as np\n",
    "import matplotlib.pyplot as plt\n",
    "from tensorflow.image import rgb_to_grayscale\n",
    "from tensorflow.image import resize\n",
    "\n",
    "# สมมติ cropped_images เป็น list ของ array ที่ได้จากการแยกตัวเลข\n",
    "# ตัวอย่างข้อมูล: cropped_images = [image1_array, image2_array, ...]\n",
    "\n",
    "results = []  # เก็บผลการทำนาย\n",
    "\n",
    "for idx, cropped_image in enumerate(cropped_images):\n",
    "    print(f\"\\nProcessing Image {idx+1}/{len(cropped_images)}\")\n",
    "    \n",
    "    # Resize ภาพให้เป็นขนาด (32, 32)\n",
    "    resized_image = resize(cropped_image, (32, 32)).numpy()\n",
    "\n",
    "    # ตรวจสอบว่าภาพเป็น RGB หรือไม่\n",
    "    if resized_image.shape[-1] == 3:  # ถ้าเป็นภาพสี\n",
    "        grayscale_image = rgb_to_grayscale(resized_image)\n",
    "    else:\n",
    "        grayscale_image = resized_image[..., np.newaxis]  # เพิ่มแกนช่องสี\n",
    "\n",
    "    # Normalize ค่า Pixel\n",
    "    normalized_image = grayscale_image / 255.0\n",
    "\n",
    "    # เพิ่ม Batch Dimension\n",
    "    input_image = np.expand_dims(normalized_image, axis=0)\n",
    "\n",
    "    # ส่งภาพเข้าโมเดลเพื่อทำนาย\n",
    "    y_pred = model.predict(input_image)\n",
    "    predicted_class = np.argmax(y_pred, axis=-1)[0]  # ดึงคลาสที่ทำนายได้\n",
    "\n",
    "    # เก็บผลลัพธ์\n",
    "    results.append(predicted_class)\n",
    "\n",
    "    # แสดงผลการทำนาย\n",
    "    print(f\"Predicted Class for Image {idx+1}: {predicted_class}\")\n",
    "\n",
    "    # แสดงภาพพร้อมผลลัพธ์\n",
    "    #plt.figure(figsize=(2, 2))\n",
    "    #plt.imshow(grayscale_image.squeeze(), cmap=plt.cm.gray)\n",
    "    #plt.title(f'Predicted: {predicted_class}')\n",
    "    #plt.xticks([])\n",
    "    #plt.yticks([])\n",
    "    #plt.show()\n",
    "\n",
    "# สรุปผลการทำนาย\n",
    "print(\"\\nFinal Results:\")\n",
    "for i, result in enumerate(results):\n",
    "    print(f\"Image {i+1}: Predicted Number = {result}\")\n"
   ]
  },
  {
   "cell_type": "code",
   "execution_count": null,
   "metadata": {},
   "outputs": [],
   "source": []
  }
 ],
 "metadata": {
  "kernelspec": {
   "display_name": "Python 3",
   "language": "python",
   "name": "python3"
  },
  "language_info": {
   "codemirror_mode": {
    "name": "ipython",
    "version": 3
   },
   "file_extension": ".py",
   "mimetype": "text/x-python",
   "name": "python",
   "nbconvert_exporter": "python",
   "pygments_lexer": "ipython3",
   "version": "3.9.19"
  }
 },
 "nbformat": 4,
 "nbformat_minor": 2
}
