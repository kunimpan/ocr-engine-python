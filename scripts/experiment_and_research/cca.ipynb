{
 "cells": [
  {
   "cell_type": "markdown",
   "metadata": {},
   "source": [
    "## Connected Component Analysis (CCA)"
   ]
  },
  {
   "cell_type": "code",
   "execution_count": 8,
   "metadata": {},
   "outputs": [],
   "source": [
    "import cv2\n",
    "import numpy as np\n",
    "\n",
    "# โหลดภาพ\n",
    "image = cv2.imread(\"../../data/test_images/word_images/word_4.jpg\", cv2.IMREAD_GRAYSCALE)\n",
    "\n",
    "# แปลงเป็นภาพไบนารี\n",
    "_, binary = cv2.threshold(image, 127, 255, cv2.THRESH_BINARY)\n",
    "\n",
    "# สร้าง kernel แนวนอนสำหรับ dilation\n",
    "kernel = np.ones((1, 50), np.uint8)  # ขยายเฉพาะในแนวนอน\n",
    "dilated = cv2.dilate(binary, kernel, iterations=1)\n",
    "\n",
    "# หา Contours (หรือใช้ CCA)\n",
    "contours, _ = cv2.findContours(dilated, cv2.RETR_EXTERNAL, cv2.CHAIN_APPROX_SIMPLE)\n",
    "\n",
    "# วาดกรอบรอบบรรทัดที่ตรวจจับได้\n",
    "output = image.copy()\n",
    "for contour in contours:\n",
    "    x, y, w, h = cv2.boundingRect(contour)\n",
    "    cv2.rectangle(output, (x, y), (x + w, y + h), (0, 255, 0), 2)\n",
    "\n",
    "# แสดงผล\n",
    "cv2.imshow(\"Detected Lines\", output)\n",
    "cv2.waitKey(0)\n",
    "cv2.destroyAllWindows()\n",
    "\n"
   ]
  },
  {
   "cell_type": "code",
   "execution_count": null,
   "metadata": {},
   "outputs": [],
   "source": []
  }
 ],
 "metadata": {
  "kernelspec": {
   "display_name": "tfgpu",
   "language": "python",
   "name": "python3"
  },
  "language_info": {
   "codemirror_mode": {
    "name": "ipython",
    "version": 3
   },
   "file_extension": ".py",
   "mimetype": "text/x-python",
   "name": "python",
   "nbconvert_exporter": "python",
   "pygments_lexer": "ipython3",
   "version": "3.9.19"
  }
 },
 "nbformat": 4,
 "nbformat_minor": 2
}
