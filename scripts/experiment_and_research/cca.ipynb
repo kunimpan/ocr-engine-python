{
 "cells": [
  {
   "cell_type": "markdown",
   "metadata": {},
   "source": [
    "## Connected Component Analysis (CCA)"
   ]
  },
  {
   "cell_type": "code",
   "execution_count": 15,
   "metadata": {},
   "outputs": [
    {
     "name": "stdout",
     "output_type": "stream",
     "text": [
      "จำนวนวัตถุ (ไม่รวม background): 8319\n",
      "8320\n"
     ]
    }
   ],
   "source": [
    "import cv2\n",
    "\n",
    "# โหลดภาพในโหมด grayscale\n",
    "img = cv2.imread(\"C:/Users/Impan/Documents/ocr-engine-python/data/test_images/transcript/high_school/transcript_hs_front_2.png\", cv2.IMREAD_GRAYSCALE)\n",
    "\n",
    "# แปลงภาพเป็น binary image\n",
    "ret, thresh = cv2.threshold(img, 127, 255, cv2.THRESH_BINARY_INV)\n",
    "\n",
    "# ใช้ connectedComponentsWithStats เพื่อแยกส่วนของวัตถุในภาพ\n",
    "num_labels, labels, stats, centroids = cv2.connectedComponentsWithStats(thresh, connectivity=8)\n",
    "\n",
    "# แสดงจำนวนวัตถุ (ไม่รวม background ที่ label 0)\n",
    "print(\"จำนวนวัตถุ (ไม่รวม background):\", num_labels - 1)\n",
    "\n",
    "# วาด centroids ลงบนภาพ (แปลงภาพกลับไปเป็น BGR เพื่อให้เห็นสี)\n",
    "img_color = cv2.cvtColor(img, cv2.COLOR_GRAY2BGR)\n",
    "for i in range(1, num_labels):  # เริ่มที่ 1 เพราะ label 0 คือ background\n",
    "    #cX, cY = int(centroids[i][0]), int(centroids[i][1])\n",
    "    x, y, w, h, area = stats[i]\n",
    "    #cv2.circle(img_color, (cX, cY), 2, (0, 0, 255), -1)  # วาดจุดสีแดง\n",
    "    # วาดกรอบสี่เหลี่ยมด้วยสีเขียว หนา 2 พิกเซล\n",
    "    cv2.rectangle(img_color, (x, y), (x + w, y + h), (0, 255, 0), 1)\n",
    "\n",
    "cv2.imshow('Centroids', img_color)\n",
    "cv2.imshow('thresh', thresh)\n",
    "cv2.imshow('rectangle', img_color)\n",
    "cv2.waitKey(0)\n",
    "cv2.destroyAllWindows()\n",
    "\n",
    "print(len(stats))\n"
   ]
  },
  {
   "cell_type": "code",
   "execution_count": null,
   "metadata": {},
   "outputs": [],
   "source": []
  }
 ],
 "metadata": {
  "kernelspec": {
   "display_name": "tfgpu",
   "language": "python",
   "name": "python3"
  },
  "language_info": {
   "codemirror_mode": {
    "name": "ipython",
    "version": 3
   },
   "file_extension": ".py",
   "mimetype": "text/x-python",
   "name": "python",
   "nbconvert_exporter": "python",
   "pygments_lexer": "ipython3",
   "version": "3.9.19"
  }
 },
 "nbformat": 4,
 "nbformat_minor": 2
}
