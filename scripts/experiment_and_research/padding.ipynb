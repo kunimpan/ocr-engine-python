{
 "cells": [
  {
   "cell_type": "markdown",
   "metadata": {},
   "source": [
    "## Padding\n",
    "หากตัวอักษรมีขนาดเล็กกว่าพื้นที่ 32x32 คุณสามารถเพิ่มพื้นที่ว่าง (Padding) ด้วยสีดำหรือสีขาวรอบ ๆ ตัวอักษร เพื่อปรับให้ตัวอักษรอยู่ตรงกลาง"
   ]
  },
  {
   "cell_type": "code",
   "execution_count": 1,
   "metadata": {},
   "outputs": [],
   "source": [
    "import cv2\n",
    "import numpy as np\n",
    "\n",
    "# โหลดภาพตัวอักษร\n",
    "image = cv2.imread('../../dataset/eng_lowercase/a/a_1.png', cv2.IMREAD_GRAYSCALE)\n",
    "\n",
    "# ขยายภาพเป็นขนาด 28x28\n",
    "resized = cv2.resize(image, (28, 28))\n",
    "\n",
    "# เพิ่ม Padding เพื่อให้ได้ขนาด 32x32\n",
    "padded_image = cv2.copyMakeBorder(resized, 2, 2, 2, 2, cv2.BORDER_CONSTANT, value=0)\n",
    "\n",
    "# แสดงผล\n",
    "cv2.imshow('Padded Image', padded_image)\n",
    "cv2.waitKey(0)\n",
    "cv2.destroyAllWindows()\n"
   ]
  },
  {
   "cell_type": "markdown",
   "metadata": {},
   "source": [
    "## เพิ่ม Padding และปรับขนาดให้ได้ 32x32"
   ]
  },
  {
   "cell_type": "code",
   "execution_count": 4,
   "metadata": {},
   "outputs": [],
   "source": [
    "from PIL import Image, ImageOps\n",
    "\n",
    "# โหลดภาพตัวอักษร\n",
    "image = Image.open('../../data/test_images/alphabet/test_i_1.jpg')\n",
    "\n",
    "# เพิ่ม Padding เพื่อให้ได้ขนาด 32x32\n",
    "desired_size = 20\n",
    "old_size = image.size  # ขนาดเดิมของภาพ (width, height)\n",
    "\n",
    "# คำนวณ Padding ที่ต้องเพิ่ม\n",
    "delta_w = desired_size - old_size[0]\n",
    "delta_h = desired_size - old_size[1]\n",
    "padding = (delta_w // 2, delta_h // 2, delta_w - (delta_w // 2), delta_h - (delta_h // 2))\n",
    "\n",
    "# เพิ่ม Padding\n",
    "new_image = ImageOps.expand(image, padding, fill='white')\n",
    "\n",
    "# แสดงผล\n",
    "new_image.show()\n",
    "\n",
    "# บันทึกภาพ\n",
    "new_image.save('padded_32x32.png')\n"
   ]
  },
  {
   "cell_type": "markdown",
   "metadata": {},
   "source": [
    "## ใช้ Padding เพื่อรักษาสัดส่วน\n",
    "ก่อนการปรับขนาด คุณสามารถเพิ่มพื้นที่รอบตัวอักษร (Padding) เพื่อรักษาสัดส่วนของตัวอักษร และให้ตัวอักษรอยู่กึ่งกลาง"
   ]
  },
  {
   "cell_type": "code",
   "execution_count": 10,
   "metadata": {},
   "outputs": [],
   "source": [
    "import cv2\n",
    "import numpy as np\n",
    "\n",
    "def resize_with_padding(image, desired_size):\n",
    "    old_size = image.shape[:2]  # ขนาดเดิม (height, width)\n",
    "    ratio = float(desired_size) / max(old_size)  # คำนวณอัตราส่วน\n",
    "    new_size = tuple([int(x * ratio) for x in old_size])  # ขนาดใหม่หลังปรับตามอัตราส่วน\n",
    "\n",
    "    # Resize ภาพ\n",
    "    resized_image = cv2.resize(image, (new_size[1], new_size[0]))\n",
    "\n",
    "    # คำนวณ Padding\n",
    "    delta_w = desired_size - new_size[1]\n",
    "    delta_h = desired_size - new_size[0]\n",
    "    top, bottom = delta_h // 2, delta_h - (delta_h // 2)\n",
    "    left, right = delta_w // 2, delta_w - (delta_w // 2)\n",
    "\n",
    "    # เพิ่ม Padding รอบภาพ\n",
    "    padded_image = cv2.copyMakeBorder(resized_image, top, bottom, left, right, cv2.BORDER_CONSTANT, value=0)\n",
    "    return padded_image\n",
    "\n",
    "# ตัวอย่างการใช้งาน\n",
    "image = cv2.imread(\"../../data/output_images/output_characters/line_1_char_2.png\", cv2.IMREAD_GRAYSCALE)\n",
    "desired_size = 32  # ขนาดที่โมเดลต้องการ เช่น 32x32\n",
    "resized_image = resize_with_padding(image, desired_size)\n",
    "\n",
    "cv2.imshow(f\"Character\", resized_image)\n",
    "cv2.waitKey(0)\n",
    "cv2.destroyAllWindows()"
   ]
  },
  {
   "cell_type": "markdown",
   "metadata": {},
   "source": [
    "## 2. ใช้ฟังก์ชันรักษา Aspect Ratio โดยตรง\n",
    "คุณสามารถปรับขนาดภาพโดยไม่เปลี่ยนสัดส่วน แล้วเพิ่ม Padding อัตโนมัติให้ภาพมีขนาดที่โมเดลต้องการ เช่น:"
   ]
  },
  {
   "cell_type": "code",
   "execution_count": 9,
   "metadata": {},
   "outputs": [],
   "source": [
    "from PIL import Image, ImageOps\n",
    "\n",
    "def resize_with_aspect_ratio(image, desired_size):\n",
    "    old_size = image.size  # ขนาดเดิม (width, height)\n",
    "    ratio = float(desired_size) / max(old_size)\n",
    "    new_size = tuple([int(x * ratio) for x in old_size])\n",
    "    \n",
    "    # ใช้ Image.Resampling.LANCZOS แทน ANTIALIAS\n",
    "    image = image.resize(new_size, Image.Resampling.LANCZOS)\n",
    "    \n",
    "    # เพิ่ม Padding\n",
    "    delta_w = desired_size - new_size[0]\n",
    "    delta_h = desired_size - new_size[1]\n",
    "    padding = (delta_w // 2, delta_h // 2, delta_w - delta_w // 2, delta_h - delta_h // 2)\n",
    "    \n",
    "    new_image = ImageOps.expand(image, padding, fill=0)\n",
    "    return new_image\n",
    "\n",
    "# ตัวอย่างการใช้งาน\n",
    "image = Image.open(\"../../data/output_images/output_characters/line_1_char_2.png\").convert(\"L\")\n",
    "resized_image = resize_with_aspect_ratio(image, 32)\n",
    "resized_image.save(\"output_resized_image.png\")"
   ]
  },
  {
   "cell_type": "code",
   "execution_count": 1,
   "metadata": {},
   "outputs": [
    {
     "data": {
      "text/plain": [
       "True"
      ]
     },
     "execution_count": 1,
     "metadata": {},
     "output_type": "execute_result"
    }
   ],
   "source": [
    "import cv2\n",
    "import numpy as np\n",
    "\n",
    "def pad_to_square(image, desired_size):\n",
    "    # คำนวณขนาด Padding\n",
    "    old_size = image.shape[:2]  # (height, width)\n",
    "    delta_w = desired_size - old_size[1]  # ส่วนที่ต้องเพิ่มในความกว้าง\n",
    "    delta_h = desired_size - old_size[0]  # ส่วนที่ต้องเพิ่มในความสูง\n",
    "    top, bottom = delta_h // 2, delta_h - (delta_h // 2)\n",
    "    left, right = delta_w // 2, delta_w - (delta_w // 2)\n",
    "\n",
    "    # เพิ่ม Padding รอบภาพ\n",
    "    color = [0]  # สีดำสำหรับ Grayscale\n",
    "    padded_image = cv2.copyMakeBorder(image, top, bottom, left, right, cv2.BORDER_CONSTANT, value=color)\n",
    "    return padded_image\n",
    "\n",
    "# ตัวอย่างการใช้งาน\n",
    "image = cv2.imread(\"../../data/output_images/output_characters/line_1_char_2.png\", cv2.IMREAD_GRAYSCALE)  # โหลดภาพ Grayscale\n",
    "desired_size = 32  # ขนาดที่ต้องการ\n",
    "padded_image = pad_to_square(image, desired_size)\n",
    "\n",
    "cv2.imshow(\"Padded Image\", padded_image)\n",
    "cv2.waitKey(0)\n",
    "cv2.destroyAllWindows()\n",
    "\n",
    "# บันทึกภาพ\n",
    "cv2.imwrite(\"output_padded_image.png\", padded_image)\n"
   ]
  },
  {
   "cell_type": "code",
   "execution_count": null,
   "metadata": {},
   "outputs": [],
   "source": []
  }
 ],
 "metadata": {
  "kernelspec": {
   "display_name": "Python 3",
   "language": "python",
   "name": "python3"
  },
  "language_info": {
   "codemirror_mode": {
    "name": "ipython",
    "version": 3
   },
   "file_extension": ".py",
   "mimetype": "text/x-python",
   "name": "python",
   "nbconvert_exporter": "python",
   "pygments_lexer": "ipython3",
   "version": "3.9.19"
  }
 },
 "nbformat": 4,
 "nbformat_minor": 2
}
