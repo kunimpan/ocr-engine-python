{
 "cells": [
  {
   "cell_type": "markdown",
   "metadata": {},
   "source": [
    "## Padding\n",
    "หากตัวอักษรมีขนาดเล็กกว่าพื้นที่ 32x32 คุณสามารถเพิ่มพื้นที่ว่าง (Padding) ด้วยสีดำหรือสีขาวรอบ ๆ ตัวอักษร เพื่อปรับให้ตัวอักษรอยู่ตรงกลาง"
   ]
  },
  {
   "cell_type": "code",
   "execution_count": 1,
   "metadata": {},
   "outputs": [],
   "source": [
    "import cv2\n",
    "import numpy as np\n",
    "\n",
    "# โหลดภาพตัวอักษร\n",
    "image = cv2.imread('../../dataset/eng_lowercase/a/a_1.png', cv2.IMREAD_GRAYSCALE)\n",
    "\n",
    "# ขยายภาพเป็นขนาด 28x28\n",
    "resized = cv2.resize(image, (28, 28))\n",
    "\n",
    "# เพิ่ม Padding เพื่อให้ได้ขนาด 32x32\n",
    "padded_image = cv2.copyMakeBorder(resized, 2, 2, 2, 2, cv2.BORDER_CONSTANT, value=0)\n",
    "\n",
    "# แสดงผล\n",
    "cv2.imshow('Padded Image', padded_image)\n",
    "cv2.waitKey(0)\n",
    "cv2.destroyAllWindows()\n"
   ]
  },
  {
   "cell_type": "markdown",
   "metadata": {},
   "source": [
    "## เพิ่ม Padding และปรับขนาดให้ได้ 32x32"
   ]
  },
  {
   "cell_type": "code",
   "execution_count": 4,
   "metadata": {},
   "outputs": [],
   "source": [
    "from PIL import Image, ImageOps\n",
    "\n",
    "# โหลดภาพตัวอักษร\n",
    "image = Image.open('../../data/test_images/alphabet/test_i_1.jpg')\n",
    "\n",
    "# เพิ่ม Padding เพื่อให้ได้ขนาด 32x32\n",
    "desired_size = 20\n",
    "old_size = image.size  # ขนาดเดิมของภาพ (width, height)\n",
    "\n",
    "# คำนวณ Padding ที่ต้องเพิ่ม\n",
    "delta_w = desired_size - old_size[0]\n",
    "delta_h = desired_size - old_size[1]\n",
    "padding = (delta_w // 2, delta_h // 2, delta_w - (delta_w // 2), delta_h - (delta_h // 2))\n",
    "\n",
    "# เพิ่ม Padding\n",
    "new_image = ImageOps.expand(image, padding, fill='white')\n",
    "\n",
    "# แสดงผล\n",
    "new_image.show()\n",
    "\n",
    "# บันทึกภาพ\n",
    "new_image.save('padded_32x32.png')\n"
   ]
  },
  {
   "cell_type": "code",
   "execution_count": null,
   "metadata": {},
   "outputs": [],
   "source": []
  }
 ],
 "metadata": {
  "kernelspec": {
   "display_name": "Python 3",
   "language": "python",
   "name": "python3"
  },
  "language_info": {
   "codemirror_mode": {
    "name": "ipython",
    "version": 3
   },
   "file_extension": ".py",
   "mimetype": "text/x-python",
   "name": "python",
   "nbconvert_exporter": "python",
   "pygments_lexer": "ipython3",
   "version": "3.9.19"
  }
 },
 "nbformat": 4,
 "nbformat_minor": 2
}
