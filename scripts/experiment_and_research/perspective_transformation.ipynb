{
 "cells": [
  {
   "cell_type": "code",
   "execution_count": 157,
   "metadata": {},
   "outputs": [
    {
     "data": {
      "text/plain": [
       "True"
      ]
     },
     "execution_count": 157,
     "metadata": {},
     "output_type": "execute_result"
    }
   ],
   "source": [
    "import cv2\n",
    "import numpy as np\n",
    "\n",
    "# โหลดรูปภาพ\n",
    "#image = cv2.imread(\"C:/Users/Impan/Documents/ocr-engine-python/data/test_images/transcript/high_school/transcript_hs_front_3.png\")\n",
    "#image = cv2.imread(\"C:/Users/Impan/Documents/ocr-engine-python/data/test_images/transcript/technician/transcript_hs_front_1.png\")\n",
    "image = cv2.imread(\"C:/Users/Impan/Documents/ocr-engine-python/data/test_images/transcript/technician/transcript_hs_front_2.png\")\n",
    "\n",
    "#image = cv2.imread(\"C:/Users/Impan/Documents/ocr-engine-python/data/test_images/transcript/pun_tran_mo.jpg\")\n",
    "#image = cv2.imread(\"E:/document.jpg\")\n",
    "denoised = cv2.bilateralFilter(image, 20, 30, 30)\n",
    "gray_img = cv2.cvtColor(image, cv2.COLOR_BGR2GRAY)\n",
    "edged = cv2.Canny(gray_img, 50, 200)\n",
    "\n",
    "# สำหรับภาพที่แสงไม่สม่ำเสมอ\n",
    "binary_gaussian = cv2.adaptiveThreshold(\n",
    "    gray_img, \n",
    "    maxValue=255, \n",
    "    adaptiveMethod=cv2.ADAPTIVE_THRESH_GAUSSIAN_C,\n",
    "    thresholdType=cv2.THRESH_BINARY_INV, \n",
    "    blockSize=41, \n",
    "    C=20\n",
    ")\n",
    "\n",
    "cv2.imwrite(\"output/transcript_binary_g.png\", binary_gaussian)\n",
    "cv2.imwrite(\"output/gray_img.png\", gray_img)\n",
    "cv2.imwrite(\"output/edged.png\", edged)\n"
   ]
  },
  {
   "cell_type": "code",
   "execution_count": 158,
   "metadata": {},
   "outputs": [
    {
     "data": {
      "text/plain": [
       "True"
      ]
     },
     "execution_count": 158,
     "metadata": {},
     "output_type": "execute_result"
    }
   ],
   "source": [
    "original_img = image\n",
    "num_labels, labels, stats, centroids = cv2.connectedComponentsWithStats(binary_gaussian, connectivity=8)\n",
    "areas = [stat[4] for stat in stats]  # ดึงค่า area\n",
    "sorted_areas = sorted(areas, reverse=True)  # เรียงลำดับจากมากไปน้อย\n",
    "second_max_area = sorted_areas[1]  # ค่าอันดับ 2\n",
    "second_max_area_index = areas.index(second_max_area)  # หาตำแหน่งในลิสต์เดิม\n",
    "\n",
    "table_position = stats[second_max_area_index]\n",
    "x, y, w, h, area = table_position\n",
    "table_img = binary_gaussian[y:y+h, x:x+w]\n",
    "table_original = original_img[y:y+h, x:x+w]\n",
    "cv2.imwrite(\"output/table.png\", table_img)\n",
    "cv2.imwrite(\"output/table_original.png\", table_original)\n"
   ]
  },
  {
   "cell_type": "code",
   "execution_count": 159,
   "metadata": {},
   "outputs": [
    {
     "name": "stdout",
     "output_type": "stream",
     "text": [
      "[[[1539    0]]\n",
      "\n",
      " [[  15   39]]\n",
      "\n",
      " [[   0 1318]]\n",
      "\n",
      " [[1571 1348]]]\n"
     ]
    },
    {
     "data": {
      "text/plain": [
       "True"
      ]
     },
     "execution_count": 159,
     "metadata": {},
     "output_type": "execute_result"
    }
   ],
   "source": [
    "def biggest_contour(contours):\n",
    "    biggest = np.array([])\n",
    "    max_area = 0\n",
    "    for i in contours:\n",
    "        area = cv2.contourArea(i)\n",
    "        #print(area)\n",
    "        if area > 1000:\n",
    "            #print(\"มา\")\n",
    "            peri = cv2.arcLength(i, True)\n",
    "            approx = cv2.approxPolyDP(i, 0.02 * peri, True)\n",
    "            if area > max_area and len(approx) == 4:\n",
    "                biggest = approx\n",
    "                max_area = area\n",
    "\n",
    "    return biggest\n",
    "\n",
    "image_copy = image.copy()\n",
    "table_original_copy = table_original.copy()\n",
    "\n",
    "contours, hierarchy = cv2.findContours(table_img, cv2.RETR_TREE, cv2.CHAIN_APPROX_SIMPLE)\n",
    "#contours, hierarchy = cv2.findContours(edged.copy(), cv2.RETR_TREE, cv2.CHAIN_APPROX_SIMPLE)\n",
    "contours = sorted(contours, key=cv2.contourArea, reverse=True)[:10]\n",
    "\n",
    "biggest = biggest_contour(contours)\n",
    "#for i in contours:\n",
    "#    cv2.drawContours (image_copy, [i], -1, (0, 255, 0), 3)\n",
    "\n",
    "#cv2.drawContours(image_copy, [biggest], -1, (0, 255, 0), 3)\n",
    "#cv2.imwrite(\"output/contours.png\", image_copy)\n",
    "\n",
    "print(biggest)\n",
    "\n",
    "points = biggest.reshape(4, 2)\n",
    "input_points = np.zeros((4, 2), dtype=\"float32\")\n",
    "\n",
    "points_sum = points.sum(axis=1)\n",
    "input_points[0] = points[np.argmin(points_sum)]\n",
    "input_points[3] = points[np.argmax(points_sum)]\n",
    "\n",
    "points_diff = np.diff(points, axis=1)\n",
    "input_points[1] = points[np.argmin(points_diff)]\n",
    "input_points[2] = points[np.argmax(points_diff)]\n",
    "\n",
    "(top_left, top_right, bottom_right, bottom_left) = input_points\n",
    "\n",
    "# Euclidean Distance Formula\n",
    "bottom_width = np.sqrt(((bottom_right[0] - bottom_left[0]) ** 2) + ((bottom_right[1] - bottom_left[1]) ** 2))\n",
    "top_width = np.sqrt(((top_right[0] - top_left[0]) ** 2) + ((top_right[1] - top_left[1]) ** 2))\n",
    "rigth_height = np.sqrt(((top_left[0] - bottom_right[0]) ** 2) + ((top_left[1] - bottom_right[1]) ** 2))\n",
    "left_height = np.sqrt(((top_left[0] - bottom_left[0]) ** 2) + ((top_left[1] - bottom_left[1]) ** 2))\n",
    "\n",
    "# Output image size\n",
    "#max_width = max(int(bottom_width), int(top_width))\n",
    "expand_width = round(max(int(bottom_width), int(top_width)) * 0.4)\n",
    "max_width = max(int(bottom_width), int(top_width)) + expand_width\n",
    "max_height = max(int(rigth_height), int(left_height))\n",
    "\n",
    "# Desird points values in the output image\n",
    "converted_points = np.float32([[0, 0], [max_width, 0], [0, max_height], [max_width, max_height]])\n",
    "\n",
    "# Perspective transformaxtion\n",
    "matrix = cv2.getPerspectiveTransform(input_points, converted_points)\n",
    "img_out = cv2.warpPerspective(table_original_copy, matrix, (max_width, max_height))\n",
    "#img_out = cv2.warpPerspective(image_copy, matrix, (max_width, max_height))\n",
    "\n",
    "\n",
    "\n",
    "cv2.imwrite(\"output/warp_perspective.png\", img_out)\n",
    "#cv2.imwrite(\"output/contours.png\", table_original_copy)"
   ]
  },
  {
   "cell_type": "code",
   "execution_count": 145,
   "metadata": {},
   "outputs": [
    {
     "data": {
      "text/plain": [
       "True"
      ]
     },
     "execution_count": 145,
     "metadata": {},
     "output_type": "execute_result"
    }
   ],
   "source": [
    "import cv2\n",
    "import numpy as np\n",
    "from skimage.transform import PiecewiseAffineTransform, warp\n",
    "\n",
    "def biggest_contour(contours):\n",
    "    \"\"\" ค้นหาคอนทัวร์ที่ใหญ่ที่สุดที่มี 4 มุม (สี่เหลี่ยม) \"\"\"\n",
    "    biggest = np.array([])\n",
    "    max_area = 0\n",
    "    for i in contours:\n",
    "        area = cv2.contourArea(i)\n",
    "        if area > 1000:\n",
    "            peri = cv2.arcLength(i, True)\n",
    "            approx = cv2.approxPolyDP(i, 0.02 * peri, True)\n",
    "            if area > max_area and len(approx) == 4:\n",
    "                biggest = approx\n",
    "                max_area = area\n",
    "    return biggest\n",
    "\n",
    "# โหลดภาพ\n",
    "image = cv2.imread(\"C:/Users/Impan/Documents/ocr-engine-python/data/test_images/transcript/technician/transcript_hs_front_2.png\")\n",
    "image_copy = image.copy()\n",
    "gray = cv2.cvtColor(image, cv2.COLOR_BGR2GRAY)\n",
    "\n",
    "# ค้นหาขอบของภาพ\n",
    "edges = cv2.Canny(gray, 50, 150)\n",
    "\n",
    "# ค้นหาคอนทัวร์\n",
    "contours, hierarchy = cv2.findContours(edges.copy(), cv2.RETR_TREE, cv2.CHAIN_APPROX_SIMPLE)\n",
    "contours = sorted(contours, key=cv2.contourArea, reverse=True)\n",
    "\n",
    "# ค้นหาสี่เหลี่ยมที่ใหญ่ที่สุด\n",
    "biggest = biggest_contour(contours)\n",
    "\n",
    "# ตรวจสอบว่าพบตารางหรือไม่\n",
    "if biggest.size == 0:\n",
    "    print(\"ไม่พบสี่เหลี่ยมในภาพ\")\n",
    "    exit()\n",
    "\n",
    "# แปลงรูปแบบของจุดมุม\n",
    "points = biggest.reshape(4, 2)\n",
    "\n",
    "# สร้างจุดควบคุมเพิ่มเติม (4 มุม + จุดกลางของแต่ละด้าน)\n",
    "extra_points = [\n",
    "    (points[0] + points[1]) / 2,  # กลางบน\n",
    "    (points[1] + points[2]) / 2,  # ขวากลาง\n",
    "    (points[2] + points[3]) / 2,  # ล่างกลาง\n",
    "    (points[3] + points[0]) / 2   # ซ้ายกลาง\n",
    "]\n",
    "\n",
    "# รวมจุดทั้งหมด (4 มุม + จุดกลาง)\n",
    "src_points = np.vstack([points] + [np.array(extra_points)])\n",
    "\n",
    "# คำนวณขนาดภาพปลายทาง\n",
    "max_width = int(max(np.linalg.norm(points[1] - points[0]), np.linalg.norm(points[2] - points[3])))\n",
    "max_height = int(max(np.linalg.norm(points[0] - points[3]), np.linalg.norm(points[1] - points[2])))\n",
    "\n",
    "# กำหนดตำแหน่งจุดปลายทางที่ต้องการให้เป็นเส้นตรง\n",
    "dst_points = np.array([\n",
    "    [0, 0], [max_width, 0], [max_width, max_height], [0, max_height],  # 4 มุม\n",
    "    [max_width // 2, 0], [max_width, max_height // 2],  # จุดกลางบน & ขวา\n",
    "    [max_width // 2, max_height], [0, max_height // 2]  # จุดกลางล่าง & ซ้าย\n",
    "], dtype=np.float32)\n",
    "\n",
    "# ใช้ Thin Plate Spline (TPS) - Piecewise Affine Transform\n",
    "tps = PiecewiseAffineTransform()\n",
    "tps.estimate(dst_points, src_points)\n",
    "\n",
    "# ทำการแปลงภาพ\n",
    "warped = warp(image, tps, output_shape=(max_height, max_width))\n",
    "\n",
    "# แปลงกลับเป็น uint8 เพื่อใช้กับ OpenCV\n",
    "warped = (warped * 255).astype(np.uint8)\n",
    "\n",
    "# แสดงผลภาพที่ถูกแก้ไข\n",
    "cv2.imwrite(\"output/TPS.png\", warped)\n"
   ]
  },
  {
   "cell_type": "code",
   "execution_count": null,
   "metadata": {},
   "outputs": [],
   "source": []
  }
 ],
 "metadata": {
  "kernelspec": {
   "display_name": "tfgpu",
   "language": "python",
   "name": "python3"
  },
  "language_info": {
   "codemirror_mode": {
    "name": "ipython",
    "version": 3
   },
   "file_extension": ".py",
   "mimetype": "text/x-python",
   "name": "python",
   "nbconvert_exporter": "python",
   "pygments_lexer": "ipython3",
   "version": "3.9.19"
  }
 },
 "nbformat": 4,
 "nbformat_minor": 2
}
