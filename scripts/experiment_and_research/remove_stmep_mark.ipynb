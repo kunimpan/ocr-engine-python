{
 "cells": [
  {
   "cell_type": "code",
   "execution_count": 2,
   "metadata": {},
   "outputs": [
    {
     "data": {
      "text/plain": [
       "True"
      ]
     },
     "execution_count": 2,
     "metadata": {},
     "output_type": "execute_result"
    }
   ],
   "source": [
    "import cv2\n",
    "import numpy as np\n",
    "\n",
    "# อ่านภาพเอกสาร\n",
    "img = cv2.imread(\"C:/Users/Impan/Documents/ocr-engine-python/data/output_images/output_V6_HS/transcript_denoised.png\")\n",
    "\n",
    "# แปลงภาพจาก BGR ไปยัง HSV\n",
    "hsv = cv2.cvtColor(img, cv2.COLOR_BGR2HSV)\n",
    "\n",
    "# กำหนดช่วงสีแดงให้ครอบคลุมทุกความเข้ม\n",
    "# ช่วงแรก (Hue 0-10)\n",
    "lower_red1 = np.array([0, 50, 50])      # ลดค่า S และ V ลงเล็กน้อยเพื่อจับสีแดงที่อ่อนและเข้ม\n",
    "upper_red1 = np.array([10, 255, 255])\n",
    "\n",
    "# ช่วงที่สอง (Hue 160-179)\n",
    "lower_red2 = np.array([160, 50, 50])\n",
    "upper_red2 = np.array([179, 255, 255])\n",
    "\n",
    "# สร้าง mask สำหรับแต่ละช่วง\n",
    "mask1 = cv2.inRange(hsv, lower_red1, upper_red1)\n",
    "mask2 = cv2.inRange(hsv, lower_red2, upper_red2)\n",
    "\n",
    "# รวม mask ทั้งสองเข้าด้วยกัน\n",
    "mask = cv2.bitwise_or(mask1, mask2)\n",
    "\n",
    "# ปรับปรุง mask ด้วยเทคนิค morphology (optional) เพื่อลด noise และทำให้ mask สมูทขึ้น\n",
    "kernel = np.ones((3, 3), np.uint8)\n",
    "mask = cv2.morphologyEx(mask, cv2.MORPH_CLOSE, kernel, iterations=2)\n",
    "mask = cv2.morphologyEx(mask, cv2.MORPH_OPEN, kernel, iterations=2)\n",
    "\n",
    "# ตัวอย่างการใช้ inpainting เพื่อลบสีแดงออกจากภาพ (หรือปรับใช้ตามที่ต้องการ)\n",
    "result = cv2.inpaint(img, mask, inpaintRadius=3, flags=cv2.INPAINT_TELEA)\n",
    "\n",
    "# บันทึกภาพผลลัพธ์\n",
    "cv2.imwrite(\"document_clean.jpg\", result)"
   ]
  },
  {
   "cell_type": "code",
   "execution_count": null,
   "metadata": {},
   "outputs": [],
   "source": []
  }
 ],
 "metadata": {
  "kernelspec": {
   "display_name": "tfgpu",
   "language": "python",
   "name": "python3"
  },
  "language_info": {
   "codemirror_mode": {
    "name": "ipython",
    "version": 3
   },
   "file_extension": ".py",
   "mimetype": "text/x-python",
   "name": "python",
   "nbconvert_exporter": "python",
   "pygments_lexer": "ipython3",
   "version": "3.9.19"
  }
 },
 "nbformat": 4,
 "nbformat_minor": 2
}
