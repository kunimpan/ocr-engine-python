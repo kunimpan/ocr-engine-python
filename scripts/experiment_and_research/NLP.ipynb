{
 "cells": [
  {
   "cell_type": "markdown",
   "metadata": {},
   "source": [
    "## Hugging Face Transformers สำหรับ Language Models"
   ]
  },
  {
   "cell_type": "code",
   "execution_count": 5,
   "metadata": {},
   "outputs": [
    {
     "name": "stderr",
     "output_type": "stream",
     "text": [
      "Some weights of the model checkpoint at bert-base-uncased were not used when initializing BertForMaskedLM: ['bert.pooler.dense.bias', 'bert.pooler.dense.weight', 'cls.seq_relationship.bias', 'cls.seq_relationship.weight']\n",
      "- This IS expected if you are initializing BertForMaskedLM from the checkpoint of a model trained on another task or with another architecture (e.g. initializing a BertForSequenceClassification model from a BertForPreTraining model).\n",
      "- This IS NOT expected if you are initializing BertForMaskedLM from the checkpoint of a model that you expect to be exactly identical (initializing a BertForSequenceClassification model from a BertForSequenceClassification model).\n",
      "Device set to use cpu\n"
     ]
    }
   ],
   "source": [
    "from transformers import pipeline\n",
    "\n",
    "# โหลดโมเดล BERT สำหรับงานเติมคำ (Masked Language Modeling)\n",
    "fill_mask = pipeline(\"fill-mask\", model=\"bert-base-uncased\")"
   ]
  },
  {
   "cell_type": "markdown",
   "metadata": {},
   "source": [
    "## pyspellchecker"
   ]
  },
  {
   "cell_type": "code",
   "execution_count": 44,
   "metadata": {},
   "outputs": [],
   "source": [
    "from spellchecker import SpellChecker\n",
    "\n",
    "# โหลด Spell Checker\n",
    "spell = SpellChecker()\n",
    "\n",
    "# ข้อความที่ต้องการตรวจสอบ\n",
    "words = \"CommuniCAtion\".split()\n",
    "\n",
    "# ตรวจสอบคำที่สะกดผิด\n",
    "misspelled = spell.unknown(words)\n",
    "\n",
    "# แสดงคำผิดและคำแนะนำ\n",
    "for word in misspelled:\n",
    "    print(f\"คำผิด: {word}\")\n",
    "    print(f\"คำแนะนำ: {spell.candidates(word)}\")\n"
   ]
  },
  {
   "cell_type": "markdown",
   "metadata": {},
   "source": [
    "## Hunspell"
   ]
  },
  {
   "cell_type": "code",
   "execution_count": null,
   "metadata": {},
   "outputs": [],
   "source": []
  },
  {
   "cell_type": "markdown",
   "metadata": {},
   "source": [
    "## Py Enchant\n"
   ]
  },
  {
   "cell_type": "markdown",
   "metadata": {},
   "source": [
    "### ตรวจสอบคำสะกด"
   ]
  },
  {
   "cell_type": "code",
   "execution_count": 10,
   "metadata": {},
   "outputs": [
    {
     "name": "stdout",
     "output_type": "stream",
     "text": [
      "ข้อความที่แก้ไข: I have a pen in my bag\n"
     ]
    }
   ],
   "source": [
    "import enchant\n",
    "\n",
    "# สร้าง Dictionary ภาษาอังกฤษ\n",
    "d = enchant.Dict(\"en_US\")\n",
    "\n",
    "# ข้อความตัวอย่าง\n",
    "text = \"I have a pen in my bag\"\n",
    "\n",
    "# แยกคำในข้อความ\n",
    "words = text.split()\n",
    "\n",
    "# ตรวจสอบและแก้ไขคำที่สะกดผิด\n",
    "corrected_text = []\n",
    "for word in words:\n",
    "    if d.check(word):  # ถ้าคำถูกต้อง\n",
    "        corrected_text.append(word)\n",
    "    else:  # ถ้าคำผิด ให้ใช้คำแนะนำคำแรก\n",
    "        suggestions = d.suggest(word)\n",
    "        corrected_word = suggestions[0] if suggestions else word  # ใช้คำแนะนำคำแรก หรือคงคำเดิมหากไม่มีคำแนะนำ\n",
    "        corrected_text.append(corrected_word)\n",
    "\n",
    "# รวมคำกลับเป็นข้อความ\n",
    "corrected_sentence = \" \".join(corrected_text)\n",
    "print(\"ข้อความที่แก้ไข:\", corrected_sentence)\n",
    "\n"
   ]
  },
  {
   "cell_type": "markdown",
   "metadata": {},
   "source": [
    "## symspellpy"
   ]
  },
  {
   "cell_type": "code",
   "execution_count": 11,
   "metadata": {},
   "outputs": [
    {
     "ename": "AttributeError",
     "evalue": "'SymSpell' object has no attribute 'create_dictionary_from_text'",
     "output_type": "error",
     "traceback": [
      "\u001b[1;31m---------------------------------------------------------------------------\u001b[0m",
      "\u001b[1;31mAttributeError\u001b[0m                            Traceback (most recent call last)",
      "Cell \u001b[1;32mIn[11], line 7\u001b[0m\n\u001b[0;32m      4\u001b[0m sym_spell \u001b[38;5;241m=\u001b[39m SymSpell(max_dictionary_edit_distance\u001b[38;5;241m=\u001b[39m\u001b[38;5;241m2\u001b[39m)\n\u001b[0;32m      6\u001b[0m \u001b[38;5;66;03m# โหลด Dictionary คำ (คุณสามารถใช้ไฟล์อื่นได้เช่นไฟล์ wordlist)\u001b[39;00m\n\u001b[1;32m----> 7\u001b[0m \u001b[43msym_spell\u001b[49m\u001b[38;5;241;43m.\u001b[39;49m\u001b[43mcreate_dictionary_from_text\u001b[49m(\u001b[38;5;124m\"\u001b[39m\u001b[38;5;124mwordlist.txt\u001b[39m\u001b[38;5;124m\"\u001b[39m)\n\u001b[0;32m      9\u001b[0m \u001b[38;5;66;03m# คำที่ต้องการแก้ไข\u001b[39;00m\n\u001b[0;32m     10\u001b[0m input_term \u001b[38;5;241m=\u001b[39m \u001b[38;5;124m\"\u001b[39m\u001b[38;5;124mqanially\u001b[39m\u001b[38;5;124m\"\u001b[39m\n",
      "\u001b[1;31mAttributeError\u001b[0m: 'SymSpell' object has no attribute 'create_dictionary_from_text'"
     ]
    }
   ],
   "source": [
    "from symspellpy import SymSpell, Verbosity\n",
    "\n",
    "# สร้าง SymSpell\n",
    "sym_spell = SymSpell(max_dictionary_edit_distance=2)\n",
    "\n",
    "# โหลด Dictionary คำ (คุณสามารถใช้ไฟล์อื่นได้เช่นไฟล์ wordlist)\n",
    "sym_spell.create_dictionary_from_text(\"wordlist.txt\")\n",
    "\n",
    "# คำที่ต้องการแก้ไข\n",
    "input_term = \"qanially\"\n",
    "\n",
    "# หาคำที่ใกล้เคียงที่สุด\n",
    "suggestions = sym_spell.lookup(input_term, Verbosity.CLOSEST, max_edit_distance=2)\n",
    "\n",
    "# แสดงคำแนะนำ\n",
    "for suggestion in suggestions:\n",
    "    print(f\"แก้ไขเป็น: {suggestion.term}, คะแนน: {suggestion.distance}\")\n"
   ]
  },
  {
   "cell_type": "code",
   "execution_count": null,
   "metadata": {},
   "outputs": [],
   "source": []
  }
 ],
 "metadata": {
  "kernelspec": {
   "display_name": "tfgpu",
   "language": "python",
   "name": "python3"
  },
  "language_info": {
   "codemirror_mode": {
    "name": "ipython",
    "version": 3
   },
   "file_extension": ".py",
   "mimetype": "text/x-python",
   "name": "python",
   "nbconvert_exporter": "python",
   "pygments_lexer": "ipython3",
   "version": "3.9.19"
  }
 },
 "nbformat": 4,
 "nbformat_minor": 2
}
