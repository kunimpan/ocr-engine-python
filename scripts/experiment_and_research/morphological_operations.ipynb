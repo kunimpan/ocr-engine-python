{
 "cells": [
  {
   "cell_type": "markdown",
   "metadata": {},
   "source": [
    "## Dilation"
   ]
  },
  {
   "cell_type": "code",
   "execution_count": null,
   "metadata": {},
   "outputs": [],
   "source": [
    "import cv2\n",
    "import numpy as np\n",
    "\n",
    "# โหลดภาพ\n",
    "image = cv2.imread(\"../../data/test_images/word_images/word_4.jpg\")\n",
    "if image is None:\n",
    "    raise FileNotFoundError(\"ไม่พบไฟล์ภาพ กรุณาตรวจสอบเส้นทางของไฟล์\")\n",
    "\n",
    "# แปลงเป็น Grayscale\n",
    "gray = cv2.cvtColor(image, cv2.COLOR_BGR2GRAY)\n",
    "\n",
    "# การ Threshold แบบ Adaptive Gaussian\n",
    "binary_image = cv2.adaptiveThreshold(\n",
    "    gray, 255, cv2.ADAPTIVE_THRESH_GAUSSIAN_C, cv2.THRESH_BINARY_INV, 51,30\n",
    ")\n",
    "\n",
    "# สร้าง Kernel ขนาด 3x3\n",
    "kernel = cv2.getStructuringElement(cv2.MORPH_RECT, (3, 3))\n",
    "\n",
    "# Dilation\n",
    "dilated_image = cv2.dilate(binary_image, kernel, iterations=1)\n",
    "\n",
    "cv2.imshow(\"Original Image\", binary_image)\n",
    "cv2.imshow(\"Dilated Image\", dilated_image)\n",
    "cv2.waitKey(0)\n",
    "cv2.destroyAllWindows()"
   ]
  },
  {
   "cell_type": "code",
   "execution_count": 12,
   "metadata": {},
   "outputs": [],
   "source": [
    "# โหลดภาพ\n",
    "image = cv2.imread(\"../../data/test_images/word_images/word_4.jpg\")\n",
    "if image is None:\n",
    "    raise FileNotFoundError(\"ไม่พบไฟล์ภาพ กรุณาตรวจสอบเส้นทางของไฟล์\")\n",
    "\n",
    "# แปลงเป็น Grayscale\n",
    "gray = cv2.cvtColor(image, cv2.COLOR_BGR2GRAY)\n",
    "\n",
    "# การ Threshold แบบ Adaptive Gaussian\n",
    "binary_image = cv2.adaptiveThreshold(\n",
    "    gray, 255, cv2.ADAPTIVE_THRESH_GAUSSIAN_C, cv2.THRESH_BINARY_INV, 51,30\n",
    ")\n",
    "\n",
    "def dilation_image(binary_image, iterations):\n",
    "    kernel = cv2.getStructuringElement(cv2.MORPH_RECT, (3, 3))\n",
    "    dilated_image = cv2.dilate(binary_image, kernel, iterations)\n",
    "    return dilated_image\n",
    "\n",
    "cv2.imshow(\"Dilated Image\", dilation_image(binary_image, 10))\n",
    "cv2.waitKey(0)\n",
    "cv2.destroyAllWindows()\n"
   ]
  },
  {
   "cell_type": "markdown",
   "metadata": {},
   "source": [
    "## Erosion"
   ]
  },
  {
   "cell_type": "code",
   "execution_count": 20,
   "metadata": {},
   "outputs": [],
   "source": [
    "import cv2\n",
    "import numpy as np\n",
    "from matplotlib import pyplot as plt\n",
    "\n",
    "# โหลดภาพ\n",
    "#image = cv2.imread(\"../../data/test_images/word_images/word_10.jpg\")\n",
    "image = cv2.imread(\"../../data/test_images/transcript/Transcript.jpg\")\n",
    "if image is None:\n",
    "    raise FileNotFoundError(\"ไม่พบไฟล์ภาพ กรุณาตรวจสอบเส้นทางของไฟล์\")\n",
    "\n",
    "# แปลงเป็น Grayscale\n",
    "gray = cv2.cvtColor(image, cv2.COLOR_BGR2GRAY)\n",
    "\n",
    "# การ Threshold แบบ Adaptive Gaussian\n",
    "binary_image = cv2.adaptiveThreshold(\n",
    "    gray, 255, cv2.ADAPTIVE_THRESH_GAUSSIAN_C, cv2.THRESH_BINARY_INV, 51,30\n",
    ")\n",
    "\n",
    "# สร้าง structuring element (kernel)\n",
    "kernel = np.ones((2, 2), np.uint8)  # ขนาด 5x5 สามารถปรับได้\n",
    "\n",
    "eroded_image = cv2.erode(binary_image, kernel, iterations=1)\n",
    "\n",
    "cv2.imshow(\"Erosion Image\", eroded_image)\n",
    "cv2.imshow(\"binary Image\", binary_image)\n",
    "cv2.waitKey(0)\n",
    "cv2.destroyAllWindows()"
   ]
  },
  {
   "cell_type": "code",
   "execution_count": 56,
   "metadata": {},
   "outputs": [],
   "source": [
    "import cv2\n",
    "import matplotlib.pyplot as plt\n",
    "import numpy as np\n",
    "\n",
    "#image = cv2.imread(\"../../data/test_images/transcript/Transcript.jpg\")\n",
    "image = cv2.imread(\"../../data/test_images/word_images/word_11.jpg\")\n",
    "#image = cv2.imread(\"../../data/test_images/transcript/pun_no_f.jpg\")\n",
    "if image is None:\n",
    "    raise FileNotFoundError(\"ไม่พบไฟล์ภาพ กรุณาตรวจสอบเส้นทางของไฟล์\")\n",
    "\n",
    "# แปลงเป็น Grayscale\n",
    "gray = cv2.cvtColor(image, cv2.COLOR_BGR2GRAY)\n",
    "\n",
    "# การ Threshold แบบ Adaptive Gaussian\n",
    "binary_image = cv2.adaptiveThreshold(\n",
    "    gray, 255, cv2.ADAPTIVE_THRESH_GAUSSIAN_C, cv2.THRESH_BINARY_INV, 41,30\n",
    ")\n",
    "\n",
    "kernel = np.ones((2, 2), np.uint8)\n",
    "\n",
    "#การขยายภาพ\n",
    "dilation = cv2.dilate(binary_image, kernel, iterations=1)\n",
    "#การกร่อนภาพ\n",
    "erosion = cv2.erode(binary_image, kernel, iterations=1)\n",
    "#การกร่อนภาพ\n",
    "dilation_erosion = cv2.erode(dilation, kernel, iterations=2)\n",
    "\n",
    "#opening\n",
    "opening = cv2.morphologyEx(dilation, cv2.MORPH_OPEN, kernel, iterations=2)\n",
    "#closing\n",
    "closing = cv2.morphologyEx(binary_image, cv2.MORPH_CLOSE, kernel, iterations=5)\n",
    "\n",
    "#cv2.imshow(\"Dilation Image\", dilation)\n",
    "#cv2.imshow(\"Erosion Image\", erosion)\n",
    "#cv2.imshow(\"dilation_erosion Image\", dilation_erosion)\n",
    "cv2.imshow(\"binary Image\", binary_image)\n",
    "#cv2.imshow(\"opening Image\", opening)\n",
    "#cv2.imshow(\"closing Image\", closing)\n",
    "cv2.waitKey(0)\n",
    "cv2.destroyAllWindows()\n",
    "\n"
   ]
  }
 ],
 "metadata": {
  "kernelspec": {
   "display_name": "tfgpu",
   "language": "python",
   "name": "python3"
  },
  "language_info": {
   "codemirror_mode": {
    "name": "ipython",
    "version": 3
   },
   "file_extension": ".py",
   "mimetype": "text/x-python",
   "name": "python",
   "nbconvert_exporter": "python",
   "pygments_lexer": "ipython3",
   "version": "3.9.19"
  }
 },
 "nbformat": 4,
 "nbformat_minor": 2
}
