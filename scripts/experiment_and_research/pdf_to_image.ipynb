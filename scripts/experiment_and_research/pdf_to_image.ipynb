{
 "cells": [
  {
   "cell_type": "code",
   "execution_count": null,
   "metadata": {},
   "outputs": [],
   "source": [
    "from pdf2image import convert_from_path\n",
    "import cv2\n",
    "\n",
    "# แปลง PDF เป็นภาพ\n",
    "images = convert_from_path('Transcript.pdf')\n",
    "\n",
    "# บันทึกและเปิดด้วย OpenCV\n",
    "for i, image in enumerate(images):\n",
    "    image_path = f'page_{i+1}.jpg'\n",
    "    image.save(image_path, 'JPEG')\n",
    "\n",
    "    # อ่านภาพด้วย OpenCV\n",
    "    img = cv2.imread(image_path)\n",
    "    cv2.imshow(f'Page {i+1}', img)\n",
    "    cv2.waitKey(0)\n",
    "    cv2.destroyAllWindows()\n"
   ]
  },
  {
   "cell_type": "code",
   "execution_count": null,
   "metadata": {},
   "outputs": [],
   "source": []
  }
 ],
 "metadata": {
  "kernelspec": {
   "display_name": "tfgpu",
   "language": "python",
   "name": "python3"
  },
  "language_info": {
   "codemirror_mode": {
    "name": "ipython",
    "version": 3
   },
   "file_extension": ".py",
   "mimetype": "text/x-python",
   "name": "python",
   "nbconvert_exporter": "python",
   "pygments_lexer": "ipython3",
   "version": "3.9.19"
  }
 },
 "nbformat": 4,
 "nbformat_minor": 2
}
