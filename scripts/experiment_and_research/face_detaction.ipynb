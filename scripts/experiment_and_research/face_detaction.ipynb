{
 "cells": [
  {
   "cell_type": "code",
   "execution_count": 33,
   "metadata": {},
   "outputs": [],
   "source": [
    "import cv2\n",
    "\n",
    "img = cv2.imread(\"../../data/test_images/transcript/pun_20240817_0001.jpg\")\n",
    "\n",
    "# อ่านไฟล์สำหรับ classification\n",
    "face_cascade = cv2.CascadeClassifier('files/haarcascade_frontalface_default.xml')\n",
    "\n",
    "gray_img = cv2.cvtColor(img, cv2.COLOR_BGR2GRAY)\n",
    "\n",
    "#จำแนกใบหน้า\n",
    "scaleFactor = 1.1\n",
    "minNeighber = 10\n",
    "face_detect = face_cascade.detectMultiScale(gray_img, scaleFactor, minNeighber)\n",
    "\n",
    "#แสดงตำแหน่งที่เจอใบหน้า\n",
    "# วาดกรอบใบหน้าที่ขยายออก\n",
    "expand_ratio = 0.6  # อัตราส่วนการขยาย (50% ของขนาดเดิม)\n",
    "for (x, y, w, h) in face_detect:\n",
    "    # คำนวณขนาดขยาย\n",
    "    x_exp = int(x - expand_ratio * w)\n",
    "    y_exp = int(y - expand_ratio * h)\n",
    "    w_exp = int(w + 2 * (expand_ratio) * w)\n",
    "    h_exp = int(h + 2 * (expand_ratio+0.3) * h)\n",
    "\n",
    "    # ตรวจสอบไม่ให้เกินขอบภาพ\n",
    "    x_exp = max(0, x_exp)\n",
    "    y_exp = max(0, y_exp)\n",
    "    w_exp = min(img.shape[1] - x_exp, w_exp)\n",
    "    h_exp = min(img.shape[0] - y_exp, h_exp)\n",
    "\n",
    "    # วาดกรอบ\n",
    "    cv2.rectangle(img, (x_exp, y_exp), (x_exp + w_exp, y_exp + h_exp), (255, 255, 255), thickness=-1)\n",
    "\n",
    "#cv2.imshow(\"output\", img)\n",
    "#cv2.imshow(\"gray image\", gray_img)\n",
    "cv2.imwrite(\"output/face.jpg\", img)\n",
    "cv2.waitKey(0)\n",
    "cv2.destroyAllWindows()"
   ]
  },
  {
   "cell_type": "code",
   "execution_count": null,
   "metadata": {},
   "outputs": [],
   "source": [
    "def face_detection(gray_img):\n",
    "    face_cascade = cv2.CascadeClassifier('files/haarcascade_frontalface_default.xml')\n",
    "\n",
    "    #จำแนกใบหน้า\n",
    "    scaleFactor = 1.1\n",
    "    minNeighber = 10\n",
    "    face_detect = face_cascade.detectMultiScale(gray_img, scaleFactor, minNeighber)\n",
    "\n",
    "    expand_ratio = 0.6  # อัตราส่วนการขยาย (50% ของขนาดเดิม)\n",
    "    for (x, y, w, h) in face_detect:\n",
    "        # คำนวณขนาดขยาย\n",
    "        x_exp = int(x - expand_ratio * w)\n",
    "        y_exp = int(y - expand_ratio * h)\n",
    "        w_exp = int(w + 2 * (expand_ratio) * w)\n",
    "        h_exp = int(h + 2 * (expand_ratio+0.3) * h)\n",
    "\n",
    "        # ตรวจสอบไม่ให้เกินขอบภาพ\n",
    "        x_exp = max(0, x_exp)\n",
    "        y_exp = max(0, y_exp)\n",
    "        w_exp = min(img.shape[1] - x_exp, w_exp)\n",
    "        h_exp = min(img.shape[0] - y_exp, h_exp)\n",
    "\n",
    "        # วาดกรอบ\n",
    "        cv2.rectangle(gray_img, (x_exp, y_exp), (x_exp + w_exp, y_exp + h_exp), (255, 255, 255), thickness=-1)\n",
    "        cv2.imwrite(\"output/face.jpg\", gray_img)\n",
    "\n",
    "    return gray_img\n",
    "\n"
   ]
  }
 ],
 "metadata": {
  "kernelspec": {
   "display_name": "tfgpu",
   "language": "python",
   "name": "python3"
  },
  "language_info": {
   "codemirror_mode": {
    "name": "ipython",
    "version": 3
   },
   "file_extension": ".py",
   "mimetype": "text/x-python",
   "name": "python",
   "nbconvert_exporter": "python",
   "pygments_lexer": "ipython3",
   "version": "3.9.19"
  }
 },
 "nbformat": 4,
 "nbformat_minor": 2
}
