{
 "cells": [
  {
   "cell_type": "markdown",
   "metadata": {},
   "source": [
    "## โหลดรูปเบื้องต้น"
   ]
  },
  {
   "cell_type": "code",
   "execution_count": 2,
   "metadata": {},
   "outputs": [
    {
     "data": {
      "text/plain": [
       "True"
      ]
     },
     "execution_count": 2,
     "metadata": {},
     "output_type": "execute_result"
    }
   ],
   "source": [
    "import cv2\n",
    "import numpy as np\n",
    "import matplotlib.pyplot as plt\n",
    "from pathlib import Path\n",
    "\n",
    "output_folder = Path(\"../../data/output_images/output_table\")\n",
    "output_folder.mkdir(exist_ok=True)\n",
    "\n",
    "#image = cv2.imread(\"../../data/test_images/transcript/img-1.png\")\n",
    "image = cv2.imread(\"../../data/test_images/transcript/img-2.png\")\n",
    "#image = cv2.imread(\"../../data/test_images/transcript/Image_20240817_0001.png\")\n",
    "if image is None:\n",
    "    raise FileNotFoundError(\"ไม่พบไฟล์ภาพ กรุณาตรวจสอบเส้นทางของไฟล์\")\n",
    "\n",
    "# จำกัด noise\n",
    "denoised = cv2.bilateralFilter(image, 15, 100, 100)\n",
    "cv2.imwrite(f\"{output_folder}/transcript_denoised.png\", denoised)\n",
    "\n",
    "gray_img = cv2.cvtColor(denoised, cv2.COLOR_BGR2GRAY)\n",
    "\n",
    "# สำหรับภาพที่แสงสม่ำเสมอ\n",
    "binary_mean = cv2.adaptiveThreshold(\n",
    "    gray_img, \n",
    "    maxValue=255, \n",
    "    adaptiveMethod=cv2.ADAPTIVE_THRESH_MEAN_C,\n",
    "    thresholdType=cv2.THRESH_BINARY_INV, \n",
    "    blockSize=21, \n",
    "    C=10\n",
    ")\n",
    "\n",
    "# สำหรับภาพที่แสงไม่สม่ำเสมอ\n",
    "binary_gaussian = cv2.adaptiveThreshold(\n",
    "    gray_img, \n",
    "    maxValue=255, \n",
    "    adaptiveMethod=cv2.ADAPTIVE_THRESH_GAUSSIAN_C,\n",
    "    thresholdType=cv2.THRESH_BINARY_INV, \n",
    "    blockSize=21, \n",
    "    C=10\n",
    ")\n",
    "\n",
    "# ใช้ Otsu Thresholding\n",
    "_, binary_otsu = cv2.threshold(gray_img, 0, 255, cv2.THRESH_BINARY_INV + cv2.THRESH_OTSU)\n",
    "\n",
    "cv2.imwrite(f\"{output_folder}/transcript.png\", image)\n",
    "cv2.imwrite(f\"{output_folder}/transcript_gray.png\", gray_img)\n",
    "cv2.imwrite(f\"{output_folder}/transcript_binary_g.png\", binary_gaussian)\n",
    "cv2.imwrite(f\"{output_folder}/transcript_binary_m.png\", binary_mean)\n",
    "cv2.imwrite(f\"{output_folder}/transcript_otsu.png\", binary_otsu)\n",
    "\n",
    "\n"
   ]
  },
  {
   "cell_type": "markdown",
   "metadata": {},
   "source": [
    "## CCA"
   ]
  },
  {
   "cell_type": "code",
   "execution_count": 3,
   "metadata": {},
   "outputs": [
    {
     "name": "stdout",
     "output_type": "stream",
     "text": [
      "63804\n"
     ]
    },
    {
     "data": {
      "text/plain": [
       "True"
      ]
     },
     "execution_count": 3,
     "metadata": {},
     "output_type": "execute_result"
    }
   ],
   "source": [
    "num_labels, labels, stats, centroids = cv2.connectedComponentsWithStats(binary_gaussian, connectivity=8)\n",
    "\n",
    "areas = [stat[4] for stat in stats]  # ดึงค่า area\n",
    "sorted_areas = sorted(areas, reverse=True)  # เรียงลำดับจากมากไปน้อย\n",
    "second_max_area = sorted_areas[1]  # ค่าอันดับ 2\n",
    "second_max_area_index = areas.index(second_max_area)  # หาตำแหน่งในลิสต์เดิม\n",
    "print(second_max_area)\n",
    "\n",
    "x, y, w, h, area = stats[second_max_area_index]\n",
    "table_img = binary_gaussian[y:y+h, x:x+w]\n",
    "cv2.rectangle(image, (x, y), (x + w, y + h), (0, 255, 0), 3)\n",
    "\n",
    "cv2.imwrite(f\"{output_folder}/table.png\", table_img)\n",
    "\n",
    "\n",
    "'''\n",
    "for idx, i in enumerate(range(1, num_labels)):  # เริ่มจาก 1 เพราะ 0 คือ background\n",
    "    x, y, w, h, area = stats[i]\n",
    "\n",
    "    cca_img = image[y:y+h, x:x+w]\n",
    "    cv2.rectangle(image, (x, y), (x + w, y + h), (0, 255, 0), 1)\n",
    "'''\n",
    "\n",
    "cv2.imwrite(f\"{output_folder}/transcript_cca.png\", image)"
   ]
  },
  {
   "cell_type": "markdown",
   "metadata": {},
   "source": [
    "## table"
   ]
  },
  {
   "cell_type": "code",
   "execution_count": 4,
   "metadata": {},
   "outputs": [],
   "source": [
    "\n",
    "# ใช้ Morphological Operations เพื่อตรวจจับเส้น\n",
    "#แนวนอน (Rows)\n",
    "horizontal_kernel = cv2.getStructuringElement(cv2.MORPH_RECT, (25, 1))\n",
    "horizontal_lines = cv2.morphologyEx(table_img, cv2.MORPH_OPEN, horizontal_kernel)\n",
    "\n",
    "#แนวตั้ง (Columns)\n",
    "vertical_kernel = cv2.getStructuringElement(cv2.MORPH_RECT, (1, 25))\n",
    "vertical_lines = cv2.morphologyEx(table_img, cv2.MORPH_OPEN, vertical_kernel)\n",
    "\n",
    "# รวมเส้น\n",
    "table_structure = cv2.add(horizontal_lines, vertical_lines)\n",
    "\n",
    "'''\n",
    "plt.figure(figsize=(10,10))\n",
    "plt.imshow(table_structure, cmap='gray')\n",
    "plt.axis(\"off\")\n",
    "plt.show()\n",
    "'''\n",
    "\n",
    "# Combine lines\n",
    "combined_lines = cv2.addWeighted(horizontal_lines, 0.5, vertical_lines, 0.5, 0)\n",
    "\n",
    "# Find contours\n",
    "contours, _ = cv2.findContours(combined_lines, cv2.RETR_TREE, cv2.CHAIN_APPROX_SIMPLE)\n",
    "\n",
    "# ฟังก์ชันสำหรับดึงค่า y (แนวตั้ง) สำหรับการจัดเรียงตามแถว\n",
    "def get_y_position(contour):\n",
    "    x, y, w, h = cv2.boundingRect(contour)\n",
    "    return y\n",
    "\n",
    "# ฟังก์ชันสำหรับดึงค่า x (แนวนอน) สำหรับการจัดเรียงตามคอลัมน์\n",
    "def get_x_position(cell):\n",
    "    x, y, w, h = cell\n",
    "    return x\n",
    "\n",
    "# จัดเรียง contours ตามตำแหน่ง y (แนวตั้ง) เพื่อแยกแถว\n",
    "sorted_contours = sorted(contours, key=get_y_position)\n",
    "\n",
    "# แยกแถว\n",
    "rows = []\n",
    "current_row = []\n",
    "previous_y = -1\n",
    "for ctr in sorted_contours:\n",
    "    x, y, w, h = cv2.boundingRect(ctr)\n",
    "    if(w < 30 and h < 30):\n",
    "        continue\n",
    "    if previous_y == -1 or abs(y - previous_y) < 10:  # Same row threshold\n",
    "        current_row.append((x, y, w, h))\n",
    "    else:\n",
    "        # จัดเรียงคอลัมน์ในแถวปัจจุบันตามตำแหน่ง x\n",
    "        rows.append(sorted(current_row, key=get_x_position))\n",
    "        current_row = [(x, y, w, h)]\n",
    "    previous_y = y\n",
    "\n",
    "# เพิ่มแถวสุดท้าย\n",
    "if current_row:\n",
    "    rows.append(sorted(current_row, key=get_x_position))\n",
    "\n",
    "table_cell_images = []\n",
    "# แสดงผล\n",
    "for row_index, row in enumerate(rows[1:]):\n",
    "    for col_index, cell in enumerate(row):\n",
    "        x, y, w, h = cell\n",
    "        cell_image = table_img[y:y+h, x:x+w]\n",
    "        table_cell_images.append(cell_image)\n",
    "        # บันทึกหรือประมวลผล cell_image\n",
    "        #cv2.imshow(f'Row {row_index} Col {col_index}', cell_image)\n",
    "        cv2.imwrite(f\"{output_folder}/Row_{row_index}_Col_{col_index}.png\", cell_image)\n",
    "\n"
   ]
  },
  {
   "cell_type": "code",
   "execution_count": 13,
   "metadata": {},
   "outputs": [
    {
     "data": {
      "text/plain": [
       "True"
      ]
     },
     "execution_count": 13,
     "metadata": {},
     "output_type": "execute_result"
    }
   ],
   "source": [
    "img = table_cell_images[0]\n",
    "\n",
    "# Detect horizontal and vertical lines\n",
    "horizontal_kernel = cv2.getStructuringElement(cv2.MORPH_RECT, (50, 1))\n",
    "vertical_kernel = cv2.getStructuringElement(cv2.MORPH_RECT, (1, 50))\n",
    "\n",
    "# Detect horizontal and vertical lines\n",
    "horizontal_kernel = cv2.getStructuringElement(cv2.MORPH_RECT, (50, 1))\n",
    "horizontal_lines = cv2.morphologyEx(img, cv2.MORPH_OPEN, horizontal_kernel)\n",
    "\n",
    "vertical_kernel = cv2.getStructuringElement(cv2.MORPH_RECT, (1, 50))\n",
    "vertical_lines = cv2.morphologyEx(img, cv2.MORPH_OPEN, vertical_kernel)\n",
    "\n",
    "# Dilate lines to make them more continuous\n",
    "dilated_horizontal = cv2.dilate(horizontal_lines, cv2.getStructuringElement(cv2.MORPH_RECT, (3, 1)))\n",
    "dilated_vertical = cv2.dilate(vertical_lines, cv2.getStructuringElement(cv2.MORPH_RECT, (1, 3)))\n",
    "\n",
    "# Combine horizontal and vertical lines\n",
    "grid_lines = cv2.add(dilated_horizontal, dilated_vertical)\n",
    "\n",
    "# Combine lines\n",
    "table_lines = cv2.add(dilated_horizontal, dilated_vertical)\n",
    "\n",
    "# Remove lines from the image\n",
    "tableless_image = cv2.bitwise_not(cv2.bitwise_and(img, img, mask=table_lines))\n",
    "\n",
    "# Clean small noise\n",
    "cleaned_image = cv2.erode(tableless_image, cv2.getStructuringElement(cv2.MORPH_RECT, (2, 2)))\n",
    "\n",
    "# Optional: Inpaint to fill gaps\n",
    "final_image = cv2.inpaint(img, table_lines, 3, cv2.INPAINT_TELEA)\n",
    "\n",
    "# Show results\n",
    "#cv2.imshow(\"Original\", img)\n",
    "#cv2.imshow(\"Tableless Binary\", tableless_image)\n",
    "#cv2.imshow(\"Final Image\", final_image)\n",
    "cv2.imwrite(f\"{output_folder}/cell_original.png\", img)\n",
    "cv2.imwrite(f\"{output_folder}/cell_tableless.png\", cleaned_image)\n",
    "cv2.imwrite(f\"{output_folder}/cell_Final.png\", final_image)\n",
    "\n"
   ]
  },
  {
   "cell_type": "code",
   "execution_count": null,
   "metadata": {},
   "outputs": [],
   "source": []
  }
 ],
 "metadata": {
  "kernelspec": {
   "display_name": "tfgpu",
   "language": "python",
   "name": "python3"
  },
  "language_info": {
   "codemirror_mode": {
    "name": "ipython",
    "version": 3
   },
   "file_extension": ".py",
   "mimetype": "text/x-python",
   "name": "python",
   "nbconvert_exporter": "python",
   "pygments_lexer": "ipython3",
   "version": "3.9.19"
  }
 },
 "nbformat": 4,
 "nbformat_minor": 2
}
