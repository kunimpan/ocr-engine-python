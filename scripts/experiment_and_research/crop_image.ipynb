{
 "cells": [
  {
   "cell_type": "code",
   "execution_count": 13,
   "metadata": {},
   "outputs": [],
   "source": [
    "import cv2\n",
    "\n",
    "image = cv2.imread(\"../../data/test_images/word_images/test2.png\")\n",
    "\n",
    "# กำหนดขอบเขตการ Crop\n",
    "start_row, end_row = 0, 115  # กำหนดช่วงแถว\n",
    "start_col, end_col = 0, 311  # กำหนดช่วงคอลัมน์\n",
    "\n",
    "cropped_image = image[start_row:end_row, start_col:end_col]\n",
    "\n",
    "#cv2.imshow(\"crop 1\", image)\n",
    "cv2.imshow(\"crop 2\", cropped_image)\n",
    "cv2.waitKey(0)\n",
    "cv2.destroyAllWindows()"
   ]
  },
  {
   "cell_type": "markdown",
   "metadata": {},
   "source": [
    "## Crop หลายส่วนในภาพ"
   ]
  },
  {
   "cell_type": "code",
   "execution_count": 6,
   "metadata": {},
   "outputs": [],
   "source": [
    "import cv2\n",
    "\n",
    "image = cv2.imread(\"../../data/test_images/word_images/test2.png\")\n",
    "crop_regions = [(100, 300, 50, 200), (100, 200, 300, 400)]  # (start_row, end_row, start_col, end_col)\n",
    "\n",
    "for idx, (start_row, end_row, start_col, end_col) in enumerate(crop_regions):\n",
    "    cropped_image = image[start_row:end_row, start_col:end_col]\n",
    "    cv2.imshow(f\"Cropped Image {idx + 1}\", cropped_image)\n",
    "\n",
    "cv2.waitKey(0)\n",
    "cv2.destroyAllWindows()"
   ]
  },
  {
   "cell_type": "markdown",
   "metadata": {},
   "source": [
    "## Crop ภาพแบบอัตโนมัติตาม Contours"
   ]
  },
  {
   "cell_type": "code",
   "execution_count": 9,
   "metadata": {},
   "outputs": [],
   "source": [
    "import cv2\n",
    "\n",
    "# โหลดภาพและแปลงเป็น Grayscale\n",
    "image = cv2.imread(\"../../data/test_images/word_images/word_1.jpg\")\n",
    "gray = cv2.cvtColor(image, cv2.COLOR_BGR2GRAY)\n",
    "\n",
    "# หาขอบเขต (Contours)\n",
    "_, binary = cv2.threshold(gray, 128, 255, cv2.THRESH_BINARY)\n",
    "contours, _ = cv2.findContours(binary, cv2.RETR_EXTERNAL, cv2.CHAIN_APPROX_SIMPLE)\n",
    "\n",
    "# Crop เฉพาะส่วนที่เจอ Contours\n",
    "for idx, contour in enumerate(contours):\n",
    "    x, y, w, h = cv2.boundingRect(contour)  # กรอบสี่เหลี่ยมรอบ Contour\n",
    "    cropped_image = image[y:y+h, x:x+w]  # Crop โดยใช้ค่าจาก boundingRect\n",
    "    cv2.imshow(f\"Cropped Object {idx + 1}\", cropped_image)\n",
    "\n",
    "cv2.waitKey(0)\n",
    "cv2.destroyAllWindows()"
   ]
  },
  {
   "cell_type": "code",
   "execution_count": 21,
   "metadata": {},
   "outputs": [
    {
     "name": "stdout",
     "output_type": "stream",
     "text": [
      "(2, 3, 1)\n"
     ]
    }
   ],
   "source": [
    "import numpy as np\n",
    "image = [[[1],[2],[3]], [[4],[5],[6]]]\n",
    "image_array = np.array(image)\n",
    "print(image_array.shape)"
   ]
  },
  {
   "cell_type": "code",
   "execution_count": null,
   "metadata": {},
   "outputs": [],
   "source": []
  }
 ],
 "metadata": {
  "kernelspec": {
   "display_name": "tfgpu",
   "language": "python",
   "name": "python3"
  },
  "language_info": {
   "codemirror_mode": {
    "name": "ipython",
    "version": 3
   },
   "file_extension": ".py",
   "mimetype": "text/x-python",
   "name": "python",
   "nbconvert_exporter": "python",
   "pygments_lexer": "ipython3",
   "version": "3.9.19"
  }
 },
 "nbformat": 4,
 "nbformat_minor": 2
}
