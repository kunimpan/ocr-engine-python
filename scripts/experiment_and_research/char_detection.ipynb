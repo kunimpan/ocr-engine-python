{
 "cells": [
  {
   "cell_type": "markdown",
   "metadata": {},
   "source": [
    "## 1.ใช้ Morphological Closing เชื่อมส่วนที่แยกกัน\n",
    "ใช้ cv2.morphologyEx กับ Kernel ขนาดเล็ก เพื่อเชื่อมจุด (dot) เข้ากับฐานตัวอักษร"
   ]
  },
  {
   "cell_type": "code",
   "execution_count": 7,
   "metadata": {},
   "outputs": [],
   "source": [
    "import cv2\n",
    "import numpy as np\n",
    "\n",
    "image = cv2.imread(\"../../data/test_images/line_detection/test_a_to_z_3.jpg\")\n",
    "if image is None:\n",
    "    raise FileNotFoundError(\"ไม่พบไฟล์ภาพ กรุณาตรวจสอบเส้นทางของไฟล์\")\n",
    "\n",
    "# แปลงเป็น Grayscale\n",
    "gray = cv2.cvtColor(image, cv2.COLOR_BGR2GRAY)\n",
    "\n",
    "# การ Threshold แบบ Adaptive Gaussian\n",
    "binary_image = cv2.adaptiveThreshold(\n",
    "    gray, 255, cv2.ADAPTIVE_THRESH_GAUSSIAN_C, cv2.THRESH_BINARY_INV, 51,30\n",
    ")\n",
    "\n",
    "kernel = cv2.getStructuringElement(cv2.MORPH_RECT, (3, 3))  # ขนาด Kernel\n",
    "closed_image = cv2.morphologyEx(binary_image, cv2.MORPH_CLOSE, kernel)\n",
    "\n",
    "cv2.imshow(\"test\", closed_image)\n",
    "cv2.waitKey(0)\n",
    "cv2.destroyAllWindows()\n"
   ]
  },
  {
   "cell_type": "markdown",
   "metadata": {},
   "source": [
    "## 2.ใช้ระยะห่างระหว่าง Contours เพื่อตัดสินการรวม\n",
    "หลังการหา Contours ให้ตรวจสอบ Contours ใกล้เคียงกันและรวมพิกัด Bounding Box:"
   ]
  },
  {
   "cell_type": "code",
   "execution_count": 13,
   "metadata": {},
   "outputs": [],
   "source": [
    "import cv2\n",
    "import numpy as np\n",
    "\n",
    "# โหลดภาพ\n",
    "image = cv2.imread(\"../../data/test_images/line_detection/test_a_to_z_3.jpg\")\n",
    "if image is None:\n",
    "    raise FileNotFoundError(\"ไม่พบไฟล์ภาพ กรุณาตรวจสอบเส้นทางของไฟล์\")\n",
    "\n",
    "# แปลงเป็น Grayscale\n",
    "gray = cv2.cvtColor(image, cv2.COLOR_BGR2GRAY)\n",
    "\n",
    "# การ Threshold แบบ Adaptive Gaussian\n",
    "binary_image = cv2.adaptiveThreshold(\n",
    "    gray, 255, cv2.ADAPTIVE_THRESH_GAUSSIAN_C, cv2.THRESH_BINARY_INV, 51, 30\n",
    ")\n",
    "\n",
    "kernel = cv2.getStructuringElement(cv2.MORPH_RECT, (6, 6))  # ขนาด Kernel\n",
    "closed_image = cv2.morphologyEx(binary_image, cv2.MORPH_CLOSE, kernel)\n",
    "\n",
    "# หา Contours\n",
    "contours, _ = cv2.findContours(closed_image, cv2.RETR_EXTERNAL, cv2.CHAIN_APPROX_SIMPLE)\n",
    "\n",
    "# เรียง Contours จากซ้ายไปขวา\n",
    "contours = sorted(contours, key=lambda c: cv2.boundingRect(c)[0])\n",
    "\n",
    "# รวม Contours ที่มีการทับซ้อนกัน\n",
    "merged_contours = []\n",
    "for cnt in contours:\n",
    "    x, y, w, h = cv2.boundingRect(cnt)\n",
    "    should_merge = False\n",
    "    for i, (mx, my, mw, mh) in enumerate(merged_contours):\n",
    "        if (x < mx + mw and x + w > mx and  # ทับซ้อนในแนวนอน\n",
    "            y < my + mh and y + h > my):    # ทับซ้อนในแนวตั้ง\n",
    "            # รวม Bounding Box\n",
    "            nx = min(x, mx)\n",
    "            ny = min(y, my)\n",
    "            nw = max(x + w, mx + mw) - nx\n",
    "            nh = max(y + h, my + mh) - ny\n",
    "            merged_contours[i] = (nx, ny, nw, nh)\n",
    "            should_merge = True\n",
    "            break\n",
    "    if not should_merge:\n",
    "        merged_contours.append((x, y, w, h))\n",
    "\n",
    "# ตัดตัวอักษร\n",
    "char_images = []\n",
    "for x, y, w, h in merged_contours:\n",
    "    if w > 5 and h > 5:  # กรองเสียงรบกวน (Bounding Box ขนาดเล็ก)\n",
    "        char_img = binary_image[y:y+h, x:x+w]\n",
    "        char_images.append(char_img)\n",
    "\n",
    "# แสดงภาพผลลัพธ์\n",
    "output_image = image.copy()\n",
    "for x, y, w, h in merged_contours:\n",
    "    cv2.rectangle(output_image, (x, y), (x + w, y + h), (0, 255, 0), 1)\n",
    "\n",
    "cv2.imshow(\"Detected Characters\", output_image)\n",
    "cv2.waitKey(0)\n",
    "cv2.destroyAllWindows()\n"
   ]
  },
  {
   "cell_type": "code",
   "execution_count": null,
   "metadata": {},
   "outputs": [],
   "source": []
  }
 ],
 "metadata": {
  "kernelspec": {
   "display_name": "tfgpu",
   "language": "python",
   "name": "python3"
  },
  "language_info": {
   "codemirror_mode": {
    "name": "ipython",
    "version": 3
   },
   "file_extension": ".py",
   "mimetype": "text/x-python",
   "name": "python",
   "nbconvert_exporter": "python",
   "pygments_lexer": "ipython3",
   "version": "3.9.19"
  }
 },
 "nbformat": 4,
 "nbformat_minor": 2
}
