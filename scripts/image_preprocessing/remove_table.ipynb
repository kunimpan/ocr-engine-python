{
 "cells": [
  {
   "cell_type": "code",
   "execution_count": 2,
   "metadata": {},
   "outputs": [],
   "source": [
    "import cv2\n",
    "import numpy as np"
   ]
  },
  {
   "cell_type": "code",
   "execution_count": 14,
   "metadata": {},
   "outputs": [
    {
     "data": {
      "text/plain": [
       "True"
      ]
     },
     "execution_count": 14,
     "metadata": {},
     "output_type": "execute_result"
    }
   ],
   "source": [
    "#image = cv2.imread(\"images/transcript/pun_20240817_0001.jpg\")\n",
    "image = cv2.imread(\"images/transcript/pun_tran_mo.jpg\")\n",
    "gray = cv2.cvtColor(image, cv2.COLOR_BGR2GRAY)\n",
    "ath_gaussian = cv2.adaptiveThreshold(gray, 255, cv2.ADAPTIVE_THRESH_GAUSSIAN_C, cv2.THRESH_BINARY_INV, 51,30)\n",
    "\n",
    "cv2.imwrite(\"images/research/ath_gaussian.jpg\", ath_gaussian)\n",
    "\n",
    "# Define a kernel for detecting horizontal lines\n",
    "horizontal_kernel = cv2.getStructuringElement(cv2.MORPH_RECT, (40, 1))\n",
    "horizontal_lines = cv2.morphologyEx(ath_gaussian, cv2.MORPH_OPEN, horizontal_kernel)\n",
    "cv2.imwrite(\"images/research/horizontal_lines.jpg\", horizontal_lines)\n",
    "\n",
    "# Define a kernel for detecting vertical lines\n",
    "vertical_kernel = cv2.getStructuringElement(cv2.MORPH_RECT, (1, 40))\n",
    "vertical_lines = cv2.morphologyEx(ath_gaussian, cv2.MORPH_OPEN, vertical_kernel)\n",
    "cv2.imwrite(\"images/research/vertical_lines.jpg\", vertical_lines)\n",
    "\n",
    "# Combine both horizontal and vertical lines\n",
    "table_lines = cv2.add(horizontal_lines, vertical_lines)\n",
    "cv2.imwrite(\"images/research/table_lines.jpg\", table_lines)\n",
    "\n",
    "# Subtract the table lines from the binary image\n",
    "table_removed = cv2.subtract(ath_gaussian, table_lines)\n",
    "cv2.imwrite(\"images/research/table_removed.jpg\", table_removed)\n",
    "\n",
    "# Invert the image back to original colors (optional)\n",
    "table_removed_inverted = cv2.bitwise_not(table_removed)\n",
    "cv2.imwrite(\"images/research/table_removed_inverted.jpg\", table_removed_inverted)\n"
   ]
  },
  {
   "cell_type": "markdown",
   "metadata": {},
   "source": [
    "### Unsharp Masking"
   ]
  },
  {
   "cell_type": "code",
   "execution_count": 3,
   "metadata": {},
   "outputs": [],
   "source": [
    "import cv2\n",
    "import numpy as np\n",
    "\n",
    "# Load image\n",
    "image = cv2.imread(\"images/transcript/pun_tran_mo.jpg\")\n",
    "\n",
    "# Convert to grayscale\n",
    "gray = cv2.cvtColor(image, cv2.COLOR_BGR2GRAY)\n",
    "\n",
    "# Apply GaussianBlur to the image\n",
    "blurred = cv2.GaussianBlur(gray, (5, 5), 0)\n",
    "\n",
    "# Create the unsharp mask\n",
    "unsharp_mask = cv2.addWeighted(gray, 1.5, blurred, -0.5, 0)\n",
    "\n",
    "# Display the result\n",
    "cv2.imwrite('images/research/Original-Image.jpg', gray)\n",
    "cv2.imwrite('images/research/Sharpened-Image.jpg', unsharp_mask)\n",
    "cv2.waitKey(0)\n",
    "cv2.destroyAllWindows()"
   ]
  },
  {
   "cell_type": "markdown",
   "metadata": {},
   "source": [
    "### Using High Pass Filter"
   ]
  },
  {
   "cell_type": "code",
   "execution_count": 4,
   "metadata": {},
   "outputs": [],
   "source": [
    "import cv2\n",
    "import numpy as np\n",
    "\n",
    "# Load image\n",
    "image = cv2.imread(\"images/transcript/pun_tran_mo.jpg\")\n",
    "\n",
    "# Convert to grayscale\n",
    "gray = cv2.cvtColor(image, cv2.COLOR_BGR2GRAY)\n",
    "\n",
    "# Apply a high pass filter\n",
    "kernel = np.array([[-1, -1, -1], \n",
    "                   [-1,  8, -1], \n",
    "                   [-1, -1, -1]])\n",
    "high_pass = cv2.filter2D(gray, -1, kernel)\n",
    "\n",
    "# Add the high pass filter result to the original image\n",
    "sharpened = cv2.add(gray, high_pass)\n",
    "\n",
    "# Display the result\n",
    "cv2.imwrite('images/research/Original-Image.jpg', gray)\n",
    "cv2.imwrite('images/research/High Pass Filtered Image.jpg', high_pass)\n",
    "cv2.imwrite('images/research/Sharpened-Image.jpg', sharpened)\n",
    "cv2.waitKey(0)\n",
    "cv2.destroyAllWindows()\n"
   ]
  },
  {
   "cell_type": "code",
   "execution_count": null,
   "metadata": {},
   "outputs": [],
   "source": []
  }
 ],
 "metadata": {
  "kernelspec": {
   "display_name": "Python 3",
   "language": "python",
   "name": "python3"
  },
  "language_info": {
   "codemirror_mode": {
    "name": "ipython",
    "version": 3
   },
   "file_extension": ".py",
   "mimetype": "text/x-python",
   "name": "python",
   "nbconvert_exporter": "python",
   "pygments_lexer": "ipython3",
   "version": "3.9.19"
  }
 },
 "nbformat": 4,
 "nbformat_minor": 2
}
