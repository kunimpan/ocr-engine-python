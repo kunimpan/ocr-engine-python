{
 "cells": [
  {
   "cell_type": "markdown",
   "metadata": {},
   "source": [
    "## โหลดรูปเบื้องต้น"
   ]
  },
  {
   "cell_type": "code",
   "execution_count": 1,
   "metadata": {},
   "outputs": [
    {
     "data": {
      "text/plain": [
       "True"
      ]
     },
     "execution_count": 1,
     "metadata": {},
     "output_type": "execute_result"
    }
   ],
   "source": [
    "import cv2\n",
    "from matplotlib import table\n",
    "import numpy as np\n",
    "import matplotlib.pyplot as plt\n",
    "from pathlib import Path\n",
    "\n",
    "output_folder = Path(\"../data/output_images/output_lines\")\n",
    "output_folder.mkdir(exist_ok=True)\n",
    "\n",
    "def face_detection(gray_img):\n",
    "    face_cascade = cv2.CascadeClassifier('experiment_and_research/files/haarcascade_frontalface_default.xml')\n",
    "\n",
    "    #จำแนกใบหน้า\n",
    "    scaleFactor = 1.1\n",
    "    minNeighber = 12\n",
    "    face_detect = face_cascade.detectMultiScale(gray_img, scaleFactor, minNeighber)\n",
    "\n",
    "    expand_ratio = 0.6  # อัตราส่วนการขยาย (50% ของขนาดเดิม)\n",
    "    for (x, y, w, h) in face_detect:\n",
    "        # คำนวณขนาดขยาย\n",
    "        x_exp = int(x - expand_ratio * w)\n",
    "        y_exp = int(y - expand_ratio * h)\n",
    "        w_exp = int(w + 2 * (expand_ratio) * w)\n",
    "        h_exp = int(h + 2 * (expand_ratio+0.3) * h)\n",
    "\n",
    "        # ตรวจสอบไม่ให้เกินขอบภาพ\n",
    "        x_exp = max(0, x_exp)\n",
    "        y_exp = max(0, y_exp)\n",
    "        w_exp = min(gray_img.shape[1] - x_exp, w_exp)\n",
    "        h_exp = min(gray_img.shape[0] - y_exp, h_exp)\n",
    "\n",
    "        # วาดกรอบ\n",
    "        cv2.rectangle(gray_img, (x_exp, y_exp), (x_exp + w_exp, y_exp + h_exp), (128, 128, 128), thickness=-1)\n",
    "        cv2.imwrite(\"../data/output_images/output/face_remove.jpg\", gray_img)\n",
    "\n",
    "    return gray_img\n",
    "\n",
    "# โหลดภาพ\n",
    "#image = cv2.imread(\"../data/test_images/transcript/pun_20240817_0001.jpg\")\n",
    "#image = cv2.imread(\"../data/test_images/transcript/pun_f.jpg\")\n",
    "#image = cv2.imread(\"../data/test_images/transcript/pun_no_f.jpg\")\n",
    "#image = cv2.imread(\"../data/test_images/transcript/pun_tran_mo.jpg\")\n",
    "#image = cv2.imread(\"../data/test_images/word_images/test2.png\")\n",
    "#image = cv2.imread(\"../data/test_images/transcript/Transcript2.jpg\")\n",
    "image = cv2.imread(\"../data/test_images/word_images/word_34.jpg\")\n",
    "if image is None:\n",
    "    raise FileNotFoundError(\"ไม่พบไฟล์ภาพ กรุณาตรวจสอบเส้นทางของไฟล์\")\n",
    "\n",
    "# แปลงเป็น Grayscale\n",
    "gray = cv2.cvtColor(image, cv2.COLOR_BGR2GRAY)\n",
    "\n",
    "gray_img = face_detection(gray)\n",
    "\n",
    "\n",
    "# การ Threshold แบบ Adaptive Gaussian\n",
    "binary_image = cv2.adaptiveThreshold(\n",
    "    gray_img, 255, cv2.ADAPTIVE_THRESH_GAUSSIAN_C, cv2.THRESH_BINARY_INV, 61,40\n",
    "    #gray_img, 255, cv2.ADAPTIVE_THRESH_MEAN_C, cv2.THRESH_BINARY_INV, 51,12\n",
    ")\n",
    "\n",
    "# ใช้ Otsu Thresholding\n",
    "#_, binary_image = cv2.threshold(gray, 0, 255, cv2.THRESH_BINARY_INV + cv2.THRESH_OTSU)\n",
    "\n",
    "kernel = np.ones((6, 80), np.uint8)\n",
    "lines = cv2.dilate(binary_image, kernel, iterations=1)\n",
    "\n",
    "cv2.imwrite(\"../data/output_images/output/gary.jpg\", gray)\n",
    "cv2.imwrite(\"../data/output_images/output/binary.jpg\", binary_image)\n",
    "cv2.imwrite(\"../data/output_images/output/line.jpg\", lines)\n",
    "\n",
    "#kernel = np.ones((3,9), np.uint8)\n",
    "dilalated_line_img = cv2.dilate(binary_image, kernel, iterations=1)\n",
    "\n",
    "cv2.imwrite(\"../data/output_images/output/original.jpg\", image)"
   ]
  },
  {
   "cell_type": "markdown",
   "metadata": {},
   "source": [
    "# จับกลุ่มข้อความ"
   ]
  },
  {
   "cell_type": "code",
   "execution_count": 2,
   "metadata": {},
   "outputs": [
    {
     "name": "stdout",
     "output_type": "stream",
     "text": [
      "0\n",
      "1\n",
      "2\n"
     ]
    },
    {
     "data": {
      "image/png": "[encoded data removed]",
      "text/plain": [
       "<Figure size 1000x1000 with 1 Axes>"
      ]
     },
     "metadata": {},
     "output_type": "display_data"
    }
   ],
   "source": [
    "def detect_text_group(dilalated_image, binary_image):\n",
    "\n",
    "    text_group_images = []\n",
    "    # ใช้ Connected Component Analysis\n",
    "    num_labels, labels, stats, centroids = cv2.connectedComponentsWithStats(dilalated_image, connectivity=8)\n",
    "\n",
    "    # กรองข้อมูล Background และจัดเรียงจากซ้ายไปขวา (ตามค่า x)\n",
    "    char_stats = stats[1:]  # ข้าม Background (index 0)\n",
    "    sorted_indices = np.argsort(char_stats[:, 0])  # จัดเรียงตามค่า x (คอลัมน์ที่ 0)\n",
    "    sorted_stats = char_stats[sorted_indices]\n",
    "\n",
    "\n",
    "    expand_ratio = 0.0  # อัตราส่วนการขยาย (0.5 คือ 50% ของขนาดเดิม)\n",
    "    reduce_size = 0.00\n",
    "    #for idx, i in enumerate(range(1, num_labels)):  # เริ่มจาก 1 เพราะ 0 คือ background\n",
    "    for idx, stats in enumerate(sorted_stats):  # เริ่มจาก 1 เพราะ 0 คือ background\n",
    "        #x, y, w, h, area = stats[i]\n",
    "        x, y, w, h, area = stats\n",
    "\n",
    "        x_exp = int(x - (expand_ratio-reduce_size) * w)\n",
    "        y_exp = int(y - (expand_ratio) * h)\n",
    "        w_exp = int(w + 2 * (expand_ratio-reduce_size) * w)\n",
    "        h_exp = int(h + 2 * (expand_ratio) * h)\n",
    "\n",
    "        # ตรวจสอบไม่ให้เกินขอบภาพ\n",
    "        x_exp = max(0, x_exp)\n",
    "        y_exp = max(0, y_exp)\n",
    "        w_exp = min(binary_image.shape[1] - x_exp, w_exp)\n",
    "        h_exp = min(binary_image.shape[0] - y_exp, h_exp)\n",
    "\n",
    "        if w >= 90 and h >= 20:  # ปรับค่าขนาดขั้นต่ำและสูงสุดตามต้องการ\n",
    "            cca_img = binary_image[y_exp:y_exp+h_exp, x_exp:x_exp+w_exp]\n",
    "            text_group_images.append(cca_img)\n",
    "            cv2.imwrite(f\"../data/output_images/output/cca_{idx}.jpg\", cca_img)\n",
    "            cv2.rectangle(image, (x_exp, y_exp), (x_exp + w_exp, y_exp + h_exp), (0, 255, 0), 1)\n",
    "\n",
    "    return text_group_images\n",
    "\n",
    "text_group_images = detect_text_group(dilalated_line_img, binary_image)\n",
    "\n",
    "for idx, text_group in enumerate(text_group_images):\n",
    "    print(idx)\n",
    "\n",
    "\n",
    "cv2.imwrite(\"../data/output_images/output/cca.jpg\", image)\n",
    "print(len(text_group_images))\n",
    "\n",
    "plt.figure(figsize=(10,10))\n",
    "plt.imshow(text_group_images[0], cmap=\"gray\")\n",
    "plt.title(f\"text\")\n",
    "plt.show()\n"
   ]
  },
  {
   "cell_type": "markdown",
   "metadata": {},
   "source": [
    "## จับข้อความย่อยในกลุ่มข้อความ"
   ]
  },
  {
   "cell_type": "code",
   "execution_count": 3,
   "metadata": {},
   "outputs": [
    {
     "data": {
      "image/png": "[encoded data removed]",
      "text/plain": [
       "<Figure size 500x500 with 1 Axes>"
      ]
     },
     "metadata": {},
     "output_type": "display_data"
    },
    {
     "data": {
      "image/png": "[encoded data removed]",
      "text/plain": [
       "<Figure size 500x500 with 1 Axes>"
      ]
     },
     "metadata": {},
     "output_type": "display_data"
    },
    {
     "name": "stdout",
     "output_type": "stream",
     "text": [
      "จำนวนกลุ่มข้อความ: 2\n",
      " จำนวนข้อความย่อยในกลุ่มข้อความ: 1\n"
     ]
    },
    {
     "data": {
      "image/png": "[encoded data removed]",
      "text/plain": [
       "<Figure size 500x500 with 1 Axes>"
      ]
     },
     "metadata": {},
     "output_type": "display_data"
    }
   ],
   "source": [
    "import cv2\n",
    "from matplotlib import table\n",
    "import numpy as np\n",
    "import matplotlib.pyplot as plt\n",
    "from pathlib import Path\n",
    "\n",
    "def detect_text_in_group(binary_image):\n",
    "    kernel = np.ones((6, 6), np.uint8)\n",
    "    dummy_image = cv2.dilate(binary_image, kernel, iterations=3)\n",
    "\n",
    "    plt.figure(figsize=(5,5))\n",
    "    plt.imshow(dummy_image, cmap=\"gray\")\n",
    "    plt.title(f\"sub text\")\n",
    "    plt.show()\n",
    "\n",
    "    sub_text_images = []\n",
    "    # ใช้ Connected Component Analysis\n",
    "    num_labels, labels, stats, centroids = cv2.connectedComponentsWithStats(dummy_image, connectivity=8)\n",
    "\n",
    "    # กรองข้อมูล Background และจัดเรียงจากซ้ายไปขวา (ตามค่า x)\n",
    "    char_stats = stats[1:]  # ข้าม Background (index 0)\n",
    "    sorted_indices = np.argsort(char_stats[:, 0])  # จัดเรียงตามค่า x (คอลัมน์ที่ 0)\n",
    "    sorted_stats = char_stats[sorted_indices]\n",
    "\n",
    "    expand_ratio = 0.0  # อัตราส่วนการขยาย (0.5 คือ 50% ของขนาดเดิม)\n",
    "    reduce_size = 0.00\n",
    "    #for idx, i in enumerate(range(1, num_labels)):  # เริ่มจาก 1 เพราะ 0 คือ background\n",
    "    for idx, stats in enumerate(sorted_stats):\n",
    "        #x, y, w, h, area = stats[i]\n",
    "        x, y, w, h, area = stats\n",
    "        x_exp = int(x - (expand_ratio-reduce_size) * w)\n",
    "        y_exp = int(y - (expand_ratio) * h)\n",
    "        w_exp = int(w + 2 * (expand_ratio-reduce_size) * w)\n",
    "        h_exp = int(h + 2 * (expand_ratio) * h)\n",
    "\n",
    "        # ตรวจสอบไม่ให้เกินขอบภาพ\n",
    "        x_exp = max(0, x_exp)\n",
    "        y_exp = max(0, y_exp)\n",
    "        w_exp = min(binary_image.shape[1] - x_exp, w_exp)\n",
    "        h_exp = min(binary_image.shape[0] - y_exp, h_exp)\n",
    "\n",
    "        cca_img = binary_image[y_exp:y_exp+h_exp, x_exp:x_exp+w_exp]\n",
    "        sub_text_images.append(cca_img)\n",
    "        cv2.imwrite(f\"../data/output_images/output/text_sub/cca_{idx}.jpg\", cca_img)\n",
    "        cv2.rectangle(image, (x_exp, y_exp), (x_exp + w_exp, y_exp + h_exp), (0, 255, 0), 1)\n",
    "\n",
    "    return sub_text_images \n",
    "\n",
    "#text_images = detect_text_in_group(dilalated_img, binary_image)\n",
    "\n",
    "text_group_sub_images = []\n",
    "for idx_text, text_group in enumerate(text_group_images):\n",
    "    #print(idx_text)\n",
    "    text_group_sub_images.append(detect_text_in_group(text_group))\n",
    "\n",
    "print(\"จำนวนกลุ่มข้อความ:\", len(text_group_sub_images)) \n",
    "print(\" จำนวนข้อความย่อยในกลุ่มข้อความ:\", len(text_group_sub_images[0]))  \n",
    "\n",
    "'''\n",
    "plt.figure(figsize=(2,2))\n",
    "plt.imshow(text_group_sub_images[0][0], cmap=\"gray\")\n",
    "plt.title(f\"text\")\n",
    "plt.show()\n",
    "'''\n",
    "\n",
    "for idx, sub_text  in enumerate(text_group_sub_images[0]):\n",
    "    plt.figure(figsize=(5,5))\n",
    "    plt.imshow(sub_text, cmap=\"gray\")\n",
    "    plt.title(f\"sub text\")\n",
    "    plt.show()\n",
    "\n"
   ]
  },
  {
   "cell_type": "markdown",
   "metadata": {},
   "source": [
    "## จับตัวอักษร"
   ]
  },
  {
   "cell_type": "code",
   "execution_count": 27,
   "metadata": {},
   "outputs": [
    {
     "name": "stdout",
     "output_type": "stream",
     "text": [
      "กลุ่มข้อความที่: 1\n",
      "   ข้อความย่อยที่: 1\n",
      "สลับตำแหน่ง\n",
      "max_area : index 1\n"
     ]
    },
    {
     "data": {
      "image/png": "[encoded data removed]",
      "text/plain": [
       "<Figure size 100x100 with 1 Axes>"
      ]
     },
     "metadata": {},
     "output_type": "display_data"
    },
    {
     "name": "stdout",
     "output_type": "stream",
     "text": [
      "area : 107\n",
      "level: 1\n"
     ]
    },
    {
     "data": {
      "image/png": "[encoded data removed]",
      "text/plain": [
       "<Figure size 100x100 with 1 Axes>"
      ]
     },
     "metadata": {},
     "output_type": "display_data"
    },
    {
     "name": "stdout",
     "output_type": "stream",
     "text": [
      "area : 59\n",
      "level: 0\n"
     ]
    },
    {
     "data": {
      "image/png": "[encoded data removed]",
      "text/plain": [
       "<Figure size 100x100 with 1 Axes>"
      ]
     },
     "metadata": {},
     "output_type": "display_data"
    },
    {
     "name": "stdout",
     "output_type": "stream",
     "text": [
      "area : 66\n",
      "level: 2\n",
      "Sum fo area: 232\n",
      "Number of characters detected: 3\n",
      "มีตัวเดียว\n"
     ]
    },
    {
     "data": {
      "image/png": "[encoded data removed]",
      "text/plain": [
       "<Figure size 100x100 with 1 Axes>"
      ]
     },
     "metadata": {},
     "output_type": "display_data"
    },
    {
     "name": "stdout",
     "output_type": "stream",
     "text": [
      "area : 86\n",
      "level: 1\n"
     ]
    },
    {
     "data": {
      "image/png": "[encoded data removed]",
      "text/plain": [
       "<Figure size 100x100 with 1 Axes>"
      ]
     },
     "metadata": {},
     "output_type": "display_data"
    },
    {
     "name": "stdout",
     "output_type": "stream",
     "text": [
      "area : 16\n",
      "level: 2\n",
      "Sum fo area: 102\n",
      "Number of characters detected: 2\n"
     ]
    },
    {
     "data": {
      "image/png": "[encoded data removed]",
      "text/plain": [
       "<Figure size 100x100 with 1 Axes>"
      ]
     },
     "metadata": {},
     "output_type": "display_data"
    },
    {
     "name": "stdout",
     "output_type": "stream",
     "text": [
      "area : 64\n",
      "level: 1\n",
      "Sum fo area: 64\n",
      "Number of characters detected: 1\n",
      "สลับตำแหน่ง\n",
      "max_area : index 1\n"
     ]
    },
    {
     "data": {
      "image/png": "[encoded data removed]",
      "text/plain": [
       "<Figure size 100x100 with 1 Axes>"
      ]
     },
     "metadata": {},
     "output_type": "display_data"
    },
    {
     "name": "stdout",
     "output_type": "stream",
     "text": [
      "area : 159\n",
      "level: 1\n"
     ]
    },
    {
     "data": {
      "image/png": "[encoded data removed]",
      "text/plain": [
       "<Figure size 100x100 with 1 Axes>"
      ]
     },
     "metadata": {},
     "output_type": "display_data"
    },
    {
     "name": "stdout",
     "output_type": "stream",
     "text": [
      "area : 56\n",
      "level: 0\n",
      "Sum fo area: 215\n",
      "Number of characters detected: 2\n",
      "สลับตำแหน่ง\n",
      "max_area : index 1\n"
     ]
    },
    {
     "data": {
      "image/png": "[encoded data removed]",
      "text/plain": [
       "<Figure size 100x100 with 1 Axes>"
      ]
     },
     "metadata": {},
     "output_type": "display_data"
    },
    {
     "name": "stdout",
     "output_type": "stream",
     "text": [
      "area : 161\n",
      "level: 1\n"
     ]
    },
    {
     "data": {
      "image/png": "[encoded data removed]",
      "text/plain": [
       "<Figure size 100x100 with 1 Axes>"
      ]
     },
     "metadata": {},
     "output_type": "display_data"
    },
    {
     "name": "stdout",
     "output_type": "stream",
     "text": [
      "area : 67\n",
      "level: 0\n",
      "Sum fo area: 228\n",
      "Number of characters detected: 2\n",
      "กลุ่มข้อความที่: 2\n",
      "   ข้อความย่อยที่: 1\n",
      "สลับตำแหน่ง\n",
      "max_area : index 1\n"
     ]
    },
    {
     "data": {
      "image/png": "[encoded data removed]",
      "text/plain": [
       "<Figure size 100x100 with 1 Axes>"
      ]
     },
     "metadata": {},
     "output_type": "display_data"
    },
    {
     "name": "stdout",
     "output_type": "stream",
     "text": [
      "area : 153\n",
      "level: 1\n"
     ]
    },
    {
     "data": {
      "image/png": "[encoded data removed]",
      "text/plain": [
       "<Figure size 100x100 with 1 Axes>"
      ]
     },
     "metadata": {},
     "output_type": "display_data"
    },
    {
     "name": "stdout",
     "output_type": "stream",
     "text": [
      "area : 59\n",
      "level: 0\n"
     ]
    },
    {
     "data": {
      "image/png": "[encoded data removed]",
      "text/plain": [
       "<Figure size 100x100 with 1 Axes>"
      ]
     },
     "metadata": {},
     "output_type": "display_data"
    },
    {
     "name": "stdout",
     "output_type": "stream",
     "text": [
      "area : 17\n",
      "level: 2\n",
      "Sum fo area: 229\n",
      "Number of characters detected: 3\n",
      "มีตัวเดียว\n"
     ]
    },
    {
     "data": {
      "image/png": "[encoded data removed]",
      "text/plain": [
       "<Figure size 100x100 with 1 Axes>"
      ]
     },
     "metadata": {},
     "output_type": "display_data"
    },
    {
     "name": "stdout",
     "output_type": "stream",
     "text": [
      "area : 141\n",
      "level: 1\n"
     ]
    },
    {
     "data": {
      "image/png": "[encoded data removed]",
      "text/plain": [
       "<Figure size 100x100 with 1 Axes>"
      ]
     },
     "metadata": {},
     "output_type": "display_data"
    },
    {
     "name": "stdout",
     "output_type": "stream",
     "text": [
      "area : 69\n",
      "level: 2\n"
     ]
    },
    {
     "data": {
      "image/png": "[encoded data removed]",
      "text/plain": [
       "<Figure size 100x100 with 1 Axes>"
      ]
     },
     "metadata": {},
     "output_type": "display_data"
    },
    {
     "name": "stdout",
     "output_type": "stream",
     "text": [
      "area : 12\n",
      "level: 3\n",
      "Sum fo area: 222\n",
      "Number of characters detected: 3\n"
     ]
    },
    {
     "data": {
      "image/png": "[encoded data removed]",
      "text/plain": [
       "<Figure size 100x100 with 1 Axes>"
      ]
     },
     "metadata": {},
     "output_type": "display_data"
    },
    {
     "name": "stdout",
     "output_type": "stream",
     "text": [
      "area : 110\n",
      "level: 1\n",
      "Sum fo area: 110\n",
      "Number of characters detected: 1\n"
     ]
    },
    {
     "data": {
      "image/png": "[encoded data removed]",
      "text/plain": [
       "<Figure size 100x100 with 1 Axes>"
      ]
     },
     "metadata": {},
     "output_type": "display_data"
    },
    {
     "name": "stdout",
     "output_type": "stream",
     "text": [
      "area : 146\n",
      "level: 1\n",
      "Sum fo area: 146\n",
      "Number of characters detected: 1\n"
     ]
    },
    {
     "data": {
      "image/png": "[encoded data removed]",
      "text/plain": [
       "<Figure size 100x100 with 1 Axes>"
      ]
     },
     "metadata": {},
     "output_type": "display_data"
    },
    {
     "name": "stdout",
     "output_type": "stream",
     "text": [
      "area : 136\n",
      "level: 1\n",
      "Sum fo area: 136\n",
      "Number of characters detected: 1\n"
     ]
    }
   ],
   "source": [
    "import numpy as np\n",
    "from sklearn import dummy\n",
    "from sympy import false, true\n",
    "\n",
    "def percentage_difference(value1, value2):\n",
    "    return abs(value1 - value2) / value1 * 100\n",
    "\n",
    "def sort_and_swap(stats):\n",
    "\n",
    "    if(len(stats) > 1):\n",
    "        \"\"\"\n",
    "        จัดเรียงข้อมูลใน stats โดยเรียงจาก y + h (มากไปน้อย)\n",
    "        และตรวจสอบว่าข้อมูลที่มี area ใหญ่ที่สุดอยู่ในตำแหน่งแรกสุดหรือไม่\n",
    "        \"\"\"\n",
    "        # คำนวณค่า y + h สำหรับการจัดเรียง\n",
    "        stats_with_indices = [(i, stat) for i, stat in enumerate(stats)]\n",
    "        stats_with_indices.sort(key=lambda x: x[1][1] + x[1][3], reverse=True)  # y + h (มาก -> น้อย)\n",
    "\n",
    "        # สร้างลิสต์ใหม่หลังการจัดเรียง\n",
    "        sorted_stats = [stat for _, stat in stats_with_indices]\n",
    "        sorted_stats = np.array(sorted_stats)\n",
    "\n",
    "        # หาค่า area ที่ใหญ่ที่สุดและตำแหน่ง\n",
    "        areas = [stat[4] for stat in sorted_stats]  # ค่า area อยู่ใน index ที่ 4\n",
    "        max_area = max(areas)\n",
    "        max_area_index = areas.index(max_area)\n",
    "\n",
    "        # กรองเอา noise ออกโดยเทียบกับ area ที่ใหญ่ที่สุด\n",
    "        sorted_stats_noise_remove = []\n",
    "        for stat in (sorted_stats):\n",
    "            difference = percentage_difference(max_area, stat[4])\n",
    "            #print(\"Max Area :\", max_area)\n",
    "            #print(\"Difference :\", difference)\n",
    "            if(difference < 95):\n",
    "               sorted_stats_noise_remove.append(stat)\n",
    "        sorted_stats = np.array(sorted_stats_noise_remove)\n",
    "        \n",
    "        # สร้างคอลัมน์ใหม่ที่มีค่าเริ่มต้นจาก 0 และเพิ่มทีละ 1\n",
    "        rows = sorted_stats.shape[0]  # จำนวนแถว\n",
    "        new_column = np.arange(rows).reshape(-1, 1)  # คอลัมน์ [0, 1, 2, ...]\n",
    "\n",
    "        # เพิ่มคอลัมน์ใหม่เข้าไปใน array เดิม\n",
    "        sorted_stats = np.hstack((sorted_stats, new_column))\n",
    "\n",
    "        # หาค่า area ที่ใหญ่ที่สุดและตำแหน่ง\n",
    "        areas = [stat[4] for stat in sorted_stats]  # ค่า area อยู่ใน index ที่ 4\n",
    "        max_area = max(areas)\n",
    "        max_area_index = areas.index(max_area)\n",
    "    \n",
    "        # ตรวจสอบว่า area ที่ใหญ่ที่สุดอยู่ตำแหน่งแรกหรือไม่\n",
    "        if max_area_index != 0:\n",
    "            # สลับตำแหน่งตัวที่มี area ใหญ่ที่สุดกับตัวแรก\n",
    "            print(\"สลับตำแหน่ง\")\n",
    "            print(\"max_area : index\", max_area_index)\n",
    "            sorted_stats[[0, max_area_index]] = sorted_stats[[max_area_index, 0]]\n",
    "            #sorted_stats[0], sorted_stats[max_area_index] = sorted_stats[max_area_index], sorted_stats[0]\n",
    "\n",
    "        #ในกรณี \"มีตัวเดียว\"\n",
    "        elif max_area_index == 0:\n",
    "            print(\"มีตัวเดียว\")\n",
    "            sorted_stats[:, -1]+=1\n",
    "\n",
    "        #ในกรณีสระ \"อะ\"\n",
    "        if (len(sorted_stats) == 2):\n",
    "            difference = percentage_difference(sorted_stats[0][4], sorted_stats[1][4])\n",
    "            #print(difference)\n",
    "            if(difference <= 8):\n",
    "                sorted_stats[0][-1] = 2\n",
    "                sorted_stats[1][-1] = 2\n",
    "\n",
    "        return sorted_stats\n",
    "    else:\n",
    "        new_values = [1]  # ต้องมีจำนวนเท่ากับจำนวนแถว\n",
    "\n",
    "        # เพิ่มเลขในตำแหน่งสุดท้ายของทุกแถว\n",
    "        new_values_column = np.array(new_values).reshape(-1, 1)  # แปลงเป็นคอลัมน์\n",
    "        stats = np.hstack([stats, new_values_column])\n",
    "\n",
    "        return stats\n",
    "\n",
    "def char_level(char_image):\n",
    "    debug = True  # ตั้งค่าเปิด/ปิด Debug\n",
    "\n",
    "    kernel = np.ones((1, 1), np.uint8)\n",
    "    #dummy_image = cv2.dilate(char_image, kernel, iterations=1)\n",
    "    dummy_image = cv2.erode(char_image, kernel, iterations=1)\n",
    "\n",
    "    #plt.figure(figsize=(1,1))\n",
    "    #plt.imshow(dummy_image, cmap=\"gray\")\n",
    "    #plt.title(f\"text\")\n",
    "    #plt.show()\n",
    "    \n",
    "\n",
    "    num_labels, labels, stats, centroids = cv2.connectedComponentsWithStats(char_image, connectivity=8)\n",
    "    sorted_stats = sort_and_swap(stats[1:])\n",
    "    char_level_group = []\n",
    "\n",
    "    sum_area = 0\n",
    "    for idx, stats in enumerate(sorted_stats):  # เริ่มจาก 1 เพราะ 0 คือ background\n",
    "\n",
    "        x, y, w, h, area, level = stats\n",
    "\n",
    "        sum_area += area\n",
    "\n",
    "        # กรอง noise หรือส่วนที่ไม่ใช่ข้อความ\n",
    "        if w <= 2 and h <= 2:  # ปรับค่าตามความเหมาะสม\n",
    "            print(\"เล็กเกินข้าม\")\n",
    "            #print(area)\n",
    "            #continue\n",
    "\n",
    "        cca_img = char_image[y:y+h, x:x+w]\n",
    "        char_level_group.append([cca_img, level])\n",
    "        #cv2.imwrite(f\"../data/test_images/char_level/cca_{idx}.jpg\", cca_img)\n",
    "        cv2.rectangle(image, (x, y), (x + w, y + h), (0, 255, 0), 1)\n",
    "        #cv2.imwrite(f\"../data/test_images/char_level/dummy_image.jpg\", dummy_image)\n",
    "        \n",
    "        if debug:\n",
    "            plt.figure(figsize=(1,1))\n",
    "            plt.imshow(cca_img, cmap=\"gray\")\n",
    "            plt.title(f\"text\")\n",
    "            plt.show()\n",
    "            print(\"area :\" ,area)\n",
    "            print(\"level:\", level)\n",
    "\n",
    "    print(f\"Sum fo area: {sum_area}\")\n",
    "    print(f\"Number of characters detected: {len(char_level_group)}\")\n",
    "    return char_level_group \n",
    "\n",
    "#cv2.imwrite(f\"../data/test_images/char_level/cca.jpg\", image)\n",
    "\n",
    "def detect_char(binary_image):\n",
    "    debug = False  # ตั้งค่าเปิด/ปิด Debug\n",
    "\n",
    "    kernel = np.ones((1, 1), np.uint8)\n",
    "    kernel_2 = np.ones((10, 1), np.uint8)\n",
    "    kernel_3 = np.ones((2, 2), np.uint8)\n",
    "\n",
    "    #dummy_image = cv2.erode(binary_image, kernel, iterations=1)\n",
    "    #dummy_image = cv2.dilate(dummy_image, kernel_2, iterations=1)\n",
    "\n",
    "    # การทำ Opening\n",
    "    opened = cv2.morphologyEx(binary_image, cv2.MORPH_OPEN, kernel_3, iterations=1)\n",
    "    dummy_image = cv2.dilate(opened, kernel_2, iterations=1)\n",
    "\n",
    "\n",
    "    #plt.figure(figsize=(5, 5))\n",
    "    #plt.imshow(dummy_image, cmap=\"gray\")\n",
    "    #plt.title(f\"dummy_image\")\n",
    "    #plt.show()\n",
    "\n",
    "    char_images = []\n",
    "    # ใช้ Connected Component Analysis\n",
    "    num_labels, labels, stats, centroids = cv2.connectedComponentsWithStats(dummy_image, connectivity=8)\n",
    "\n",
    "    # กรองข้อมูล Background และจัดเรียงจากซ้ายไปขวา (ตามค่า x)\n",
    "    char_stats = stats[1:]  # ข้าม Background (index 0)\n",
    "    sorted_indices = np.argsort(char_stats[:, 0])  # จัดเรียงตามค่า x (คอลัมน์ที่ 0)\n",
    "    sorted_stats = char_stats[sorted_indices]\n",
    "\n",
    "    for idx, stat in enumerate(sorted_stats):  # เริ่มจาก 1 เพราะ 0 คือ background\n",
    "        x, y, w, h, area = stat\n",
    "        #print(\"area : \",area)\n",
    "\n",
    "        # ตัดภาพใน Bounding Box\n",
    "        cca_img = binary_image[y:y+h, x:x+w]\n",
    "        #cca_img = binary_image[:, x:x+w]\n",
    "\n",
    "        if debug:\n",
    "            plt.figure(figsize=(1, 1))\n",
    "            plt.imshow(cca_img, cmap=\"gray\")\n",
    "            plt.title(f\"Character {idx}\")\n",
    "            plt.show()\n",
    "\n",
    "        # ใช้ฟังก์ชัน char_level เพื่อแยกตัวอักษรย่อย\n",
    "        char_leveled = char_level(cca_img)\n",
    "\n",
    "        # รวมตัวอักษรย่อยในรายการ\n",
    "        char_images.extend(char_leveled)\n",
    "        #cv2.imwrite(f\"../data/output_images/output/text_sub/cca_{idx}.jpg\", cca_img)\n",
    "        cv2.rectangle(image, (x, y), (x + w, y + h), (0, 255, 0), 1)\n",
    "\n",
    "    return char_images \n",
    "\n",
    "text_group_sub_char_images = []\n",
    "for idx_group, text_group in enumerate(text_group_sub_images):\n",
    "    print(\"กลุ่มข้อความที่:\", idx_group+1)\n",
    "\n",
    "    char_in_sub_text = []\n",
    "    for idx_sup, sub_text in enumerate(text_group):\n",
    "        print(\"   ข้อความย่อยที่:\", idx_sup+1)\n",
    "        char_images = detect_char(sub_text)\n",
    "        char_in_sub_text.append(char_images)\n",
    "        \n",
    "        #for idx_char, char in enumerate(sub_text):\n",
    "        #   print(\"    อักษรที่:\", idx_char+1)\n",
    "\n",
    "    text_group_sub_char_images.append(char_in_sub_text)\n",
    "\n",
    "\n",
    "\n"
   ]
  },
  {
   "cell_type": "code",
   "execution_count": null,
   "metadata": {},
   "outputs": [],
   "source": [
    "#print(\"จำนวนกลุ่มข้อความ:\", len(text_group_sub_char_images)) \n",
    "#print(\" จำนวนข้อความย่อยในกลุ่มข้อความ:\", len(text_group_sub_char_images[0]))\n",
    "#print(\"    จำนวนตัวอักษรในข้อความย่อย:\", len(text_group_sub_char_images[0][0]))\n",
    "#print(\"       ตัวอักษรและ level:\", len(text_group_sub_char_images[0][0][0]))\n",
    "#print(\"           level:\", text_group_sub_char_images[0][0][0][1])\n",
    "\n",
    "\n",
    "'''\n",
    "plt.figure(figsize=(1,1))\n",
    "plt.imshow(text_group_sub_char_images[0][0][0], cmap=\"gray\")\n",
    "plt.title(f\"text\")\n",
    "plt.show()\n",
    "'''\n",
    "\n",
    "#print(len(text_group_sub_char_images[0][0]))\n",
    "\n",
    "for idx, char in enumerate(range(0, len(text_group_sub_char_images[1][0]))): # ข้อความ, ข้อความย่อยม, รูปภาพกับlevel,\n",
    "    #print(idx)\n",
    "    plt.figure(figsize=(1,1))\n",
    "    plt.imshow(text_group_sub_char_images[1][0][idx][0], cmap=\"gray\")\n",
    "    print(\"level :\", text_group_sub_char_images[1][0][idx][1])\n",
    "    plt.show()\n",
    "\n",
    "'''\n",
    "for idx, img in enumerate(char):\n",
    "        print(img)\n",
    "        plt.figure(figsize=(1,1))\n",
    "        plt.imshow(img[idx][0], cmap=\"gray\")\n",
    "        plt.title(f\"text\")\n",
    "        plt.show()\n",
    "'''\n",
    "\n",
    "'''\n",
    "for idx, char in enumerate(text_group_sub_char_images[1][0]):\n",
    "    plt.figure(figsize=(1,1))\n",
    "    plt.imshow(char, cmap=\"gray\")\n",
    "    cv2.imwrite(f\"../data/output_images/noise/noise_{idx}.jpg\", char)\n",
    "    plt.title(f\"text\")\n",
    "    plt.show()\n",
    "'''\n",
    "\n"
   ]
  },
  {
   "cell_type": "markdown",
   "metadata": {},
   "source": [
    "## Predict images with Multiple models"
   ]
  },
  {
   "cell_type": "code",
   "execution_count": 5,
   "metadata": {},
   "outputs": [],
   "source": [
    "from tensorflow.keras.models import load_model\n",
    "\n",
    "model_path = \"../models/thai_and_numerals_model.h5\"\n",
    "model = load_model(model_path)\n",
    "\n",
    "model_path_char_level_0 = \"../models/char_level_0_model.h5\"\n",
    "model_path_char_level_1 = \"../models/char_level_1_model.h5\"\n",
    "model_path_char_level_2 = \"../models/char_level_2_model.h5\"\n",
    "model_path_char_level_3 = \"../models/char_level_3_model.h5\"\n",
    "\n",
    "model_char_level_0 = load_model(model_path_char_level_0)\n",
    "model_char_level_1 = load_model(model_path_char_level_1)\n",
    "model_char_level_2 = load_model(model_path_char_level_2)\n",
    "model_char_level_3 = load_model(model_path_char_level_3)\n",
    "\n",
    "# สร้าง Mapping ของโมเดลตามระดับ\n",
    "models = {\n",
    "    0: model_char_level_0,\n",
    "    1: model_char_level_1,\n",
    "    2: model_char_level_2,\n",
    "    3: model_char_level_3,\n",
    "}\n"
   ]
  },
  {
   "cell_type": "code",
   "execution_count": 28,
   "metadata": {},
   "outputs": [
    {
     "name": "stdout",
     "output_type": "stream",
     "text": [
      "1/1 [==============================] - 0s 16ms/step\n",
      "1/1 [==============================] - 0s 16ms/step\n",
      "1/1 [==============================] - 0s 16ms/step\n",
      "1/1 [==============================] - 0s 16ms/step\n",
      "1/1 [==============================] - 0s 15ms/step\n",
      "1/1 [==============================] - 0s 15ms/step\n",
      "1/1 [==============================] - 0s 16ms/step\n",
      "1/1 [==============================] - 0s 15ms/step\n",
      "1/1 [==============================] - 0s 16ms/step\n",
      "1/1 [==============================] - 0s 17ms/step\n",
      "1/1 [==============================] - 0s 16ms/step\n",
      "1/1 [==============================] - 0s 16ms/step\n",
      "1/1 [==============================] - 0s 16ms/step\n",
      "1/1 [==============================] - 0s 17ms/step\n",
      "1/1 [==============================] - 0s 15ms/step\n",
      "1/1 [==============================] - 0s 15ms/step\n",
      "1/1 [==============================] - 0s 19ms/step\n",
      "1/1 [==============================] - 0s 17ms/step\n",
      "1/1 [==============================] - 0s 15ms/step\n",
      "Predicted Letter: ร, Confidence: 1.00\n",
      "Predicted Letter: ู, Confidence: 0.83\n",
      "Predicted Letter: ้, Confidence: 1.00\n",
      "Predicted Letter: ว, Confidence: 1.00\n",
      "Predicted Letter: ่, Confidence: 1.00\n",
      "Predicted Letter: า, Confidence: 1.00\n",
      "Predicted Letter: ด, Confidence: 0.99\n",
      "Predicted Letter: ู, Confidence: 1.00\n",
      "Predicted Letter: ป, Confidence: 1.00\n",
      "Predicted Letter: ู, Confidence: 1.00\n",
      "Predicted Letter: ส, Confidence: 1.00\n",
      "Predicted Letter: ู, Confidence: 0.83\n",
      "Predicted Letter: ่, Confidence: 1.00\n",
      "Predicted Letter: ท, Confidence: 1.00\n",
      "Predicted Letter: ี, Confidence: 1.00\n",
      "Predicted Letter: ่, Confidence: 1.00\n",
      "Predicted Letter: ไ, Confidence: 0.90\n",
      "Predicted Letter: ห, Confidence: 1.00\n",
      "Predicted Letter: น, Confidence: 1.00\n",
      "Character 0: Predicted Label = ร (100.00%)\n",
      "Character 1: Predicted Label = ู (82.96%)\n",
      "Character 2: Predicted Label = ้ (100.00%)\n",
      "Character 3: Predicted Label = ว (100.00%)\n",
      "Character 4: Predicted Label = ่ (100.00%)\n",
      "Character 5: Predicted Label = า (100.00%)\n",
      "Character 6: Predicted Label = ด (99.21%)\n",
      "Character 7: Predicted Label = ู (100.00%)\n",
      "Character 8: Predicted Label = ป (100.00%)\n",
      "Character 9: Predicted Label = ู (100.00%)\n",
      "Character 10: Predicted Label = ส (100.00%)\n",
      "Character 11: Predicted Label = ู (82.96%)\n",
      "Character 12: Predicted Label = ่ (100.00%)\n",
      "Character 13: Predicted Label = ท (99.99%)\n",
      "Character 14: Predicted Label = ี (100.00%)\n",
      "Character 15: Predicted Label = ่ (100.00%)\n",
      "Character 16: Predicted Label = ไ (89.63%)\n",
      "Character 17: Predicted Label = ห (100.00%)\n",
      "Character 18: Predicted Label = น (100.00%)\n"
     ]
    },
    {
     "data": {
      "image/png": "[encoded data removed]",
      "text/plain": [
       "<Figure size 1500x1200 with 19 Axes>"
      ]
     },
     "metadata": {},
     "output_type": "display_data"
    }
   ],
   "source": [
    "import cv2\n",
    "import numpy as np\n",
    "from PIL import Image, ImageOps\n",
    "import math\n",
    "import matplotlib.pyplot as plt\n",
    "from matplotlib import rc\n",
    "\n",
    "thai_and_numerails_special_characters = [\n",
    "    '0', '1', '2', '3', '4', '5', '6', '7', '8', '9',\n",
    "\n",
    "    'ก', 'ข', 'ฃ', 'ค', 'ฅ', 'ฆ', 'ง', 'จ', 'ฉ', 'ช', 'ซ', 'ฌ', 'ญ', 'ฎ', \n",
    "    'ฏ', 'ฐ', 'ฑ', 'ฒ', 'ณ', 'ด', 'ต', 'ถ', 'ท', 'ธ', 'น', 'บ', 'ป', 'ผ', \n",
    "    'ฝ', 'พ', 'ฟ', 'ภ', 'ม', 'ย', 'ร', 'ล', 'ว', 'ศ', 'ษ', 'ส', \n",
    "    'ห', 'ฬ', 'อ', 'ฮ',\n",
    "\n",
    "    'ะ', 'า', 'ิ', 'ี', 'ึ', 'ื', 'ุ', 'ู', 'เ', 'โ', 'ฤ', 'ใ', 'ไ', '็', \n",
    "    'ั', 'ํ',\n",
    "\n",
    "    '่', '้', '๊', '๋',\n",
    "\n",
    "    '+', '-', '*', '(', ')', '.', '=', '/', '|'\n",
    "]\n",
    "\n",
    "char_level_0_label = [\n",
    "    'ุ', 'ู'\n",
    "]\n",
    "\n",
    "char_level_1_label = [\n",
    "    '0', '1', '2', '3', '4', '5', '6', '7', '8', '9',\n",
    "\n",
    "    'ก', 'ข', 'ฃ', 'ค', 'ฅ', 'ฆ', 'ง', 'จ', 'ฉ', 'ช', 'ซ', 'ฌ', 'ญ', 'ฎ', \n",
    "    'ฏ', 'ฐ', 'ฑ', 'ฒ', 'ณ', 'ด', 'ต', 'ถ', 'ท', 'ธ', 'น', 'บ', 'ป', 'ผ', \n",
    "    'ฝ', 'พ', 'ฟ', 'ภ', 'ม', 'ย', 'ร', 'ล', 'ว', 'ศ', 'ษ', 'ส', \n",
    "    'ห', 'ฬ', 'อ', 'ฮ',\n",
    "\n",
    "    'า', 'เ', 'โ', 'ฤ', 'ใ', 'ไ',\n",
    "\n",
    "    '+', '-', '*', '(', ')', '.', '=', '/', '|'\n",
    "]\n",
    "\n",
    "char_level_2_label = [\n",
    "     'ิ', 'ี', 'ึ', 'ื', '็', 'ั', 'ํ', '่', '้', '๊', '๋',\n",
    "]\n",
    "\n",
    "char_level_3_label = [\n",
    "    '่', '้', '๊', '๋',\n",
    "]\n",
    "\n",
    "char_level_labels = {\n",
    "    0: char_level_0_label,\n",
    "    1: char_level_1_label,\n",
    "    2: char_level_2_label,\n",
    "    3: char_level_3_label,\n",
    "}\n",
    "\n",
    "letters_class = thai_and_numerails_special_characters\n",
    "\n",
    "def resize_with_min_padding(image, desired_size, min_padding):\n",
    "    \"\"\"\n",
    "    ปรับขนาดภาพให้ใกล้เคียง desired_size โดยลด Padding และเพิ่มการขยายภาพต้นฉบับ\n",
    "    \"\"\"\n",
    "    if image is None or not isinstance(image, np.ndarray):\n",
    "        raise ValueError(\"Input image must be a valid numpy array.\")\n",
    "\n",
    "    if not isinstance(desired_size, int) or desired_size <= 0:\n",
    "        raise ValueError(\"desired_size must be a positive integer.\")\n",
    "\n",
    "    old_size = image.shape[:2]  # (height, width)\n",
    "    max_size = max(old_size)\n",
    "\n",
    "    # คำนวณอัตราส่วนการปรับขนาดให้ใกล้เคียง desired_size\n",
    "    ratio = float(desired_size - 2 * min_padding) / max_size\n",
    "    new_size = tuple([int(x * ratio) for x in old_size])  # ขนาดใหม่ (height, width)\n",
    "\n",
    "    # Resize ภาพให้คงสัดส่วนเดิม แต่ใหญ่ขึ้น\n",
    "    resized_image = cv2.resize(image, (new_size[1], new_size[0]), interpolation=cv2.INTER_AREA)\n",
    "\n",
    "    # คำนวณ Padding ใหม่\n",
    "    delta_w = max(desired_size - new_size[1], 0)  # Padding ด้านความกว้าง\n",
    "    delta_h = max(desired_size - new_size[0], 0)  # Padding ด้านความสูง\n",
    "    top, bottom = delta_h // 2, delta_h - (delta_h // 2)\n",
    "    left, right = delta_w // 2, delta_w - (delta_w // 2)\n",
    "\n",
    "    # ตรวจสอบสีสำหรับ Grayscale หรือ RGB\n",
    "    color = [0] if len(image.shape) == 2 else [0, 0, 0]\n",
    "\n",
    "    # เพิ่ม Padding รอบภาพ\n",
    "    padded_image = cv2.copyMakeBorder(resized_image, top, bottom, left, right, cv2.BORDER_CONSTANT, value=color)\n",
    "\n",
    "    return padded_image\n",
    "\n",
    "\n",
    "# กำหนดขนาด Input ของโมเดล\n",
    "input_size = 32  # ขนาด 32x32\n",
    "\n",
    "# เตรียมข้อมูลจาก text_char_group_images\n",
    "processed_images = []\n",
    "char_levels = []\n",
    "\n",
    "\n",
    "text_block = []\n",
    "for idx_text_group, text_group in enumerate(text_group_sub_char_images):\n",
    "    #print(\"กลุ่มข้อความ\", idx_text_group+1)\n",
    "    for idx_text_sub, text_sub in enumerate(text_group):\n",
    "        #print(\"  ข้อความย่อยในกลุ่มข้อความ\", idx_text_sub+1)\n",
    "        for idx_char, char in enumerate(text_sub):\n",
    "            char_image, char_level = char\n",
    "            if char is None:\n",
    "                print(f\"Character image {idx_char} is None.\")\n",
    "                continue  # ข้ามภาพนี้\n",
    "            else:\n",
    "                #plt.figure(figsize=(1,1))\n",
    "                #plt.imshow(char_img, cmap=\"gray\")\n",
    "\n",
    "                # เพิ่ม Padding และปรับขนาดภาพ\n",
    "                padded_img = resize_with_min_padding(char_image, input_size, min_padding=2)\n",
    "\n",
    "                # Normalization (เปลี่ยนค่าพิกเซลให้อยู่ในช่วง [0, 1])\n",
    "                normalized_img = padded_img / 255.0\n",
    "\n",
    "                # เพิ่มช่องทางสี (Channel) สำหรับโมเดลที่รองรับ Input แบบ (Height, Width, Channels)\n",
    "                if len(normalized_img.shape) == 2:  # หากภาพเป็น Grayscale (2D)\n",
    "                    normalized_img = np.expand_dims(normalized_img, axis=-1)\n",
    "\n",
    "                    # เก็บภาพที่ประมวลผลแล้ว\n",
    "                    processed_images.append(normalized_img)\n",
    "\n",
    "                    # เก็บ level ของตัวอักษร\n",
    "                    char_levels.append(char_level)\n",
    "\n",
    "# แปลงเป็น NumPy Array\n",
    "processed_images = np.array(processed_images)\n",
    "\n",
    "def predict_character_levels(processed_images, char_levels, models):\n",
    "    predictions = []\n",
    "    current_char_levels = []\n",
    "\n",
    "    for idx, processed_img in enumerate(processed_images):\n",
    "        level = char_levels[idx]\n",
    "        if level in models:\n",
    "            predictions.append(models[level].predict(np.expand_dims(processed_img, axis=0)))\n",
    "            current_char_levels.append(level)\n",
    "        else:\n",
    "            print(\"ผิด\")\n",
    "            print(level)\n",
    "            predictions.append(models[3].predict(np.expand_dims(processed_img, axis=0)))\n",
    "            current_char_levels.append(3)\n",
    "            #print(f\"Warning: ไม่มีโมเดลสำหรับระดับ {level}. ข้ามภาพนี้ไป.\")\n",
    "\n",
    "    return predictions, current_char_levels\n",
    "        \n",
    "def predicted_classes_confidence(predictions_result):\n",
    "\n",
    "    predicted_classes_group = []\n",
    "    confidence_scores_group = []\n",
    "    for idx, result in enumerate(predictions_result):\n",
    "        predicted_classes = np.argmax(result, axis=1)\n",
    "        confidence_scores = np.max(result, axis=1)\n",
    "        #print(\"Predicted classes :\",predicted_classes)\n",
    "        #print(\"Confidence scores :\",confidence_scores)\n",
    "\n",
    "        predicted_classes_group.extend(predicted_classes)\n",
    "        confidence_scores_group.extend(confidence_scores)\n",
    "\n",
    "    return predicted_classes_group, confidence_scores_group\n",
    "\n",
    "        \n",
    "# เรียกใช้งานฟังก์ชัน\n",
    "predictions, current_char_levels = predict_character_levels(processed_images, char_levels, models)\n",
    "predicted_classes, confidence_scores = predicted_classes_confidence(predictions)\n",
    "\n",
    "# แปลงค่าความน่าจะเป็นเป็นคลาสที่คาดการณ์ได้ และ Confidence Score\n",
    "#predicted_classes = np.argmax(predictions, axis=1)\n",
    "#confidence_scores = np.max(predictions, axis=1)  # ดึงค่าสูงสุดจากแต่ละแถว (ความมั่นใจของคลาสที่ทำนาย)\n",
    "\n",
    "for i, pred_class in enumerate(predicted_classes):\n",
    "    class_level = current_char_levels[i]\n",
    "    letters_class = char_level_labels[class_level]\n",
    "\n",
    "    predicted_letter = letters_class[pred_class]  # แปลงคลาสเป็นตัวอักษร\n",
    "    confidence = confidence_scores[i]  # คะแนนความมั่นใจ\n",
    "    text_block.append((predicted_letter, confidence))  # เก็บผลลัพธ์\n",
    "\n",
    "# แสดงผลลัพธ์\n",
    "for letter, confidence in text_block:\n",
    "    print(f\"Predicted Letter: {letter}, Confidence: {confidence:.2f}\")\n",
    "    #predicted_text = ''.join([letter for letter, confidence in text_block])\n",
    "    #print(f\"Predicted Text: {predicted_text}\")\n",
    "\n",
    "\n",
    "\n",
    "# แสดงผลลัพธ์พร้อมภาพ\n",
    "num_images = len(processed_images)\n",
    "columns = 5  # จำนวนคอลัมน์ที่ต้องการ\n",
    "rows = math.ceil(num_images / columns)  # คำนวณจำนวนแถวตามจำนวนภาพ\n",
    "\n",
    "# ตั้งค่าฟอนต์ภาษาไทย\n",
    "rc('font', family='Cordia New')  # ใส่ชื่อฟอนต์ที่มีในระบบ\n",
    "\n",
    "#plt.figure(figsize=(5, rows * 1))  # ปรับขนาดของกราฟให้รองรับจำนวนแถว\n",
    "plt.figure(figsize=(columns * 3, rows * 3))  # ขนาดของกราฟสัมพันธ์กับจำนวนแถวและคอลัมน์\n",
    "for idx, (padded_img, pred_label, confidence) in enumerate(zip(processed_images, predicted_classes, confidence_scores)):\n",
    "    class_level = current_char_levels[idx]\n",
    "    letters_class = char_level_labels[class_level]\n",
    "\n",
    "    plt.subplot(rows, columns, idx + 1)  # ปรับ subplot ตามจำนวนแถวและคอลัมน์\n",
    "\n",
    "    # แปลงภาพกลับเป็น 2D สำหรับการแสดงผล (ในกรณีที่เป็น (height, width, 1))\n",
    "    if padded_img.shape[-1] == 1:\n",
    "        padded_img = padded_img.squeeze()\n",
    "    \n",
    "    plt.imshow(padded_img, cmap='gray')  # แสดงภาพ Grayscale\n",
    "    #plt.title(f\"Pred: {pred_label + 1}\", fontsize=10)  # แสดง Label ที่ทำนาย\n",
    "\n",
    "\n",
    "    plt.title(f\"Pred: {letters_class[pred_label]} ({confidence:.2%}) Lv:{class_level}\", fontsize=20)  # แสดง Label และ % Confidence\n",
    "    plt.axis('off')  # ปิดแกน\n",
    "\n",
    "    print(f\"Character {idx}: Predicted Label = {letters_class[pred_label]} ({confidence:.2%})\")\n",
    "\n",
    "plt.tight_layout()  # จัด Layout ให้ชิดกัน\n",
    "plt.show()\n",
    "\n",
    "\n"
   ]
  },
  {
   "cell_type": "code",
   "execution_count": 9,
   "metadata": {},
   "outputs": [
    {
     "name": "stdout",
     "output_type": "stream",
     "text": [
      "[ 6  7  8  9 10]\n",
      "[1 2 3 4 5]\n",
      "[10 20 30 40 50]\n"
     ]
    }
   ],
   "source": [
    "import numpy as np\n",
    "\n",
    "# ตัวอย่าง NumPy array\n",
    "sorted_stats = np.array([[1, 2, 3, 4, 5], \n",
    "                         [6, 7, 8, 9, 10], \n",
    "                         [10, 20, 30, 40, 50]])\n",
    "\n",
    "# สร้างตัวแปร max_area_index\n",
    "max_area_index = 1  # สมมติว่าตำแหน่ง index 1 มีค่าที่ต้องการ\n",
    "\n",
    "# สลับแถวระหว่างตำแหน่ง 0 กับ max_area_index\n",
    "sorted_stats[[0, max_area_index]] = sorted_stats[[max_area_index, 0]]\n",
    "\n",
    "# แสดงผลลัพธ์\n",
    "for stats in sorted_stats:\n",
    "    print(stats)\n"
   ]
  },
  {
   "cell_type": "code",
   "execution_count": null,
   "metadata": {},
   "outputs": [],
   "source": []
  }
 ],
 "metadata": {
  "kernelspec": {
   "display_name": "tfgpu",
   "language": "python",
   "name": "python3"
  },
  "language_info": {
   "codemirror_mode": {
    "name": "ipython",
    "version": 3
   },
   "file_extension": ".py",
   "mimetype": "text/x-python",
   "name": "python",
   "nbconvert_exporter": "python",
   "pygments_lexer": "ipython3",
   "version": "3.9.19"
  }
 },
 "nbformat": 4,
 "nbformat_minor": 2
}
