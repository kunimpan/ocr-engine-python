{
 "cells": [
  {
   "cell_type": "code",
   "execution_count": null,
   "metadata": {},
   "outputs": [],
   "source": [
    "from pathlib import Path\n",
    "import cv2\n",
    "import numpy as np\n",
    "import matplotlib.pyplot as plt\n",
    "\n",
    "# Find edges using canny edge detector\n",
    "def auto_canny(grayim, sigma=0.33):\n",
    "    # compute the median of the single channel pixel intensities\n",
    "    v = np.median(grayim)\n",
    "    # apply automatic Canny edge detection using the computed median\n",
    "    lower = int(max(0, (1.0 - sigma) * v))\n",
    "    upper = int(min(255, (1.0 + sigma) * v))\n",
    "    edged = cv2.Canny(grayim, lower, upper)\n",
    "    # return the edged image\n",
    "    return edged\n",
    "\n",
    "output_folder = Path(\"output_images\")\n",
    "output_folder.mkdir(exist_ok=True)"
   ]
  },
  {
   "cell_type": "code",
   "execution_count": 36,
   "metadata": {},
   "outputs": [
    {
     "data": {
      "text/plain": [
       "True"
      ]
     },
     "execution_count": 36,
     "metadata": {},
     "output_type": "execute_result"
    }
   ],
   "source": [
    "image = cv2.imread(\"C:/Users/Impan/Documents/ocr-engine-python/data/test_images/transcript/technician/good/transcript_tn_f_47.png\")\n",
    "\n",
    "if image is None:\n",
    "    raise FileNotFoundError(\"ไม่พบไฟล์ภาพ กรุณาตรวจสอบเส้นทางของไฟล์\")\n",
    "\n",
    "cv2.imwrite(f\"{output_folder}/transcript.png\", image)\n",
    "\n",
    "gray = cv2.cvtColor(image, cv2.COLOR_BGR2GRAY)\n",
    "\n",
    "# Blur to remove noise\n",
    "blur = cv2.bilateralFilter(gray.copy(), 15, 15, 15)\n",
    "cv2.imwrite(f\"{output_folder}/transcript_blur.png\", blur)\n",
    "\n",
    "# แปลงเป็น HSV เพื่อให้เลือกสีได้แม่นยำขึ้น\n",
    "hsv = cv2.cvtColor(image, cv2.COLOR_BGR2HSV)\n",
    "\n",
    "# 🔹 กำหนดช่วงสีแดง (มี 2 ช่วง)\n",
    "lower_red1 = np.array([0, 50, 50])\n",
    "upper_red1 = np.array([10, 255, 255])\n",
    "\n",
    "lower_red2 = np.array([170, 50, 50])\n",
    "upper_red2 = np.array([180, 255, 255])\n",
    "\n",
    "# สร้าง Mask สำหรับสีแดง\n",
    "mask_red1 = cv2.inRange(hsv, lower_red1, upper_red1)\n",
    "mask_red2 = cv2.inRange(hsv, lower_red2, upper_red2)\n",
    "\n",
    "# รวม Mask สีแดงทั้งหมด\n",
    "mask = cv2.bitwise_or(mask_red1, mask_red2)\n",
    "\n",
    "# ใช้ Morphological Closing เพื่อลบรอยขาดของ Mask\n",
    "kernel = np.ones((5, 5), np.uint8)\n",
    "mask = cv2.morphologyEx(mask, cv2.MORPH_CLOSE, kernel)\n",
    "\n",
    "# ใช้ Inpainting เติมพื้นที่ที่ลบออก\n",
    "inpainted = cv2.inpaint(image, mask, 3, cv2.INPAINT_TELEA)\n",
    "\n",
    "cv2.imwrite(f\"{output_folder}/inpainted.png\", inpainted)\n",
    "\n"
   ]
  },
  {
   "cell_type": "code",
   "execution_count": null,
   "metadata": {},
   "outputs": [
    {
     "name": "stdout",
     "output_type": "stream",
     "text": [
      "Total nr of contours found: 1935\n"
     ]
    }
   ],
   "source": [
    "# detect the contours on the binary image\n"
   ]
  },
  {
   "cell_type": "code",
   "execution_count": null,
   "metadata": {},
   "outputs": [
    {
     "data": {
      "text/plain": [
       "True"
      ]
     },
     "execution_count": 9,
     "metadata": {},
     "output_type": "execute_result"
    }
   ],
   "source": []
  },
  {
   "cell_type": "code",
   "execution_count": null,
   "metadata": {},
   "outputs": [],
   "source": []
  }
 ],
 "metadata": {
  "kernelspec": {
   "display_name": "tfgpu",
   "language": "python",
   "name": "python3"
  },
  "language_info": {
   "codemirror_mode": {
    "name": "ipython",
    "version": 3
   },
   "file_extension": ".py",
   "mimetype": "text/x-python",
   "name": "python",
   "nbconvert_exporter": "python",
   "pygments_lexer": "ipython3",
   "version": "3.9.19"
  }
 },
 "nbformat": 4,
 "nbformat_minor": 2
}
