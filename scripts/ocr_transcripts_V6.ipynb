{
 "cells": [
  {
   "cell_type": "markdown",
   "metadata": {},
   "source": [
    "## Configure tesseract"
   ]
  },
  {
   "cell_type": "code",
   "execution_count": 1,
   "metadata": {},
   "outputs": [
    {
     "name": "stdout",
     "output_type": "stream",
     "text": [
      "5.5.0.20241111\n"
     ]
    }
   ],
   "source": [
    "import pytesseract\n",
    "print(pytesseract.get_tesseract_version())\n",
    "pytesseract.pytesseract.tesseract_cmd = r'C:\\\\Program Files\\\\Tesseract-OCR\\\\tesseract.exe'"
   ]
  },
  {
   "cell_type": "markdown",
   "metadata": {},
   "source": [
    "## โหลดรูปเบื้องต้น"
   ]
  },
  {
   "cell_type": "code",
   "execution_count": 2,
   "metadata": {},
   "outputs": [
    {
     "data": {
      "text/plain": [
       "True"
      ]
     },
     "execution_count": 2,
     "metadata": {},
     "output_type": "execute_result"
    }
   ],
   "source": [
    "import cv2\n",
    "from matplotlib import table\n",
    "import numpy as np\n",
    "import matplotlib.pyplot as plt\n",
    "from pathlib import Path\n",
    "\n",
    "output_folder = Path(\"../data/output_images/output_V6\")\n",
    "output_folder.mkdir(exist_ok=True)\n",
    "\n",
    "image = cv2.imread(\"../data/test_images/transcript/img-3.png\")\n",
    "if image is None:\n",
    "    raise FileNotFoundError(\"ไม่พบไฟล์ภาพ กรุณาตรวจสอบเส้นทางของไฟล์\")\n",
    "\n",
    "# จำกัด noise\n",
    "denoised = cv2.bilateralFilter(image, 50, 100, 100)\n",
    "cv2.imwrite(f\"{output_folder}/transcript_denoised.png\", denoised)\n",
    "\n",
    "gray_img = cv2.cvtColor(denoised, cv2.COLOR_BGR2GRAY)\n",
    "\n",
    "# สำหรับภาพที่แสงสม่ำเสมอ\n",
    "binary_mean = cv2.adaptiveThreshold(\n",
    "    gray_img, \n",
    "    maxValue=255, \n",
    "    adaptiveMethod=cv2.ADAPTIVE_THRESH_MEAN_C,\n",
    "    thresholdType=cv2.THRESH_BINARY_INV, \n",
    "    blockSize=41, \n",
    "    C=20\n",
    ")\n",
    "\n",
    "# สำหรับภาพที่แสงไม่สม่ำเสมอ\n",
    "binary_gaussian = cv2.adaptiveThreshold(\n",
    "    gray_img, \n",
    "    maxValue=255, \n",
    "    adaptiveMethod=cv2.ADAPTIVE_THRESH_GAUSSIAN_C,\n",
    "    thresholdType=cv2.THRESH_BINARY_INV, \n",
    "    blockSize=41, \n",
    "    C=20\n",
    ")\n",
    "\n",
    "# ใช้ Otsu Thresholding\n",
    "_, binary_otsu = cv2.threshold(gray_img, 0, 255, cv2.THRESH_BINARY_INV + cv2.THRESH_OTSU)\n",
    "\n",
    "cv2.imwrite(f\"{output_folder}/transcript.png\", image)\n",
    "cv2.imwrite(f\"{output_folder}/transcript_gray.png\", gray_img)\n",
    "cv2.imwrite(f\"{output_folder}/transcript_binary_g.png\", binary_gaussian)\n",
    "cv2.imwrite(f\"{output_folder}/transcript_binary_m.png\", binary_mean)\n",
    "cv2.imwrite(f\"{output_folder}/transcript_otsu.png\", binary_otsu)"
   ]
  },
  {
   "cell_type": "markdown",
   "metadata": {},
   "source": [
    "## แยกตารางกับข้อมูลส่วนบน"
   ]
  },
  {
   "cell_type": "code",
   "execution_count": 3,
   "metadata": {},
   "outputs": [
    {
     "data": {
      "text/plain": [
       "True"
      ]
     },
     "execution_count": 3,
     "metadata": {},
     "output_type": "execute_result"
    }
   ],
   "source": [
    "# แยกตาราง\n",
    "original_img = image\n",
    "num_labels, labels, stats, centroids = cv2.connectedComponentsWithStats(binary_gaussian, connectivity=8)\n",
    "areas = [stat[4] for stat in stats]  # ดึงค่า area\n",
    "sorted_areas = sorted(areas, reverse=True)  # เรียงลำดับจากมากไปน้อย\n",
    "second_max_area = sorted_areas[1]  # ค่าอันดับ 2\n",
    "second_max_area_index = areas.index(second_max_area)  # หาตำแหน่งในลิสต์เดิม\n",
    "\n",
    "table_position = stats[second_max_area_index]\n",
    "x, y, w, h, area = table_position\n",
    "table_img = binary_gaussian[y:y+h, x:x+w]\n",
    "cv2.imwrite(f\"{output_folder}/table.png\", table_img)\n",
    "\n",
    "# แยกประวัติส่วนตัว\n",
    "student_info_img = binary_gaussian[:y, :]\n",
    "student_info_gray = gray_img[:y, :]\n",
    "student_info_color = original_img[:y, :]\n",
    "cv2.imwrite(f\"{output_folder}/student_info_color.png\", student_info_color)\n",
    "\n",
    "# หารูปโปรไฟล์\n",
    "num_labels, labels, stats, centroids = cv2.connectedComponentsWithStats(student_info_img, connectivity=8)\n",
    "areas = [stat[4] for stat in stats]  # ดึงค่า area\n",
    "sorted_areas = sorted(areas, reverse=True)  # เรียงลำดับจากมากไปน้อย\n",
    "second_max_area = sorted_areas[1]  # ค่าอันดับ 2\n",
    "second_max_area_index = areas.index(second_max_area)  # หาตำแหน่งในลิสต์เดิม\n",
    "\n",
    "profile_position = stats[second_max_area_index]\n",
    "x, y, w, h, area = profile_position\n",
    "profile_img = student_info_img[y:y+h, x:x+w]\n",
    "\n",
    "# ประวัติส่วนตัวที่เอารูปโปรไฟล์ออก\n",
    "studentInfo_no_profile_img = student_info_img[:, :x-10]\n",
    "studentInfo_no_gray = student_info_gray[:, :x-10]\n",
    "cv2.imwrite(f\"{output_folder}/studentInfo_no.png\", studentInfo_no_profile_img)\n",
    "cv2.imwrite(f\"{output_folder}/studentInfo_no_gray.png\", studentInfo_no_gray)"
   ]
  },
  {
   "cell_type": "markdown",
   "metadata": {},
   "source": [
    "## จับกลุ่มข้อความใน record"
   ]
  },
  {
   "cell_type": "code",
   "execution_count": 4,
   "metadata": {},
   "outputs": [],
   "source": [
    "def detect_text_group(dilalated_image, binary_image):\n",
    "\n",
    "    text_group_images = []\n",
    "    # ใช้ Connected Component Analysis\n",
    "    num_labels, labels, stats, centroids = cv2.connectedComponentsWithStats(dilalated_image, connectivity=8)\n",
    "\n",
    "    # กรองข้อมูล Background และจัดเรียงจากบนไปลงล่าง (ตามค่า y)\n",
    "    char_stats = stats[1:]  # ข้าม Background (index 0)\n",
    "    #sorted_indices = np.argsort(char_stats[:, 1])  # จัดเรียงตามค่า y (คอลัมน์ที่ 1)\n",
    "    #sorted_stats = char_stats[sorted_indices]\n",
    "\n",
    "    sorted_indices = np.lexsort((char_stats[:, 0], char_stats[:, 1]))  # (x, y)\n",
    "    sorted_stats = char_stats[sorted_indices]\n",
    "\n",
    "    expand_ratio = 0.0  # อัตราส่วนการขยาย (0.5 คือ 50% ของขนาดเดิม)\n",
    "    reduce_size = 0.00\n",
    "\n",
    "    for idx, stats in enumerate(sorted_stats):  # เริ่มจาก 1 เพราะ 0 คือ background\n",
    "        x, y, w, h, area = stats\n",
    "\n",
    "        x_exp = int(x - (expand_ratio-reduce_size) * w)\n",
    "        y_exp = int(y - (expand_ratio) * h)\n",
    "        w_exp = int(w + 2 * (expand_ratio-reduce_size) * w)\n",
    "        h_exp = int(h + 2 * (expand_ratio) * h)\n",
    "\n",
    "        # ตรวจสอบไม่ให้เกินขอบภาพ\n",
    "        x_exp = max(0, x_exp)\n",
    "        y_exp = max(0, y_exp)\n",
    "        w_exp = min(binary_image.shape[1] - x_exp, w_exp)\n",
    "        h_exp = min(binary_image.shape[0] - y_exp, h_exp)\n",
    "\n",
    "        if w >= 90 and h >= 20:  # ปรับค่าขนาดขั้นต่ำและสูงสุดตามต้องการ\n",
    "            cca_img = binary_image[y_exp:y_exp+h_exp, x_exp:x_exp+w_exp]\n",
    "            text_group_images.append(cca_img)\n",
    "            cv2.imwrite(f\"{output_folder}/studentInfo/cca_{idx}.jpg\", cca_img)\n",
    "            cv2.rectangle(image, (x_exp, y_exp), (x_exp + w_exp, y_exp + h_exp), (0, 255, 0), 1)\n",
    "\n",
    "    return text_group_images\n",
    "\n",
    "kernel = np.ones((6, 80), np.uint8)\n",
    "lines_studentInfo = cv2.dilate(studentInfo_no_profile_img, kernel, iterations=1)\n",
    "cv2.imwrite(f\"{output_folder}/studentInfo/find_lines.png\", lines_studentInfo)\n",
    "\n",
    "text_group_studentInfo_images = detect_text_group(lines_studentInfo, studentInfo_no_profile_img)\n"
   ]
  },
  {
   "cell_type": "code",
   "execution_count": 5,
   "metadata": {},
   "outputs": [
    {
     "name": "stdout",
     "output_type": "stream",
     "text": [
      "รบ.1 ปวส. เล“\n",
      "ระเบียนแสดงผลการเรียนตามหลักสูตรประกาศนียบัตรวิชาชีพชั้นสูง (ปวส.) พุทธศักราช 2563\n",
      "ชื่อสถานศึกษา วิทยาลัยเทคนิคเชียงราย\n",
      "รหัสสถานศึกษา 1357016101\n",
      "จังหวัด เชียงราย\n",
      "สถานศึกษาเดิม วิทยาลัยเทคนิคเชียงราย\n",
      "จังหวัด เชียงราย\n",
      "รหัสประจําตัว 63301280021\n",
      "ชื่อ - ชื่อสกุล นายอัมรินทร์ ธรรมกาศ\n",
      "ระดับการศึกษาที่จบ ประกาศนียบัตรวิชาชีพ\n",
      "เชื้อซาติ ไทย สัญชาติ ไทย ศาสนา พุทธ\n",
      "ปีการศึกษาที่จบ 2562\n",
      "เข้าศึกษาเมื่อ 1 กรกฎาคม 2563\n",
      "วัน เดือน ปีเกิด 1 สิงหาคม 2544 .\n",
      "หน่วยกิตที่รับโอน -\n",
      "เลขประจําตัวประชาชน 1 5799 00931 89 ศุ\n",
      "ชื่อบิดา      นายจํารัส ธรรมกาศ\n",
      "หน่วยกิตที่เรียน 103\n",
      "ชื่อมารดา นางสาวกนกพัชร อื่นคํา\n",
      "หน่วยกิตที่ได้           83\n",
      "ระดับคะแนนเฉลี่ยสะสม 3.89\n",
      "ประเภทวิชา อุตสาหกรรม\n",
      "ผ่านเกณฑ์การประเมินมาตรฐานวิชาชีพเมื่อ 15 มีนาคม 2565\n",
      "สาขาวิชา เทคโนโลยีคอมพิวเตอร์\n",
      "สําเร็จการศึกษาเมื่อ 28 มีนาคม 2565\n",
      "สาขางาน คอมพิวเตอร์ระบบเครื่อข่าย\n"
     ]
    }
   ],
   "source": [
    "custom_config = r'--oem 3 --psm 7'  # ใช้ OCR Engine Mode และ Page Segmentation Mode ที่เหมาะสม\n",
    "\n",
    "studentInfo_text_box = []\n",
    "for idx, text_img in enumerate(text_group_studentInfo_images):\n",
    "    text = pytesseract.image_to_string(text_img, config=custom_config, lang='tha')\n",
    "    #plt.figure(figsize=(5, 5))\n",
    "    #plt.imshow(text_img)\n",
    "    #plt.imshow(text_img, cmap=\"gray\")\n",
    "    #plt.title(f\"dilated_lines\")\n",
    "    plt.show()\n",
    "    text_cleaned = text.replace(\"\\n\", \"\")  # ลบ \\n ออก\n",
    "    studentInfo_text_box.append(text_cleaned)\n",
    "    print(text_cleaned)\n",
    "\n"
   ]
  },
  {
   "cell_type": "markdown",
   "metadata": {},
   "source": [
    "## แบ่งส่วนตาราง"
   ]
  },
  {
   "cell_type": "code",
   "execution_count": 6,
   "metadata": {},
   "outputs": [
    {
     "name": "stdout",
     "output_type": "stream",
     "text": [
      "0\n",
      "1\n",
      "2\n",
      "3\n",
      "4\n",
      "5\n",
      "6\n",
      "7\n",
      "8\n",
      "9\n"
     ]
    }
   ],
   "source": [
    "def table_cell_detection(table_img):\n",
    "    # ใช้ Morphological Operations เพื่อตรวจจับเส้น\n",
    "    #แนวนอน (Rows)\n",
    "    horizontal_kernel = cv2.getStructuringElement(cv2.MORPH_RECT, (25, 1))\n",
    "    horizontal_lines = cv2.morphologyEx(table_img, cv2.MORPH_OPEN, horizontal_kernel)\n",
    "\n",
    "    #แนวตั้ง (Columns)\n",
    "    vertical_kernel = cv2.getStructuringElement(cv2.MORPH_RECT, (1, 25))\n",
    "    vertical_lines = cv2.morphologyEx(table_img, cv2.MORPH_OPEN, vertical_kernel)\n",
    "\n",
    "    # รวมเส้น\n",
    "    table_structure = cv2.add(horizontal_lines, vertical_lines)\n",
    "\n",
    "    # Combine lines\n",
    "    combined_lines = cv2.addWeighted(horizontal_lines, 0.5, vertical_lines, 0.5, 0)\n",
    "\n",
    "    # Dilate to connect broken lines\n",
    "    kernel = cv2.getStructuringElement(cv2.MORPH_RECT, (3, 3))\n",
    "    dilated_lines = cv2.dilate(combined_lines, kernel, iterations=1)\n",
    "\n",
    "   # plt.figure(figsize=(15, 15))\n",
    "    #plt.imshow(dilated_lines, cmap=\"gray\")\n",
    "    #plt.title(f\"dilated_lines\")\n",
    "    #plt.show()\n",
    "\n",
    "    # Find contours\n",
    "    contours, _ = cv2.findContours(dilated_lines, cv2.RETR_TREE, cv2.CHAIN_APPROX_SIMPLE)\n",
    "\n",
    "    return contours\n",
    "\n",
    "table_cell_contours = table_cell_detection(table_img)\n",
    "\n",
    "# ฟังก์ชันสำหรับดึงค่า y (แนวตั้ง) สำหรับการจัดเรียงตามแถว\n",
    "def get_y_position(contour):\n",
    "    x, y, w, h = cv2.boundingRect(contour)\n",
    "    return y\n",
    "\n",
    "# ฟังก์ชันสำหรับดึงค่า x (แนวนอน) สำหรับการจัดเรียงตามคอลัมน์\n",
    "def get_x_position(cell):\n",
    "    x, y, w, h = cell\n",
    "    return x\n",
    "\n",
    "# จัดเรียง contours ตามตำแหน่ง y (แนวตั้ง) เพื่อแยกแถว\n",
    "sorted_contours = sorted(table_cell_contours, key=get_y_position)\n",
    "\n",
    "# แยกแถว\n",
    "rows = []\n",
    "current_row = []\n",
    "previous_y = -1\n",
    "for ctr in sorted_contours:\n",
    "    x, y, w, h = cv2.boundingRect(ctr)\n",
    "    if(w < 30 and h < 30):\n",
    "        continue\n",
    "    if previous_y == -1 or abs(y - previous_y) < 10:  # Same row threshold\n",
    "        current_row.append((x, y, w, h))\n",
    "    else:\n",
    "        # จัดเรียงคอลัมน์ในแถวปัจจุบันตามตำแหน่ง x\n",
    "        rows.append(sorted(current_row, key=get_x_position))\n",
    "        current_row = [(x, y, w, h)]\n",
    "    previous_y = y\n",
    "\n",
    "# เพิ่มแถวสุดท้าย\n",
    "if current_row:\n",
    "    rows.append(sorted(current_row, key=get_x_position))\n",
    "\n",
    "cell_images = []\n",
    "for row_index, row in enumerate(rows[1:2]):\n",
    "    for col_index, cell in enumerate(row):\n",
    "        x, y, w, h = cell\n",
    "        #cell_image = table_img[y:y+h, x:x+w]\n",
    "        cell_img = table_img[y+4:y+h-4, x+4:x+w-4]\n",
    "\n",
    "        # ตัดขอบออก 5%\n",
    "        #margin_x = int(w * 0.05)  # คำนวณขอบ 2% ของความกว้าง\n",
    "        #margin_y = int(h * 0.02)  # คำนวณขอบ 2% ของความสูง\n",
    "        #cropped_cell_image = cell_image[margin_y:h-margin_y, margin_x:w-margin_x]\n",
    "\n",
    "        cell_images.append(cell_img)\n",
    "        print(col_index)\n",
    "        cv2.imwrite(f\"{output_folder}/table/Row_{row_index}_Col_{col_index}.png\", cell_img)\n",
    "\n"
   ]
  },
  {
   "cell_type": "markdown",
   "metadata": {},
   "source": [
    "### จับกลุ่มข้อความในตาราง"
   ]
  },
  {
   "cell_type": "code",
   "execution_count": 7,
   "metadata": {},
   "outputs": [
    {
     "name": "stdout",
     "output_type": "stream",
     "text": [
      "cell_img : 0\n",
      "mode: 1\n",
      "เข้าเงื่อน 23\n",
      "cell_img : 1\n",
      "mode: 2\n",
      "cell_img : 2\n",
      "mode: 2\n",
      "cell_img : 3\n",
      "mode: 2\n",
      "cell_img : 4\n",
      "mode: 2\n",
      "cell_img : 5\n",
      "mode: 1\n",
      "เข้าเงื่อน 18\n",
      "cell_img : 6\n",
      "mode: 2\n",
      "cell_img : 7\n",
      "mode: 2\n",
      "cell_img : 8\n",
      "mode: 2\n",
      "cell_img : 9\n",
      "mode: 2\n"
     ]
    }
   ],
   "source": [
    "def detect_text_group_in_cell(dilalated_image, binary_image, mode, calculate_line_stats=None):\n",
    "    rgb_image = cv2.cvtColor(binary_image, cv2.COLOR_GRAY2RGB)\n",
    "\n",
    "    text_group_images = []\n",
    "    \n",
    "    if(mode == 1):\n",
    "        # ใช้ Connected Component Analysis\n",
    "        num_labels, labels, stats, centroids = cv2.connectedComponentsWithStats(dilalated_image, connectivity=8)\n",
    "\n",
    "        # กรองข้อมูล Background และจัดเรียงจากซ้ายไปขวา (ตามค่า x)\n",
    "        char_stats = stats[1:]  # ข้าม Background (index 0)\n",
    "        sorted_indices = np.argsort(char_stats[:, 1])  # จัดเรียงตามค่า y (คอลัมน์ที่ 1)\n",
    "        sorted_stats = char_stats[sorted_indices]\n",
    "\n",
    "        # ใช้ Boolean Indexing เพื่อเอา noise ออก \n",
    "        sorted_stats = sorted_stats[sorted_stats[:, 4] >= 100]\n",
    "\n",
    "        calculate_line_stats = []\n",
    "        \n",
    "        #หาช่องระยะห่างระหว่างบรรทัดเพื่อนนำไปใช้กับ col ชื่อวิชา\n",
    "        for idx_stat, stat in enumerate(sorted_stats):\n",
    "            if idx_stat == (len(sorted_stats)-1):\n",
    "                print(\"เข้าเงื่อน\",idx_stat)\n",
    "                x, y, w, h, area = stat\n",
    "                new_y = round(y-(h/2))\n",
    "                new_h = round(h+h)\n",
    "                calculate_line_stats.append([x, new_y, w, new_h, area])\n",
    "            else:\n",
    "                #print(\"index: \",idx_stat)\n",
    "                current_stat = stat\n",
    "                next_stat = sorted_stats[idx_stat+1]\n",
    "\n",
    "                distance = next_stat[1] - current_stat[1]\n",
    "                line_spacing = distance/current_stat[3]\n",
    "\n",
    "                if line_spacing > 3 and line_spacing < 7: # เป็นชื่อวิชาที่มีความยาวมากกว่า 1 บรรทัด\n",
    "                    x, y, w, h, area = current_stat\n",
    "                    new_y = round(y-(h/2))\n",
    "                    new_h = round(h+(h*2.5))\n",
    "                    calculate_line_stats.append([x, new_y, w, new_h, area])\n",
    "                elif line_spacing > 7:\n",
    "                    x, y, w, h, area = current_stat\n",
    "                    new_y = round(y-(h/2))\n",
    "                    new_h = round(h+h)\n",
    "                    calculate_line_stats.append([x, new_y, w, new_h, area])\n",
    "                else:\n",
    "                    x, y, w, h, area = current_stat\n",
    "                    new_y = round(y-(h/2))\n",
    "                    new_h = round(h+h)\n",
    "                    calculate_line_stats.append([x, new_y, w, new_h, area])\n",
    "\n",
    "        calculate_line_stats = np.array(calculate_line_stats)\n",
    "        #print(idx_stat, current_stat)\n",
    "        #print(distance, line_spacing)\n",
    "\n",
    "    expand_ratio = 0.0  # อัตราส่วนการขยาย (0.5 คือ 50% ของขนาดเดิม)\n",
    "    reduce_size = 0.00\n",
    "    text_stats = sorted_stats if mode == 1 else calculate_line_stats\n",
    "    \n",
    "    for idx, stats in enumerate(text_stats):  # เริ่มจาก 1 เพราะ 0 คือ background\n",
    "\n",
    "        x, y, w, h, area = stats\n",
    "\n",
    "        if area >= 100:  # ปรับค่าขนาดขั้นต่ำและสูงสุดตามต้องการ\n",
    "            if mode == 1:\n",
    "                cca_img = binary_image[y:y+h, x:x+w]\n",
    "            else:\n",
    "                cca_img = binary_image[y:y+h, :]\n",
    "            text_group_images.append(cca_img)\n",
    "            #cv2.imwrite(f\"{output_folder}/table/cca_{idx}.jpg\", cca_img)\n",
    "\n",
    "            # หาขนาดของภาพ (ความกว้างและความสูง)\n",
    "            image_height, image_width, _ = rgb_image.shape  # ได้ค่า (สูง, กว้าง, ช่องสี)\n",
    "            cv2.rectangle(rgb_image, (x, y), (image_width, y + h), (0, 255, 0), 1)\n",
    "    \n",
    "    if mode == 1:\n",
    "        return text_group_images, calculate_line_stats, rgb_image\n",
    "    else:\n",
    "        return text_group_images, rgb_image\n",
    "\n",
    "cell_text_group_images = []\n",
    "for idx_cell, cell_img in enumerate(cell_images):\n",
    "    kernel = np.ones((5, 15), np.uint8)\n",
    "    lines_cell = cv2.dilate(cell_img, kernel, iterations=1)\n",
    "    cv2.imwrite(f\"{output_folder}/table/text_group/cell_{idx_cell}.png\", lines_cell)\n",
    "    print(\"cell_img :\", idx_cell)\n",
    "\n",
    "    if idx_cell == 0 or idx_cell == 5:\n",
    "        print(\"mode:\", 1)\n",
    "        text_group_cells, calculate_line_stats, cca_img = detect_text_group_in_cell(lines_cell, cell_img, 1)\n",
    "    else:\n",
    "        print(\"mode:\", 2)\n",
    "        text_group_cells, cca_img = detect_text_group_in_cell(lines_cell, cell_img, 2, calculate_line_stats)\n",
    "\n",
    "    #text_group_cells, cca_img = detect_text_group_in_cell(lines_cell, cell_img, 1)\n",
    "    cv2.imwrite(f\"{output_folder}/table/text_group/cca_{idx_cell}.jpg\", cca_img)\n",
    "    cell_text_group_images.append(text_group_cells)"
   ]
  },
  {
   "cell_type": "code",
   "execution_count": 8,
   "metadata": {},
   "outputs": [
    {
     "data": {
      "image/png": "[encoded data removed]",
      "text/plain": [
       "<Figure size 500x500 with 1 Axes>"
      ]
     },
     "metadata": {},
     "output_type": "display_data"
    },
    {
     "name": "stdout",
     "output_type": "stream",
     "text": [
      "[[0 0 0 ... 0 0 0]\n",
      " [0 0 0 ... 0 0 0]\n",
      " [0 0 0 ... 0 0 0]\n",
      " ...\n",
      " [0 0 0 ... 0 0 0]\n",
      " [0 0 0 ... 0 0 0]\n",
      " [0 0 0 ... 0 0 0]]\n",
      "ภาพเป็นสีดำทั้งหมด\n"
     ]
    }
   ],
   "source": [
    "\n",
    "plt.figure(figsize=(5,5))\n",
    "plt.imshow(cell_text_group_images[2][10], cmap=\"gray\")\n",
    "plt.title(f\"sub text\")\n",
    "plt.show()\n",
    "print(cell_text_group_images[2][10])\n",
    "\n",
    "# เช็คว่าภาพเป็นสีดำทั้งหมดหรือไม่\n",
    "if not np.any(cell_text_group_images[2][10]):  # ถ้าค่าพิกเซลทั้งหมดเป็น 0 (ดำสนิท)\n",
    "    print(\"ภาพเป็นสีดำทั้งหมด\")\n",
    "else:\n",
    "    print(\"ภาพมีบางส่วนที่ไม่ใช่สีดำ\")\n"
   ]
  },
  {
   "cell_type": "markdown",
   "metadata": {},
   "source": [
    "### จับข้อความย่อยในกลุ่มข้อความของ cell ตาราง"
   ]
  },
  {
   "cell_type": "code",
   "execution_count": 9,
   "metadata": {},
   "outputs": [
    {
     "name": "stdout",
     "output_type": "stream",
     "text": [
      "ภาพเป็นสีดำทั้งหมด\n",
      "ภาพเป็นสีดำทั้งหมด\n",
      "ภาพเป็นสีดำทั้งหมด\n",
      "ภาพเป็นสีดำทั้งหมด\n",
      "ภาพเป็นสีดำทั้งหมด\n",
      "ภาพเป็นสีดำทั้งหมด\n",
      "ภาพเป็นสีดำทั้งหมด\n",
      "ภาพเป็นสีดำทั้งหมด\n",
      "ภาพเป็นสีดำทั้งหมด\n",
      "ภาพเป็นสีดำทั้งหมด\n",
      "ภาพเป็นสีดำทั้งหมด\n",
      "ภาพเป็นสีดำทั้งหมด\n",
      "ภาพเป็นสีดำทั้งหมด\n",
      "ภาพเป็นสีดำทั้งหมด\n",
      "ภาพเป็นสีดำทั้งหมด\n",
      "ภาพเป็นสีดำทั้งหมด\n",
      "ภาพเป็นสีดำทั้งหมด\n",
      "ภาพเป็นสีดำทั้งหมด\n"
     ]
    }
   ],
   "source": [
    "def detect_text_in_group(binary_image):\n",
    "    kernel = np.ones((6, 6), np.uint8)\n",
    "    dummy_image = cv2.dilate(binary_image, kernel, iterations=3)\n",
    "\n",
    "    '''\n",
    "    plt.figure(figsize=(5,5))\n",
    "    plt.imshow(dummy_image, cmap=\"gray\")\n",
    "    plt.title(f\"sub text\")\n",
    "    plt.show()\n",
    "    '''\n",
    "    sub_text_images = []\n",
    "\n",
    "    # เช็คว่าภาพเป็นสีดำทั้งหมดหรือไม่\n",
    "    if not np.any(binary_image):  # ถ้าค่าพิกเซลทั้งหมดเป็น 0 (ดำสนิท)\n",
    "        print(\"ภาพเป็นสีดำทั้งหมด\")\n",
    "        sub_text_images.append(binary_image)\n",
    "        return sub_text_images \n",
    "    else:\n",
    "        # ใช้ Connected Component Analysis\n",
    "        num_labels, labels, stats, centroids = cv2.connectedComponentsWithStats(dummy_image, connectivity=8)\n",
    "\n",
    "        # กรองข้อมูล Background และจัดเรียงจากซ้ายไปขวา (ตามค่า x)\n",
    "        char_stats = stats[1:]  # ข้าม Background (index 0)\n",
    "        sorted_indices = np.argsort(char_stats[:, 0])  # จัดเรียงตามค่า x (คอลัมน์ที่ 0)\n",
    "        sorted_stats = char_stats[sorted_indices]\n",
    "\n",
    "        expand_ratio = 0.0  # อัตราส่วนการขยาย (0.5 คือ 50% ของขนาดเดิม)\n",
    "        reduce_size = 0.00\n",
    "        #for idx, i in enumerate(range(1, num_labels)):  # เริ่มจาก 1 เพราะ 0 คือ background\n",
    "        for idx, stats in enumerate(sorted_stats):\n",
    "            #x, y, w, h, area = stats[i]\n",
    "            x, y, w, h, area = stats\n",
    "            x_exp = int(x - (expand_ratio-reduce_size) * w)\n",
    "            y_exp = int(y - (expand_ratio) * h)\n",
    "            w_exp = int(w + 2 * (expand_ratio-reduce_size) * w)\n",
    "            h_exp = int(h + 2 * (expand_ratio) * h)\n",
    "\n",
    "            # ตรวจสอบไม่ให้เกินขอบภาพ\n",
    "            x_exp = max(0, x_exp)\n",
    "            y_exp = max(0, y_exp)\n",
    "            w_exp = min(binary_image.shape[1] - x_exp, w_exp)\n",
    "            h_exp = min(binary_image.shape[0] - y_exp, h_exp)\n",
    "\n",
    "            cca_img = binary_image[y_exp:y_exp+h_exp, x_exp:x_exp+w_exp]\n",
    "            sub_text_images.append(cca_img)\n",
    "            #cv2.imwrite(f\"../data/output_images/output/text_sub/cca_{idx}.jpg\", cca_img)\n",
    "            #cv2.rectangle(image, (x_exp, y_exp), (x_exp + w_exp, y_exp + h_exp), (0, 255, 0), 1)\n",
    "\n",
    "        return sub_text_images \n",
    "\n",
    "cell_text_group_sub_images = []\n",
    "for idx_cell, cell in enumerate(cell_text_group_images):\n",
    "    #print(\"cell ที่ :\", idx_cell+1)\n",
    "\n",
    "    sub_text_cell_images = []\n",
    "    for idx_text, text_img in enumerate(cell):\n",
    "        #print(\"  ข้อความที่ :\", idx_text+1)\n",
    "        sub_text_cell_images.append(detect_text_in_group(text_img))\n",
    "\n",
    "    cell_text_group_sub_images.append(sub_text_cell_images)\n",
    "\n"
   ]
  },
  {
   "cell_type": "markdown",
   "metadata": {},
   "source": [
    "### จับตัวอักษร"
   ]
  },
  {
   "cell_type": "code",
   "execution_count": 54,
   "metadata": {},
   "outputs": [
    {
     "name": "stdout",
     "output_type": "stream",
     "text": [
      "เข้าเงื่อนไข\n",
      "เข้าเงื่อนไข\n",
      "เข้าเงื่อนไข\n",
      "เข้าเงื่อนไข\n"
     ]
    }
   ],
   "source": [
    "custom_config = r'--oem 3 --psm 7'\n",
    "\n",
    "def predict_text_in_cell(text_group_sub_images):\n",
    "    text_box = []\n",
    "    for idx_group, text_group in enumerate(text_group_sub_images):\n",
    "        text_sub_text_group = \"\"\n",
    "        for idx_sub, sub_text in enumerate(text_group):\n",
    "            #plt.figure(figsize=(2, 2))\n",
    "            #plt.imshow(sub_text, cmap=\"gray\")\n",
    "            #plt.title(f\"dilated_lines\")\n",
    "            if not np.any(sub_text):\n",
    "                print(\"เข้าเงื่อนไข\")\n",
    "                text = \"-\"\n",
    "                '''\n",
    "                plt.figure(figsize=(5,5))\n",
    "                plt.imshow(sub_text, cmap=\"gray\")\n",
    "                plt.title(f\"sub text\")\n",
    "                plt.show()\n",
    "                '''\n",
    "            else:\n",
    "                text = pytesseract.image_to_string(sub_text, config=custom_config, lang='tha')\n",
    "                \n",
    "            text_sub_text_group += text\n",
    "            text_cleaned = text_sub_text_group.replace(\"\\n\", \"\")  # ลบ \\n ออก\n",
    "        text_box.append(text_cleaned)\n",
    "        #print(text_cleaned)\n",
    "\n",
    "    return text_box\n",
    "\n",
    "cell_subject_code = cell_text_group_sub_images[0]\n",
    "cell_subject_name = cell_text_group_sub_images[1]\n",
    "cell_credit = cell_text_group_sub_images[2]\n",
    "cell_academic_results = cell_text_group_sub_images[3]\n",
    "cell_subject_code_2 = cell_text_group_sub_images[5]\n",
    "cell_subject_name_2 = cell_text_group_sub_images[6]\n",
    "cell_credit_2 = cell_text_group_sub_images[7]\n",
    "cell_academic_results_2 = cell_text_group_sub_images[8]\n",
    "\n",
    "text_box_subject_code = predict_text_in_cell(cell_subject_code)\n",
    "text_box_subject_name = predict_text_in_cell(cell_subject_name)\n",
    "text_box_credit = predict_text_in_cell(cell_credit)\n",
    "text_box_academic_results = predict_text_in_cell(cell_academic_results)\n",
    "text_box_subject_code_2 = predict_text_in_cell(cell_subject_code_2)\n",
    "text_box_subject_name_2 = predict_text_in_cell(cell_subject_name_2)\n",
    "text_box_credit_2 = predict_text_in_cell(cell_credit_2)\n",
    "text_box_academic_results_2 = predict_text_in_cell(cell_academic_results_2)\n",
    "\n",
    "\n",
    "\n",
    "\n"
   ]
  },
  {
   "cell_type": "code",
   "execution_count": 45,
   "metadata": {},
   "outputs": [
    {
     "data": {
      "image/png": "[encoded data removed]",
      "text/plain": [
       "<Figure size 500x500 with 1 Axes>"
      ]
     },
     "metadata": {},
     "output_type": "display_data"
    }
   ],
   "source": [
    "plt.figure(figsize=(5,5))\n",
    "plt.imshow(cell_subject_name_2[16][1], cmap=\"gray\")\n",
    "plt.title(f\"sub text\")\n",
    "plt.show()"
   ]
  },
  {
   "cell_type": "code",
   "execution_count": 55,
   "metadata": {},
   "outputs": [
    {
     "name": "stdout",
     "output_type": "stream",
     "text": [
      "ฝึกงาน\n",
      "กิจกรรมสถานประกอบการ\n",
      "ภาษาอังกฤษสําหรับการปฏิบัติงาน\n",
      "การบริหารงานคุณภาพในองค์การ\n",
      "ดิจิทัลเทคนิค\n",
      "โปรแกรมโครงสร้าง\n",
      "การใช้งานไมโครคอนโทรลเลอร์\n",
      "การเขียนโปรแกรมดอทเน็ต\n",
      "ระบบเครือข่ายคอมพิวเตอร์\n",
      "ระบบฐานข้อมูล\n",
      "การออกแบบและการจัดการเครือข่ายในองค์กร\n",
      "กิจกรรมองค์การวิชาชีพ 3\n",
      "ภาษาอังกฤษโครงงาน\n",
      "ชีวิตกับสังคมไทย\n",
      "การประยุกต์ใช้โปรแกรมคอมพิวเตอร์กราฟิก\n",
      "การเขียนโปรแกรมประยุกต์บนเว็บด้วยโปรแกรมสํา\n",
      "การพัฒนาโปรแกรมประยุกต์บนอุปกรณ์พกพา 1\n",
      "การเขียนโปรแกรมประยุกต์บนเว็บ\n",
      "การจัดการระบบปฏิบัติการเครือข่าย  --\n"
     ]
    }
   ],
   "source": [
    "import re\n",
    "\n",
    "def show_information(array):\n",
    "    for idx, data in enumerate(array):\n",
    "        print(data)\n",
    "\n",
    "def remove_none(my_list):\n",
    "    while '' in my_list:\n",
    "        my_list.remove('')\n",
    "    return my_list\n",
    "\n",
    "def remove_junk_text(my_list):\n",
    "    filtered_list = [item for item in my_list if re.search(r'[ก-ฮa-zA-Z0-9]', item)]\n",
    "    return filtered_list\n",
    "\n",
    "#show_information(text_box_subject_code)\n",
    "#show_information(text_box_subject_name)\n",
    "#show_information(text_box_credit)\n",
    "#show_information(text_box_academic_results)\n",
    "#show_information(text_box_subject_code_2)\n",
    "#show_information(text_box_subject_name_2)\n",
    "#show_information(text_box_credit_2)\n",
    "#show_information(text_box_academic_results_2)\n",
    "\n",
    "show_information(remove_junk_text(text_box_subject_name_2))\n",
    "\n",
    "\n"
   ]
  },
  {
   "cell_type": "code",
   "execution_count": 59,
   "metadata": {},
   "outputs": [],
   "source": [
    "combined_list = list(zip(cell_subject_code, cell_subject_name, cell_credit, cell_academic_results))"
   ]
  },
  {
   "cell_type": "code",
   "execution_count": null,
   "metadata": {},
   "outputs": [],
   "source": []
  }
 ],
 "metadata": {
  "kernelspec": {
   "display_name": "tfgpu",
   "language": "python",
   "name": "python3"
  },
  "language_info": {
   "codemirror_mode": {
    "name": "ipython",
    "version": 3
   },
   "file_extension": ".py",
   "mimetype": "text/x-python",
   "name": "python",
   "nbconvert_exporter": "python",
   "pygments_lexer": "ipython3",
   "version": "3.9.19"
  }
 },
 "nbformat": 4,
 "nbformat_minor": 2
}
