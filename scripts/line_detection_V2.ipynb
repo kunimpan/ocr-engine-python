{
 "cells": [
  {
   "cell_type": "markdown",
   "metadata": {},
   "source": [
    "# Line Detection V2\n",
    "1. เวอร์ชั่นนี้จะเป็นการตรวจจับบรรทัดแบบทั้งแถวเลย\n",
    "2. เรียงตัวอักษรจากซ้ายไปขวา"
   ]
  },
  {
   "cell_type": "markdown",
   "metadata": {},
   "source": [
    "## Histogram Projection\n",
    "ใช้ Histogram Projection เพื่อแยกบรรทัดในแนวนอน:"
   ]
  },
  {
   "cell_type": "code",
   "execution_count": 1,
   "metadata": {},
   "outputs": [
    {
     "name": "stdout",
     "output_type": "stream",
     "text": [
      "Lines detected: [(108, 137), (184, 206)]\n"
     ]
    },
    {
     "data": {
      "image/png": "[encoded data removed]",
      "text/plain": [
       "<Figure size 640x480 with 1 Axes>"
      ]
     },
     "metadata": {},
     "output_type": "display_data"
    },
    {
     "data": {
      "image/png": "[encoded data removed]",
      "text/plain": [
       "<Figure size 640x480 with 1 Axes>"
      ]
     },
     "metadata": {},
     "output_type": "display_data"
    },
    {
     "name": "stdout",
     "output_type": "stream",
     "text": [
      "Saved lines to ..\\data\\output_images\\output_lines\n"
     ]
    },
    {
     "data": {
      "text/plain": [
       "'\\n# เพิ่มเส้นกรอบรอบข้อความแต่ละบรรทัด\\nfor start, end in lines:\\n    cv2.rectangle(image, (0, start), (image.shape[1], end), (0, 255, 0), 2)\\ncv2.imshow(\"Detected Lines\", image)\\ncv2.imshow(\"Binary Image\", binary_image)\\ncv2.waitKey(0)\\ncv2.destroyAllWindows()\\n\\n# การแยกข้อความแต่ละบรรทัดออกเป็นภาพย่อย\\nline_images = [binary_image[start:end, :] for start, end in lines]\\nfor idx, line_img in enumerate(line_images):\\n    cv2.imshow(f\"Line {idx + 1}\", line_img)\\ncv2.waitKey(0)\\ncv2.destroyAllWindows()\\n'"
      ]
     },
     "execution_count": 1,
     "metadata": {},
     "output_type": "execute_result"
    }
   ],
   "source": [
    "import cv2\n",
    "import numpy as np\n",
    "import matplotlib.pyplot as plt\n",
    "from pathlib import Path\n",
    "\n",
    "output_folder = Path(\"../data/output_images/output_lines\")\n",
    "output_folder.mkdir(exist_ok=True)\n",
    "\n",
    "# โหลดภาพ\n",
    "#image = cv2.imread(\"../data/test_images/line_detection/test_a_to_z_3.jpg\")\n",
    "#image = cv2.imread(\"../data/test_images/line_detection/testAtoZ_1.jpg\")\n",
    "#image = cv2.imread(\"../data/test_images/line_detection/0to9_2.jpg\")\n",
    "#image = cv2.imread(\"../data/test_images/transcript/aun_20240817_0001.jpg\")\n",
    "image = cv2.imread(\"../data/test_images/word_images/word_3.jpg\")\n",
    "if image is None:\n",
    "    raise FileNotFoundError(\"ไม่พบไฟล์ภาพ กรุณาตรวจสอบเส้นทางของไฟล์\")\n",
    "\n",
    "# แปลงเป็น Grayscale\n",
    "gray = cv2.cvtColor(image, cv2.COLOR_BGR2GRAY)\n",
    "\n",
    "'''\n",
    "# แปลงเป็น Binary\n",
    "_, binary_image = cv2.threshold(gray, 150, 255, cv2.THRESH_BINARY_INV)  # Threshold ขาวดำ\n",
    "'''\n",
    "\n",
    "# การ Threshold แบบ Adaptive Gaussian\n",
    "binary_image = cv2.adaptiveThreshold(\n",
    "    gray, 255, cv2.ADAPTIVE_THRESH_GAUSSIAN_C, cv2.THRESH_BINARY_INV, 51,30\n",
    ")\n",
    "\n",
    "# คำนวณ Histogram Projection\n",
    "horizontal_projection = np.sum(binary_image, axis=1)  # รวมพิกเซลในแนวนอน\n",
    "\n",
    "threshold_value = 2000  # เพิ่มค่าให้เหมาะกับความหนาของตัวอักษร\n",
    "line_indices = np.where(horizontal_projection > threshold_value)[0]\n",
    "\n",
    "# แยกช่วงตำแหน่งแต่ละบรรทัด\n",
    "lines = []\n",
    "start_idx = None\n",
    "\n",
    "for i in range(len(line_indices) - 1):\n",
    "    if start_idx is None:\n",
    "        start_idx = line_indices[i]\n",
    "    if line_indices[i+1] > line_indices[i] + 1:  # เจอช่วงว่างระหว่างบรรทัด\n",
    "        end_idx = line_indices[i]\n",
    "        lines.append((start_idx, end_idx))\n",
    "        start_idx = None\n",
    "if start_idx is not None:\n",
    "    lines.append((start_idx, line_indices[-1]))\n",
    "\n",
    "print(\"Lines detected:\", lines)\n",
    "\n",
    "# แยกบรรทัดและเพิ่ม Padding\n",
    "line_images = []\n",
    "padding = 10  # ระบุ Padding\n",
    "\n",
    "for start, end in lines:\n",
    "    padded_start = max(0, start - padding)\n",
    "    padded_end = min(binary_image.shape[0], end + padding)\n",
    "    line_img = binary_image[padded_start:padded_end, :]\n",
    "    line_images.append(line_img)\n",
    "\n",
    "for idx, line_img in enumerate(line_images):\n",
    "    file_path = output_folder / f\"line_{idx + 1}.png\"\n",
    "    cv2.imwrite(str(file_path), line_img)\n",
    "    plt.figure()\n",
    "    plt.imshow(line_img, cmap=\"gray\")\n",
    "    plt.title(f\"Line {idx + 1}\")\n",
    "    plt.show()\n",
    "print(f\"Saved lines to {output_folder}\")\n",
    "\n",
    "'''\n",
    "# เพิ่มเส้นกรอบรอบข้อความแต่ละบรรทัด\n",
    "for start, end in lines:\n",
    "    cv2.rectangle(image, (0, start), (image.shape[1], end), (0, 255, 0), 2)\n",
    "cv2.imshow(\"Detected Lines\", image)\n",
    "cv2.imshow(\"Binary Image\", binary_image)\n",
    "cv2.waitKey(0)\n",
    "cv2.destroyAllWindows()\n",
    "\n",
    "# การแยกข้อความแต่ละบรรทัดออกเป็นภาพย่อย\n",
    "line_images = [binary_image[start:end, :] for start, end in lines]\n",
    "for idx, line_img in enumerate(line_images):\n",
    "    cv2.imshow(f\"Line {idx + 1}\", line_img)\n",
    "cv2.waitKey(0)\n",
    "cv2.destroyAllWindows()\n",
    "'''\n"
   ]
  },
  {
   "cell_type": "markdown",
   "metadata": {},
   "source": [
    "## Word/Character Detection\n",
    "ใช้ cv2.findContours เพื่อตรวจจับตัวอักษรหรือคำในแต่ละบรรทัด:"
   ]
  },
  {
   "cell_type": "markdown",
   "metadata": {},
   "source": [
    "### แบบใหม่"
   ]
  },
  {
   "cell_type": "code",
   "execution_count": 2,
   "metadata": {},
   "outputs": [
    {
     "name": "stdout",
     "output_type": "stream",
     "text": [
      "Line 1: Detected 33 characters\n",
      "Line 2: Detected 13 characters\n",
      "Saved 43 characters to ..\\data\\output_images\\output_characters\n"
     ]
    }
   ],
   "source": [
    "import cv2\n",
    "import numpy as np\n",
    "from pathlib import Path\n",
    "\n",
    "# สร้างโฟลเดอร์สำหรับเก็บตัวอักษร\n",
    "output_folder = Path(\"../data/output_images/output_characters\")  # ใช้ Path จาก pathlib\n",
    "output_folder.mkdir(exist_ok=True)  # สร้างโฟลเดอร์ หากไม่มีอยู่แล้ว\n",
    "\n",
    "char_images = []\n",
    "\n",
    "for idx, line_img in enumerate(line_images):\n",
    "    # หา Contours ในภาพแต่ละบรรทัด\n",
    "    contours, _ = cv2.findContours(line_img, cv2.RETR_EXTERNAL, cv2.CHAIN_APPROX_SIMPLE)\n",
    "    \n",
    "    # สร้างสำเนาภาพเพื่อวาดกรอบ\n",
    "    line_with_boxes = cv2.cvtColor(line_img, cv2.COLOR_GRAY2BGR)\n",
    "    \n",
    "    # เรียงตัวอักษรตามตำแหน่งซ้ายไปขวา\n",
    "    sorted_contours = sorted(contours, key=lambda c: cv2.boundingRect(c)[0])\n",
    "    \n",
    "    for contour in sorted_contours:\n",
    "        # คำนวณกรอบสี่เหลี่ยมรอบ Contour\n",
    "        x, y, w, h = cv2.boundingRect(contour)\n",
    "\n",
    "        # เพิ่มขนาดกรอบ 10%\n",
    "        padding_x = int(w * 0.1)  # เพิ่ม 10% ของความกว้าง\n",
    "        padding_y = int(h * 0.1)  # เพิ่ม 10% ของความสูง\n",
    "\n",
    "        # ปรับขอบเขตของกรอบ\n",
    "        x = max(0, x - padding_x)\n",
    "        y = max(0, y - padding_y)\n",
    "        w = min(line_img.shape[1] - x, w + 2 * padding_x)\n",
    "        h = min(line_img.shape[0] - y, h + 2 * padding_y)\n",
    "        \n",
    "        # กำหนดเงื่อนไขเพื่อกรอง Noise หรือกล่องเล็กเกินไป\n",
    "        if 2 < w < 200 and 5 < h < 200:  # ปรับค่าขนาดขั้นต่ำและสูงสุดตามต้องการ\n",
    "            # ตัดภาพตัวอักษร\n",
    "            char_img = line_img[y:y+h, x:x+w]\n",
    "            char_images.append(char_img)\n",
    "\n",
    "            # บันทึกตัวอักษร\n",
    "            file_path = output_folder / f\"line_{idx + 1}_char_{len(char_images)}.png\"\n",
    "            cv2.imwrite(str(file_path), char_img)  # แปลง Path เป็น String เพื่อใช้กับ OpenCV\n",
    "\n",
    "            # วาดกรอบสี่เหลี่ยมในภาพต้นฉบับ\n",
    "            cv2.rectangle(line_with_boxes, (x, y), (x + w, y + h), (0, 255, 0), 1)\n",
    "\n",
    "    # บันทึกภาพพร้อมกรอบตัวอักษร (ถ้าต้องการ)\n",
    "    boxed_line_path = output_folder / f\"line_{idx + 1}_boxed.png\"\n",
    "    cv2.imwrite(str(boxed_line_path), line_with_boxes)\n",
    "\n",
    "    print(f\"Line {idx + 1}: Detected {len(sorted_contours)} characters\")\n",
    "\n",
    "# รายงานผลลัพธ์\n",
    "print(f\"Saved {len(char_images)} characters to {output_folder}\")\n"
   ]
  },
  {
   "cell_type": "markdown",
   "metadata": {},
   "source": [
    "## Predict images"
   ]
  },
  {
   "cell_type": "code",
   "execution_count": 17,
   "metadata": {},
   "outputs": [
    {
     "name": "stdout",
     "output_type": "stream",
     "text": [
      "1/1 [==============================] - 0s 74ms/step\n",
      "Character 0: Predicted Label = 0 (100.00%)\n",
      "Character 1: Predicted Label = 1 (100.00%)\n",
      "Character 2: Predicted Label = 2 (100.00%)\n",
      "Character 3: Predicted Label = 3 (100.00%)\n",
      "Character 4: Predicted Label = 4 (99.98%)\n",
      "Character 5: Predicted Label = 5 (100.00%)\n",
      "Character 6: Predicted Label = 6 (61.06%)\n",
      "Character 7: Predicted Label = 7 (99.97%)\n",
      "Character 8: Predicted Label = 8 (98.81%)\n",
      "Character 9: Predicted Label = 9 (100.00%)\n"
     ]
    },
    {
     "data": {
      "image/png": "[encoded data removed]",
      "text/plain": [
       "<Figure size 1000x400 with 10 Axes>"
      ]
     },
     "metadata": {},
     "output_type": "display_data"
    }
   ],
   "source": [
    "import cv2\n",
    "import numpy as np\n",
    "from tensorflow.keras.models import load_model\n",
    "from PIL import Image, ImageOps\n",
    "import math\n",
    "import matplotlib.pyplot as plt\n",
    "\n",
    "#letter_class = [chr(i) for i in range(ord('a'), ord('z') + 1)]\n",
    "#letter_class = [chr(i) for i in range(ord('A'), ord('Z') + 1)]\n",
    "letter_class = [chr(i) for i in range(ord('0'), ord('9') + 1)]\n",
    "\n",
    "def resize_with_aspect_ratio_cv2(image, desired_size):\n",
    "    \"\"\"\n",
    "    ปรับขนาดภาพให้คงสัดส่วนเดิม และเพิ่ม Padding ให้ได้ขนาด desired_size x desired_size\n",
    "    \"\"\"\n",
    "    old_size = image.shape[:2]  # (height, width)\n",
    "    ratio = float(desired_size) / max(old_size)  # อัตราส่วนการปรับขนาด\n",
    "    new_size = tuple([int(x * ratio) for x in old_size])  # ขนาดใหม่ (height, width)\n",
    "\n",
    "    # Resize ภาพให้คงสัดส่วนเดิม\n",
    "    resized_image = cv2.resize(image, (new_size[1], new_size[0]), interpolation=cv2.INTER_AREA)\n",
    "\n",
    "    # คำนวณ Padding\n",
    "    delta_w = desired_size - new_size[1]  # Padding ด้านความกว้าง\n",
    "    delta_h = desired_size - new_size[0]  # Padding ด้านความสูง\n",
    "    top, bottom = delta_h // 2, delta_h - (delta_h // 2)\n",
    "    left, right = delta_w // 2, delta_w - (delta_w // 2)\n",
    "\n",
    "    # เพิ่ม Padding รอบภาพ\n",
    "    color = [0]  # สีดำสำหรับ Grayscale\n",
    "    padded_image = cv2.copyMakeBorder(resized_image, top, bottom, left, right, cv2.BORDER_CONSTANT, value=color)\n",
    "\n",
    "    return padded_image\n",
    "\n",
    "# โหลดโมเดลที่ฝึกไว้\n",
    "model_path = \"../models/arabic_numerals_model.h5\"\n",
    "#model_path = \"../models/eng_uppercase_model.h5\"\n",
    "#model_path = \"../models/eng_lowercase_model.h5\"\n",
    "model = load_model(model_path)\n",
    "\n",
    "# กำหนดขนาด Input ของโมเดล\n",
    "input_size = 32  # ขนาด 32x32\n",
    "\n",
    "# เตรียมข้อมูลจาก char_images\n",
    "processed_images = []\n",
    "\n",
    "for char_img in char_images:\n",
    "    # เพิ่ม Padding และปรับขนาดภาพ\n",
    "    padded_img = resize_with_aspect_ratio_cv2(char_img, input_size)\n",
    "    \n",
    "    # Normalization (เปลี่ยนค่าพิกเซลให้อยู่ในช่วง [0, 1])\n",
    "    normalized_img = padded_img / 255.0\n",
    "    \n",
    "    # เพิ่มช่องทางสี (Channel) สำหรับโมเดลที่รองรับ Input แบบ (Height, Width, Channels)\n",
    "    if len(normalized_img.shape) == 2:  # หากภาพเป็น Grayscale (2D)\n",
    "        normalized_img = np.expand_dims(normalized_img, axis=-1)\n",
    "    \n",
    "    # เก็บภาพที่ประมวลผลแล้ว\n",
    "    processed_images.append(normalized_img)\n",
    "\n",
    "# แปลงเป็น NumPy Array\n",
    "processed_images = np.array(processed_images)\n",
    "\n",
    "# ทำนายผลลัพธ์\n",
    "predictions = model.predict(processed_images)\n",
    "\n",
    "\n",
    "# แปลงค่าความน่าจะเป็นเป็นคลาสที่คาดการณ์ได้ และ Confidence Score\n",
    "predicted_classes = np.argmax(predictions, axis=1)\n",
    "confidence_scores = np.max(predictions, axis=1)  # ดึงค่าสูงสุดจากแต่ละแถว (ความมั่นใจของคลาสที่ทำนาย)\n",
    "\n",
    "# แสดงผลลัพธ์พร้อมภาพ\n",
    "num_images = len(processed_images)\n",
    "columns = 5  # จำนวนคอลัมน์ที่ต้องการ\n",
    "rows = math.ceil(num_images / columns)  # คำนวณจำนวนแถวตามจำนวนภาพ\n",
    "\n",
    "#plt.figure(figsize=(5, rows * 1))  # ปรับขนาดของกราฟให้รองรับจำนวนแถว\n",
    "plt.figure(figsize=(columns * 2, rows * 2))  # ขนาดของกราฟสัมพันธ์กับจำนวนแถวและคอลัมน์\n",
    "for idx, (padded_img, pred_label, confidence) in enumerate(zip(processed_images, predicted_classes, confidence_scores)):\n",
    "    plt.subplot(rows, columns, idx + 1)  # ปรับ subplot ตามจำนวนแถวและคอลัมน์\n",
    "\n",
    "    # แปลงภาพกลับเป็น 2D สำหรับการแสดงผล (ในกรณีที่เป็น (height, width, 1))\n",
    "    if padded_img.shape[-1] == 1:\n",
    "        padded_img = padded_img.squeeze()\n",
    "    \n",
    "    plt.imshow(padded_img, cmap='gray')  # แสดงภาพ Grayscale\n",
    "    #plt.title(f\"Pred: {pred_label + 1}\", fontsize=10)  # แสดง Label ที่ทำนาย\n",
    "    plt.title(f\"Pred: {letter_class[pred_label]} ({confidence:.2%})\", fontsize=10)  # แสดง Label และ % Confidence\n",
    "    plt.axis('off')  # ปิดแกน\n",
    "\n",
    "    print(f\"Character {idx}: Predicted Label = {letter_class[pred_label]} ({confidence:.2%})\")\n",
    "\n",
    "plt.tight_layout()  # จัด Layout ให้ชิดกัน\n",
    "plt.show()\n"
   ]
  }
 ],
 "metadata": {
  "kernelspec": {
   "display_name": "tfgpu",
   "language": "python",
   "name": "python3"
  },
  "language_info": {
   "codemirror_mode": {
    "name": "ipython",
    "version": 3
   },
   "file_extension": ".py",
   "mimetype": "text/x-python",
   "name": "python",
   "nbconvert_exporter": "python",
   "pygments_lexer": "ipython3",
   "version": "3.9.19"
  }
 },
 "nbformat": 4,
 "nbformat_minor": 2
}
