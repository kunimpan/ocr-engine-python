{
 "cells": [
  {
   "cell_type": "code",
   "execution_count": 1,
   "id": "e04591ec-5e95-4402-801c-cb514d53c844",
   "metadata": {},
   "outputs": [],
   "source": [
    "import cv2\n",
    "import easyocr\n",
    "import numpy as np\n",
    "from matplotlib import pyplot as plt\n",
    "from PIL import Image, ImageDraw, ImageFont"
   ]
  },
  {
   "cell_type": "markdown",
   "id": "81e86a7c-7eb4-4938-9345-f6e85229d57c",
   "metadata": {},
   "source": [
    "## Read images"
   ]
  },
  {
   "cell_type": "code",
   "execution_count": 4,
   "id": "2ecf077f-caab-4780-8fe9-11ce8eca1ea7",
   "metadata": {},
   "outputs": [],
   "source": [
    "IMAGE_PATH = 'test/text_table.png'"
   ]
  },
  {
   "cell_type": "code",
   "execution_count": 6,
   "id": "8a9d2187-9d83-4b6e-97ee-5a59a2638695",
   "metadata": {},
   "outputs": [
    {
     "name": "stderr",
     "output_type": "stream",
     "text": [
      "Neither CUDA nor MPS are available - defaulting to CPU. Note: This module is much faster with a GPU.\n"
     ]
    },
    {
     "name": "stdout",
     "output_type": "stream",
     "text": [
      "ข้อความที่อยู่ด้านล่างข้อความเป้าหมายทั้งหมด: [('วun', 0.6589136046747244), ('2544', 0.9999499917030334)]\n"
     ]
    }
   ],
   "source": [
    "import easyocr\n",
    "\n",
    "# โหลดโมเดล EasyOCR\n",
    "reader = easyocr.Reader(['en', 'th'])\n",
    "\n",
    "# อ่านภาพจาก EasyOCR\n",
    "results = reader.readtext(IMAGE_PATH)\n",
    "\n",
    "# กำหนดข้อความที่เราต้องการค้นหา\n",
    "target_text = \"ข้อความเป้าหมาย\"\n",
    "\n",
    "# สร้างรายการสำหรับเก็บผลลัพธ์\n",
    "below_texts = []\n",
    "target_text = \"big\"\n",
    "# ลูปผ่านผลลัพธ์ทั้งหมด\n",
    "for i, (bbox, text, confidence) in enumerate(results):\n",
    "    if target_text in text:\n",
    "        # ถ้าเจอข้อความเป้าหมาย ให้บันทึก Bounding Box\n",
    "        target_bbox = bbox\n",
    "        break\n",
    "\n",
    "# ถ้ามีข้อความเป้าหมายในภาพ\n",
    "if target_bbox:\n",
    "    x_min, y_min = target_bbox[0]\n",
    "    x_max, y_max = target_bbox[2]\n",
    "    \n",
    "    # ลูปผ่านผลลัพธ์อีกครั้งเพื่อตรวจสอบข้อความที่อยู่ด้านล่าง\n",
    "    for bbox, text, confidence in results:\n",
    "        x_text_min, y_text_min = bbox[0]\n",
    "        \n",
    "        if y_text_min > y_max:  # ข้อความที่อยู่ต่ำกว่าข้อความเป้าหมาย\n",
    "            below_texts.append((text, confidence))\n",
    "\n",
    "# แสดงผลลัพธ์\n",
    "print(\"ข้อความที่อยู่ด้านล่างข้อความเป้าหมายทั้งหมด:\", below_texts)\n"
   ]
  },
  {
   "cell_type": "markdown",
   "id": "09250f66-0c09-4285-bb38-aa6664800fa0",
   "metadata": {},
   "source": [
    "## Draw Results"
   ]
  },
  {
   "cell_type": "code",
   "execution_count": 73,
   "id": "25f79665-1914-4c26-ad0a-d856bcec6443",
   "metadata": {},
   "outputs": [
    {
     "name": "stdout",
     "output_type": "stream",
     "text": [
      "[79, 63]\n"
     ]
    }
   ],
   "source": []
  },
  {
   "cell_type": "code",
   "execution_count": null,
   "id": "adb656e2-21d9-4e15-9148-68432ad9567d",
   "metadata": {},
   "outputs": [],
   "source": []
  }
 ],
 "metadata": {
  "kernelspec": {
   "display_name": "Python 3 (ipykernel)",
   "language": "python",
   "name": "python3"
  },
  "language_info": {
   "codemirror_mode": {
    "name": "ipython",
    "version": 3
   },
   "file_extension": ".py",
   "mimetype": "text/x-python",
   "name": "python",
   "nbconvert_exporter": "python",
   "pygments_lexer": "ipython3",
   "version": "3.9.19"
  }
 },
 "nbformat": 4,
 "nbformat_minor": 5
}
