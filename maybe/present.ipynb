{
 "cells": [
  {
   "cell_type": "markdown",
   "metadata": {},
   "source": [
    "### import"
   ]
  },
  {
   "cell_type": "code",
   "execution_count": 1,
   "metadata": {},
   "outputs": [],
   "source": [
    "import cv2\n",
    "import numpy as np"
   ]
  },
  {
   "cell_type": "markdown",
   "metadata": {},
   "source": [
    "### import image and gray scale"
   ]
  },
  {
   "cell_type": "code",
   "execution_count": 2,
   "metadata": {},
   "outputs": [
    {
     "data": {
      "text/plain": [
       "True"
      ]
     },
     "execution_count": 2,
     "metadata": {},
     "output_type": "execute_result"
    }
   ],
   "source": [
    "#image = cv2.imread(\"images/transcript/pun_tran_mo.jpg\")\n",
    "#image = cv2.imread(\"images/test3.jpg\")\n",
    "#image = cv2.imread(\"images/table-text/text_table_01.jpg\")\n",
    "#image = cv2.imread(\"images/name_01.jpg\")\n",
    "#image = cv2.imread(\"images/name_02.jpg\")\n",
    "image = cv2.imread(\"images/transcript/pun_f.jpg\")\n",
    "#image = cv2.imread(\"images/transcript/pun_no_f.jpg\")\n",
    "\n",
    "gray = cv2.cvtColor(image, cv2.COLOR_BGR2GRAY)\n",
    "\n",
    "cv2.imwrite(\"present/gray_scale.jpg\", gray)"
   ]
  },
  {
   "cell_type": "markdown",
   "metadata": {},
   "source": [
    "### Binary-image"
   ]
  },
  {
   "cell_type": "code",
   "execution_count": 3,
   "metadata": {},
   "outputs": [
    {
     "data": {
      "text/plain": [
       "True"
      ]
     },
     "execution_count": 3,
     "metadata": {},
     "output_type": "execute_result"
    }
   ],
   "source": [
    "# Threshold-binary\n",
    "thresh, thresh_image = cv2.threshold(gray, 150, 255, cv2.THRESH_BINARY_INV)\n",
    "cv2.imwrite(\"present/thresh_binary.jpg\", thresh_image)\n",
    "\n",
    "# Adaptive-Threshold-Gaussian-C\n",
    "ath_gaussian = cv2.adaptiveThreshold(gray, 255, cv2.ADAPTIVE_THRESH_GAUSSIAN_C, cv2.THRESH_BINARY_INV, 51,25)\n",
    "cv2.imwrite(\"present/adaptive_threshold.jpg\", ath_gaussian)"
   ]
  },
  {
   "cell_type": "markdown",
   "metadata": {},
   "source": [
    "### Remove table"
   ]
  },
  {
   "cell_type": "code",
   "execution_count": 4,
   "metadata": {},
   "outputs": [
    {
     "data": {
      "text/plain": [
       "True"
      ]
     },
     "execution_count": 4,
     "metadata": {},
     "output_type": "execute_result"
    }
   ],
   "source": [
    "# Define a kernel for detecting horizontal lines\n",
    "horizontal_kernel = cv2.getStructuringElement(cv2.MORPH_RECT, (40, 1))\n",
    "horizontal_lines = cv2.morphologyEx(ath_gaussian, cv2.MORPH_OPEN, horizontal_kernel)\n",
    "\n",
    "# Define a kernel for detecting vertical lines\n",
    "vertical_kernel = cv2.getStructuringElement(cv2.MORPH_RECT, (1, 40))\n",
    "vertical_lines = cv2.morphologyEx(ath_gaussian, cv2.MORPH_OPEN, vertical_kernel)\n",
    "\n",
    "# Combine both horizontal and vertical lines\n",
    "table_lines = cv2.add(horizontal_lines, vertical_lines)\n",
    "\n",
    "# Subtract the table lines from the binary image\n",
    "table_removed = cv2.subtract(ath_gaussian, table_lines)\n",
    "\n",
    "cv2.imwrite(\"present/remove_table.jpg\", table_removed)"
   ]
  },
  {
   "cell_type": "markdown",
   "metadata": {},
   "source": [
    "### Contour"
   ]
  },
  {
   "cell_type": "code",
   "execution_count": 5,
   "metadata": {},
   "outputs": [
    {
     "data": {
      "text/plain": [
       "True"
      ]
     },
     "execution_count": 5,
     "metadata": {},
     "output_type": "execute_result"
    }
   ],
   "source": [
    "contours, _ = cv2.findContours(table_removed, cv2.RETR_EXTERNAL, cv2.CHAIN_APPROX_SIMPLE)\n",
    "\n",
    "# วาดกรอบล้อมรอบข้อความ\n",
    "for contour in contours:\n",
    "    x, y, w, h = cv2.boundingRect(contour)\n",
    "    if w > 2 and h > 2:\n",
    "        #cv2.rectangle(image, (x-1, y-1), (x + w + 1, y + h +1), (0, 255, 0), 1)\n",
    "        cv2.rectangle(image, (x, y), (x + w, y + h), (0, 255, 0), 1)\n",
    "\n",
    "cv2.imwrite(\"present/contour.jpg\", image)"
   ]
  },
  {
   "cell_type": "code",
   "execution_count": null,
   "metadata": {},
   "outputs": [],
   "source": []
  }
 ],
 "metadata": {
  "kernelspec": {
   "display_name": "Python 3",
   "language": "python",
   "name": "python3"
  },
  "language_info": {
   "codemirror_mode": {
    "name": "ipython",
    "version": 3
   },
   "file_extension": ".py",
   "mimetype": "text/x-python",
   "name": "python",
   "nbconvert_exporter": "python",
   "pygments_lexer": "ipython3",
   "version": "3.9.19"
  }
 },
 "nbformat": 4,
 "nbformat_minor": 2
}
