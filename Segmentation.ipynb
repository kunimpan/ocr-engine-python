{
 "cells": [
  {
   "cell_type": "code",
   "execution_count": 4,
   "metadata": {},
   "outputs": [],
   "source": [
    "import cv2\n",
    "import numpy as np\n",
    "\n",
    "# อ่านภาพ\n",
    "#image = cv2.imread('test/Image_20240817_0001.png')\n",
    "\n",
    "image = cv2.imread('test/name.png')\n",
    "\n",
    "# แปลงภาพเป็นสีเทา\n",
    "gray = cv2.cvtColor(image, cv2.COLOR_BGR2GRAY)\n",
    "\n",
    "# ใช้ GaussianBlur เพื่อลด noise\n",
    "blurred = cv2.GaussianBlur(gray, (5, 5), 0)\n",
    "\n",
    "# ใช้ threshold เพื่อแยกข้อความออกจากพื้นหลัง\n",
    "_, threshold_image = cv2.threshold(blurred, 200, 255, cv2.THRESH_BINARY_INV)\n",
    "\n",
    "# ค้นหา Contours ในภาพที่ threshold แล้ว\n",
    "contours, _ = cv2.findContours(threshold_image, cv2.RETR_EXTERNAL, cv2.CHAIN_APPROX_SIMPLE)\n",
    "\n",
    "# วาดกรอบล้อมรอบข้อความ\n",
    "for contour in contours:\n",
    "    x, y, w, h = cv2.boundingRect(contour)\n",
    "    \n",
    "    # กำหนดเงื่อนไขเพิ่มเติมสำหรับการเลือก contour ที่เป็นตัวอักษรหรือคำ (เช่น ความสูง/ความกว้างขั้นต่ำ)\n",
    "    if w > 10 and h > 10:\n",
    "        cv2.rectangle(image, (x, y), (x + w, y + h), (0, 255, 0), 2)\n",
    "\n",
    "# แสดงภาพที่มีการวาดกรอบล้อมรอบ\n",
    "cv2.imshow('Segmented Image', image)\n",
    "cv2.waitKey(0)\n",
    "cv2.destroyAllWindows()"
   ]
  },
  {
   "cell_type": "code",
   "execution_count": null,
   "metadata": {},
   "outputs": [],
   "source": []
  }
 ],
 "metadata": {
  "kernelspec": {
   "display_name": "Python 3",
   "language": "python",
   "name": "python3"
  },
  "language_info": {
   "codemirror_mode": {
    "name": "ipython",
    "version": 3
   },
   "file_extension": ".py",
   "mimetype": "text/x-python",
   "name": "python",
   "nbconvert_exporter": "python",
   "pygments_lexer": "ipython3",
   "version": "3.9.19"
  }
 },
 "nbformat": 4,
 "nbformat_minor": 2
}
