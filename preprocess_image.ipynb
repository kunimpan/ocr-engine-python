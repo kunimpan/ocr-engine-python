{
 "cells": [
  {
   "cell_type": "markdown",
   "metadata": {},
   "source": [
    "### Import"
   ]
  },
  {
   "cell_type": "code",
   "execution_count": 2,
   "metadata": {},
   "outputs": [],
   "source": [
    "import cv2\n",
    "import numpy as np"
   ]
  },
  {
   "cell_type": "markdown",
   "metadata": {},
   "source": [
    "### Canny edge detection and Probabilistic Hough Line Transform"
   ]
  },
  {
   "cell_type": "code",
   "execution_count": 116,
   "metadata": {},
   "outputs": [],
   "source": [
    "#image = cv2.imread(\"images/table-text/text_table.png\")\n",
    "image = cv2.imread(\"images/transcript/pun_20240817_0001.jpg\")\n",
    "#image = cv2.imread(\"images/eng-text/eng_text.jpg\")\n",
    "gray = cv2.cvtColor(image, cv2.COLOR_BGR2GRAY)\n",
    "\n",
    "thresh, th = cv2.threshold(gray, 200, 255, cv2.THRESH_BINARY_INV)\n",
    "\n",
    "# ใช้ Canny edge detection เพื่อหาขอบในภาพ\n",
    "edges = cv2.Canny(th, 150, 200, apertureSize=3)\n",
    "\n",
    "# ใช้ Hough Line Transform เพื่อตรวจจับเส้นตรง\n",
    "lines = cv2.HoughLinesP(edges, 1, np.pi / 180, threshold=100, minLineLength=150, maxLineGap=5)\n",
    "\n",
    "# ลบเส้นตรงออกจากภาพ\n",
    "if lines is not None:\n",
    "    for line in lines:\n",
    "        x1, y1, x2, y2 = line[0]\n",
    "        cv2.line(image, (x1, y1), (x2, y2), (255, 255, 255), 3)  # วาดเส้นตรงเป็นสีขาวเพื่อลบ\n",
    "\n",
    "\"\"\"\n",
    "# วาดเส้นที่ตรวจจับได้ลงบนภาพ\n",
    "for line in lines:\n",
    "    x1, y1, x2, y2 = line[0]\n",
    "    cv2.line(image, (x1, y1), (x2, y2), (0, 255, 0), 2)\n",
    "\"\"\"\n",
    "\n",
    "\"\"\"\n",
    "for contour in contours:\n",
    "    x, y, w, h = cv2.boundingRect(contour)\n",
    "    \n",
    "    # ตรวจสอบเงื่อนไขให้เหมาะสม เช่น ละเว้นพื้นที่ที่กว้างมากและแคบมาก ซึ่งมักจะเป็นเส้นตรงหรือตาราง\n",
    "    aspect_ratio = w / float(h)\n",
    "    if aspect_ratio < 1 and w > 1 and h > 1:  # ละเว้นวัตถุที่มีความกว้างมากๆ\n",
    "        cv2.rectangle(image, (x, y), (x + w, y + h), (0, 255, 0), 1)\n",
    "\"\"\"\n",
    "\n",
    "#cv2.imshow(\"Original\", gray)\n",
    "cv2.imwrite(\"images/processed-images/Original.jpg\", gray)\n",
    "cv2.imwrite('images/processed-images/THRESH_BINARY_INV2.jpg', th)\n",
    "cv2.imwrite(\"images/processed-images/edges.jpg\", edges)\n",
    "cv2.waitKey(0)\n",
    "cv2.destroyAllWindows()"
   ]
  },
  {
   "cell_type": "markdown",
   "metadata": {},
   "source": [
    "### Dilation"
   ]
  },
  {
   "cell_type": "code",
   "execution_count": 7,
   "metadata": {},
   "outputs": [
    {
     "data": {
      "text/plain": [
       "True"
      ]
     },
     "execution_count": 7,
     "metadata": {},
     "output_type": "execute_result"
    }
   ],
   "source": [
    "kernel = np.ones((3,3), np.uint8)\n",
    "dilation = cv2.dilate(th, kernel, iterations=1)\n",
    "cv2.imwrite('images/processed-images/Dilation.jpg', dilation)\n",
    "\n",
    "contours, _ = cv2.findContours(dilation, cv2.RETR_EXTERNAL, cv2.CHAIN_APPROX_SIMPLE)\n",
    "#contours, _ = cv2.findContours(dilation, cv2.RETR_EXTERNAL, cv2.CHAIN_APPROX_SIMPLE)\n",
    "# วาดกรอบล้อมรอบข้อความ\n",
    "x, y, w, h = cv2.boundingRect(contours[0])\n",
    "for contour in contours:\n",
    "    x, y, w, h = cv2.boundingRect(contour)\n",
    "    if w > 1 and h > 1:\n",
    "        cv2.rectangle(image, (x, y), (x + w, y + h), (0, 255, 0), 1)\n",
    "\n",
    "cv2.imwrite(\"images/processed-images/contour.jpg\", image)"
   ]
  },
  {
   "cell_type": "markdown",
   "metadata": {},
   "source": [
    "### Contours"
   ]
  },
  {
   "cell_type": "code",
   "execution_count": 8,
   "metadata": {},
   "outputs": [
    {
     "data": {
      "text/plain": [
       "True"
      ]
     },
     "execution_count": 8,
     "metadata": {},
     "output_type": "execute_result"
    }
   ],
   "source": [
    "contours, _ = cv2.findContours(dilation, cv2.RETR_EXTERNAL, cv2.CHAIN_APPROX_SIMPLE)\n",
    "#contours, _ = cv2.findContours(dilation, cv2.RETR_EXTERNAL, cv2.CHAIN_APPROX_SIMPLE)\n",
    "\n",
    "# วาดกรอบล้อมรอบข้อความ\n",
    "for contour in contours:\n",
    "    x, y, w, h = cv2.boundingRect(contour)\n",
    "    # กำหนดเงื่อนไขเพิ่มเติมสำหรับการเลือก contour ที่เป็นตัวอักษรหรือคำ\n",
    "    if w > 1 and h > 1:\n",
    "        cv2.rectangle(image, (x, y), (x + w, y + h), (0, 255, 0), 1)\n",
    "\n",
    "cv2.imwrite(\"images/processed-images/contour.jpg\", image)"
   ]
  },
  {
   "cell_type": "markdown",
   "metadata": {},
   "source": [
    "### Transcript"
   ]
  },
  {
   "cell_type": "code",
   "execution_count": 117,
   "metadata": {},
   "outputs": [
    {
     "data": {
      "text/plain": [
       "True"
      ]
     },
     "execution_count": 117,
     "metadata": {},
     "output_type": "execute_result"
    }
   ],
   "source": [
    "#image = cv2.imread(\"images/table-text/text_table.png\")\n",
    "image = cv2.imread(\"images/transcript/pun_tran_mo.jpg\")\n",
    "#image = cv2.imread(\"images/eng-text/eng_text.jpg\")\n",
    "gray = cv2.cvtColor(image, cv2.COLOR_BGR2GRAY)\n",
    "\n",
    "thresh, th = cv2.threshold(gray, 150, 255, cv2.THRESH_BINARY_INV)\n",
    "\n",
    "# ใช้ Canny edge detection เพื่อหาขอบในภาพ\n",
    "edges = cv2.Canny(th, 150, 200, apertureSize=3)\n",
    "\n",
    "# ใช้ Hough Line Transform เพื่อตรวจจับเส้นตรง\n",
    "lines = cv2.HoughLinesP(edges, 1, np.pi / 180, threshold=100, minLineLength=150, maxLineGap=5)\n",
    "\n",
    "# ลบเส้นตรงออกจากภาพ\n",
    "if lines is not None:\n",
    "    for line in lines:\n",
    "        x1, y1, x2, y2 = line[0]\n",
    "        cv2.line(image, (x1, y1), (x2, y2), (255, 255, 255), 3)  # วาดเส้นตรงเป็นสีขาวเพื่อลบ\n",
    "\n",
    "\n",
    "cv2.imwrite(\"images/processed-images/Original.jpg\", gray)\n",
    "cv2.imwrite('images/processed-images/THRESH_BINARY_INV2.jpg', th)\n",
    "cv2.imwrite(\"images/processed-images/edges.jpg\", edges)\n",
    "cv2.imwrite(\"images/processed-images/remove_table.jpg\", image)\n",
    "cv2.waitKey(0)\n",
    "cv2.destroyAllWindows()\n",
    "\n",
    "# no table\n",
    "gray = cv2.cvtColor(image, cv2.COLOR_BGR2GRAY)\n",
    "thresh, th = cv2.threshold(gray, 200, 255, cv2.THRESH_BINARY_INV)\n",
    "\n",
    "# Closing\n",
    "kernel = np.ones((2,2), np.uint8)\n",
    "dilation = cv2.dilate(th, kernel, iterations=1)\n",
    "cv2.imwrite('images/processed-images/Dilation.jpg', dilation)\n",
    "\n",
    "closing = cv2.morphologyEx(th, cv2.MORPH_CLOSE, kernel, iterations=1)\n",
    "cv2.imwrite('images/processed-images/closing.jpg', closing)\n",
    "\n",
    "\n",
    "\n",
    "#contours, _ = cv2.findContours(dilation, cv2.RETR_EXTERNAL, cv2.CHAIN_APPROX_SIMPLE)\n",
    "contours, _ = cv2.findContours(closing, cv2.RETR_EXTERNAL, cv2.CHAIN_APPROX_SIMPLE)\n",
    "\n",
    "\n",
    "# Contour\n",
    "# วาดกรอบล้อมรอบข้อความ\n",
    "for contour in contours:\n",
    "    x, y, w, h = cv2.boundingRect(contour)\n",
    "    # กำหนดเงื่อนไขเพิ่มเติมสำหรับการเลือก contour ที่เป็นตัวอักษรหรือคำ\n",
    "    if w > 1 and h > 1:\n",
    "        cv2.rectangle(image, (x, y), (x + w, y + h), (0, 255, 0), 1)\n",
    "\n",
    "cv2.imwrite(\"images/processed-images/contour.jpg\", image)"
   ]
  },
  {
   "cell_type": "markdown",
   "metadata": {},
   "source": [
    "### Adaptive Threshold"
   ]
  },
  {
   "cell_type": "code",
   "execution_count": 108,
   "metadata": {},
   "outputs": [
    {
     "data": {
      "text/plain": [
       "True"
      ]
     },
     "execution_count": 108,
     "metadata": {},
     "output_type": "execute_result"
    }
   ],
   "source": [
    "image = cv2.imread(\"images/transcript/pun_tran_mo.jpg\")\n",
    "#image = cv2.imread(\"images/eng-text/eng_text.jpg\")\n",
    "gray = cv2.cvtColor(image, cv2.COLOR_BGR2GRAY)\n",
    "ath_mean = cv2.adaptiveThreshold(gray, 255, cv2.ADAPTIVE_THRESH_MEAN_C, cv2.THRESH_BINARY_INV,51,30)\n",
    "ath_gaussian = cv2.adaptiveThreshold(gray, 255, cv2.ADAPTIVE_THRESH_GAUSSIAN_C, cv2.THRESH_BINARY_INV, 51,30)\n",
    "\n",
    "\n",
    "cv2.imwrite(\"images/processed-images/MEAN.jpg\", ath_mean)\n",
    "cv2.imwrite(\"images/processed-images/GAUSSIAN.jpg\", ath_gaussian)"
   ]
  },
  {
   "cell_type": "markdown",
   "metadata": {},
   "source": [
    "### Adaptive Threshold with contour"
   ]
  },
  {
   "cell_type": "code",
   "execution_count": 59,
   "metadata": {},
   "outputs": [
    {
     "ename": "NameError",
     "evalue": "name 'th' is not defined",
     "output_type": "error",
     "traceback": [
      "\u001b[1;31m---------------------------------------------------------------------------\u001b[0m",
      "\u001b[1;31mNameError\u001b[0m                                 Traceback (most recent call last)",
      "Cell \u001b[1;32mIn[59], line 32\u001b[0m\n\u001b[0;32m     30\u001b[0m \u001b[38;5;66;03m# Closing\u001b[39;00m\n\u001b[0;32m     31\u001b[0m kernel \u001b[38;5;241m=\u001b[39m np\u001b[38;5;241m.\u001b[39mones((\u001b[38;5;241m2\u001b[39m,\u001b[38;5;241m2\u001b[39m), np\u001b[38;5;241m.\u001b[39muint8)\n\u001b[1;32m---> 32\u001b[0m dilation \u001b[38;5;241m=\u001b[39m cv2\u001b[38;5;241m.\u001b[39mdilate(\u001b[43mth\u001b[49m, kernel, iterations\u001b[38;5;241m=\u001b[39m\u001b[38;5;241m1\u001b[39m)\n\u001b[0;32m     33\u001b[0m cv2\u001b[38;5;241m.\u001b[39mimwrite(\u001b[38;5;124m'\u001b[39m\u001b[38;5;124mimages/processed-images/Dilation.jpg\u001b[39m\u001b[38;5;124m'\u001b[39m, dilation)\n\u001b[0;32m     35\u001b[0m closing \u001b[38;5;241m=\u001b[39m cv2\u001b[38;5;241m.\u001b[39mmorphologyEx(th, cv2\u001b[38;5;241m.\u001b[39mMORPH_CLOSE, kernel, iterations\u001b[38;5;241m=\u001b[39m\u001b[38;5;241m1\u001b[39m)\n",
      "\u001b[1;31mNameError\u001b[0m: name 'th' is not defined"
     ]
    }
   ],
   "source": [
    "image = cv2.imread(\"images/transcript/pun_tran_mo.jpg\")\n",
    "gray = cv2.cvtColor(image, cv2.COLOR_BGR2GRAY)\n",
    "ath_gaussian = cv2.adaptiveThreshold(gray, 255, cv2.ADAPTIVE_THRESH_GAUSSIAN_C, cv2.THRESH_BINARY_INV, 51,30)\n",
    "\n",
    "\n",
    "# ใช้ Canny edge detection เพื่อหาขอบในภาพ\n",
    "edges = cv2.Canny(ath_gaussian, 150, 200, apertureSize=3)\n",
    "\n",
    "# ใช้ Hough Line Transform เพื่อตรวจจับเส้นตรง\n",
    "lines = cv2.HoughLinesP(edges, 1, np.pi / 180, threshold=100, minLineLength=150, maxLineGap=10)\n",
    "\n",
    "# ลบเส้นตรงออกจากภาพ\n",
    "if lines is not None:\n",
    "    for line in lines:\n",
    "        x1, y1, x2, y2 = line[0]\n",
    "        cv2.line(image, (x1, y1), (x2, y2), (255, 255, 255), 3)  # วาดเส้นตรงเป็นสีขาวเพื่อลบ\n",
    "\n",
    "\n",
    "cv2.imwrite(\"images/processed-images/Original.jpg\", gray)\n",
    "cv2.imwrite('images/processed-images/THRESH_BINARY_INV.jpg', ath_gaussian)\n",
    "cv2.imwrite(\"images/processed-images/edges.jpg\", edges)\n",
    "cv2.imwrite(\"images/processed-images/remove_table.jpg\", image)\n",
    "cv2.waitKey(0)\n",
    "cv2.destroyAllWindows()\n",
    "\n",
    "# no table\n",
    "gray = cv2.cvtColor(image, cv2.COLOR_BGR2GRAY)\n",
    "ath_gaussian = cv2.adaptiveThreshold(gray, 255, cv2.ADAPTIVE_THRESH_GAUSSIAN_C, cv2.THRESH_BINARY_INV, 51,30)\n",
    "\n",
    "# Closing\n",
    "kernel = np.ones((2,2), np.uint8)\n",
    "dilation = cv2.dilate(th, kernel, iterations=1)\n",
    "cv2.imwrite('images/processed-images/Dilation.jpg', dilation)\n",
    "\n",
    "closing = cv2.morphologyEx(th, cv2.MORPH_CLOSE, kernel, iterations=1)\n",
    "cv2.imwrite('images/processed-images/closing.jpg', closing)\n",
    "\n",
    "#contours, _ = cv2.findContours(dilation, cv2.RETR_EXTERNAL, cv2.CHAIN_APPROX_SIMPLE)\n",
    "contours, _ = cv2.findContours(closing, cv2.RETR_EXTERNAL, cv2.CHAIN_APPROX_SIMPLE)\n",
    "\n",
    "# Contour\n",
    "# วาดกรอบล้อมรอบข้อความ\n",
    "for contour in contours:\n",
    "    x, y, w, h = cv2.boundingRect(contour)\n",
    "    # กำหนดเงื่อนไขเพิ่มเติมสำหรับการเลือก contour ที่เป็นตัวอักษรหรือคำ\n",
    "    if w > 1 and h > 1:\n",
    "        cv2.rectangle(image, (x, y), (x + w, y + h), (0, 255, 0), 2)\n",
    "\n",
    "cv2.imwrite(\"images/processed-images/contour.jpg\", image)"
   ]
  },
  {
   "cell_type": "code",
   "execution_count": 61,
   "metadata": {},
   "outputs": [
    {
     "data": {
      "text/plain": [
       "True"
      ]
     },
     "execution_count": 61,
     "metadata": {},
     "output_type": "execute_result"
    }
   ],
   "source": [
    "image = cv2.imread(\"images/transcript/pun_tran_mo.jpg\")\n",
    "#image = cv2.imread(\"images/transcript/crop.jpg\")\n",
    "gray = cv2.cvtColor(image, cv2.COLOR_BGR2GRAY)\n",
    "ath_gaussian = cv2.adaptiveThreshold(gray, 255, cv2.ADAPTIVE_THRESH_GAUSSIAN_C, cv2.THRESH_BINARY_INV, 51,25)\n",
    "\n",
    "# Define a kernel for detecting horizontal lines\n",
    "horizontal_kernel = cv2.getStructuringElement(cv2.MORPH_RECT, (40, 1))\n",
    "horizontal_lines = cv2.morphologyEx(ath_gaussian, cv2.MORPH_OPEN, horizontal_kernel)\n",
    "\n",
    "# Define a kernel for detecting vertical lines\n",
    "vertical_kernel = cv2.getStructuringElement(cv2.MORPH_RECT, (1, 40))\n",
    "vertical_lines = cv2.morphologyEx(ath_gaussian, cv2.MORPH_OPEN, vertical_kernel)\n",
    "\n",
    "# Combine both horizontal and vertical lines\n",
    "table_lines = cv2.add(horizontal_lines, vertical_lines)\n",
    "\n",
    "# Subtract the table lines from the binary image\n",
    "table_removed = cv2.subtract(ath_gaussian, table_lines)\n",
    "\n",
    "cv2.imwrite(\"images/processed-images/Original.jpg\", gray)\n",
    "cv2.imwrite('images/processed-images/THRESH_BINARY_INV.jpg', ath_gaussian)\n",
    "cv2.waitKey(0)\n",
    "cv2.destroyAllWindows()\n",
    "\n",
    "# Closing\n",
    "kernel = np.ones((2,2), np.uint8)\n",
    "dilation = cv2.dilate(table_removed, kernel, iterations=1)\n",
    "cv2.imwrite('images/processed-images/Dilation.jpg', dilation)\n",
    "\n",
    "#closing = cv2.morphologyEx(table_removed, cv2.MORPH_CLOSE, kernel, iterations=5)\n",
    "#cv2.imwrite('images/processed-images/closing.jpg', closing)\n",
    "\n",
    "#contours, _ = cv2.findContours(ath_gaussian, cv2.RETR_EXTERNAL, cv2.CHAIN_APPROX_SIMPLE)\n",
    "contours, _ = cv2.findContours(dilation, cv2.RETR_EXTERNAL, cv2.CHAIN_APPROX_SIMPLE)\n",
    "\n",
    "\n",
    "# Contour\n",
    "# วาดกรอบล้อมรอบข้อความ\n",
    "for contour in contours:\n",
    "    x, y, w, h = cv2.boundingRect(contour)\n",
    "    # กำหนดเงื่อนไขเพิ่มเติมสำหรับการเลือก contour ที่เป็นตัวอักษรหรือคำ\n",
    "    if w > 2 and h > 2:\n",
    "        #cv2.rectangle(image, (x-1, y-1), (x + w + 1, y + h +1), (0, 255, 0), 1)\n",
    "        cv2.rectangle(image, (x, y), (x + w, y + h), (0, 255, 0), 1)\n",
    "\n",
    "cv2.imwrite(\"images/processed-images/contour.jpg\", image)"
   ]
  }
 ],
 "metadata": {
  "kernelspec": {
   "display_name": "tf",
   "language": "python",
   "name": "python3"
  },
  "language_info": {
   "codemirror_mode": {
    "name": "ipython",
    "version": 3
   },
   "file_extension": ".py",
   "mimetype": "text/x-python",
   "name": "python",
   "nbconvert_exporter": "python",
   "pygments_lexer": "ipython3",
   "version": "3.12.4"
  }
 },
 "nbformat": 4,
 "nbformat_minor": 2
}
